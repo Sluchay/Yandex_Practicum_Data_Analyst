{
 "cells": [
  {
   "cell_type": "markdown",
   "metadata": {
    "id": "E0vqbgi9ay0H"
   },
   "source": [
    "# Яндекс.Музыка\n",
    "работа Гусева Ивана."
   ]
  },
  {
   "cell_type": "markdown",
   "metadata": {
    "id": "VUC88oWjTJw2"
   },
   "source": [
    "Сравнение Москвы и Петербурга окружено мифами. Например:\n",
    " * Москва — мегаполис, подчинённый жёсткому ритму рабочей недели;\n",
    " * Петербург — культурная столица, со своими вкусами.\n",
    "\n",
    "На данных Яндекс.Музыки вы сравните поведение пользователей двух столиц.\n",
    "\n",
    "**Цель исследования** — проверьте три гипотезы:\n",
    "1. Активность пользователей зависит от дня недели. Причём в Москве и Петербурге это проявляется по-разному.\n",
    "2. В понедельник утром в Москве преобладают одни жанры, а в Петербурге — другие. Так же и вечером пятницы преобладают разные жанры — в зависимости от города. \n",
    "3. Москва и Петербург предпочитают разные жанры музыки. В Москве чаще слушают поп-музыку, в Петербурге — русский рэп.\n",
    "\n",
    "**Ход исследования**\n",
    "\n",
    "Данные о поведении пользователей вы получите из файла `yandex_music_project.csv`. О качестве данных ничего не известно. Поэтому перед проверкой гипотез понадобится обзор данных. \n",
    "\n",
    "Вы проверите данные на ошибки и оцените их влияние на исследование. Затем, на этапе предобработки вы поищете возможность исправить самые критичные ошибки данных.\n",
    " \n",
    "Таким образом, исследование пройдёт в три этапа:\n",
    " 1. Обзор данных.\n",
    " 2. Предобработка данных.\n",
    " 3. Проверка гипотез.\n",
    "\n"
   ]
  },
  {
   "cell_type": "markdown",
   "metadata": {
    "id": "Ml1hmfXC_Zcs"
   },
   "source": [
    "## Обзор данных\n",
    "\n",
    "Составьте первое представление о данных Яндекс.Музыки.\n",
    "\n",
    "\n"
   ]
  },
  {
   "cell_type": "markdown",
   "metadata": {
    "id": "57eAOGIz_Zcs"
   },
   "source": [
    "Основной инструмент аналитика — `pandas`. Импортируйте эту библиотеку."
   ]
  },
  {
   "cell_type": "code",
   "execution_count": 39,
   "metadata": {
    "id": "AXN7PHPN_Zcs"
   },
   "outputs": [],
   "source": [
    "import pandas as pd # импорт библиотеки pandas\n"
   ]
  },
  {
   "cell_type": "markdown",
   "metadata": {
    "id": "SG23P8tt_Zcs"
   },
   "source": [
    "Прочитайте файл `yandex_music_project.csv` из папки `/datasets` и сохраните его в переменной `df`:"
   ]
  },
  {
   "cell_type": "code",
   "execution_count": 40,
   "metadata": {
    "id": "fFVu7vqh_Zct"
   },
   "outputs": [],
   "source": [
    "df = pd.read_csv('/datasets/yandex_music_project.csv') # чтение файла с данными и сохранение в df\n"
   ]
  },
  {
   "cell_type": "markdown",
   "metadata": {
    "id": "rDoOMd3uTqnZ"
   },
   "source": [
    "Выведите на экран первые десять строк таблицы:"
   ]
  },
  {
   "cell_type": "code",
   "execution_count": 41,
   "metadata": {
    "id": "oWTVX3gW_Zct"
   },
   "outputs": [
    {
     "data": {
      "text/html": [
       "<div>\n",
       "<style scoped>\n",
       "    .dataframe tbody tr th:only-of-type {\n",
       "        vertical-align: middle;\n",
       "    }\n",
       "\n",
       "    .dataframe tbody tr th {\n",
       "        vertical-align: top;\n",
       "    }\n",
       "\n",
       "    .dataframe thead th {\n",
       "        text-align: right;\n",
       "    }\n",
       "</style>\n",
       "<table border=\"1\" class=\"dataframe\">\n",
       "  <thead>\n",
       "    <tr style=\"text-align: right;\">\n",
       "      <th></th>\n",
       "      <th>userID</th>\n",
       "      <th>Track</th>\n",
       "      <th>artist</th>\n",
       "      <th>genre</th>\n",
       "      <th>City</th>\n",
       "      <th>time</th>\n",
       "      <th>Day</th>\n",
       "    </tr>\n",
       "  </thead>\n",
       "  <tbody>\n",
       "    <tr>\n",
       "      <th>0</th>\n",
       "      <td>FFB692EC</td>\n",
       "      <td>Kamigata To Boots</td>\n",
       "      <td>The Mass Missile</td>\n",
       "      <td>rock</td>\n",
       "      <td>Saint-Petersburg</td>\n",
       "      <td>20:28:33</td>\n",
       "      <td>Wednesday</td>\n",
       "    </tr>\n",
       "    <tr>\n",
       "      <th>1</th>\n",
       "      <td>55204538</td>\n",
       "      <td>Delayed Because of Accident</td>\n",
       "      <td>Andreas Rönnberg</td>\n",
       "      <td>rock</td>\n",
       "      <td>Moscow</td>\n",
       "      <td>14:07:09</td>\n",
       "      <td>Friday</td>\n",
       "    </tr>\n",
       "    <tr>\n",
       "      <th>2</th>\n",
       "      <td>20EC38</td>\n",
       "      <td>Funiculì funiculà</td>\n",
       "      <td>Mario Lanza</td>\n",
       "      <td>pop</td>\n",
       "      <td>Saint-Petersburg</td>\n",
       "      <td>20:58:07</td>\n",
       "      <td>Wednesday</td>\n",
       "    </tr>\n",
       "    <tr>\n",
       "      <th>3</th>\n",
       "      <td>A3DD03C9</td>\n",
       "      <td>Dragons in the Sunset</td>\n",
       "      <td>Fire + Ice</td>\n",
       "      <td>folk</td>\n",
       "      <td>Saint-Petersburg</td>\n",
       "      <td>08:37:09</td>\n",
       "      <td>Monday</td>\n",
       "    </tr>\n",
       "    <tr>\n",
       "      <th>4</th>\n",
       "      <td>E2DC1FAE</td>\n",
       "      <td>Soul People</td>\n",
       "      <td>Space Echo</td>\n",
       "      <td>dance</td>\n",
       "      <td>Moscow</td>\n",
       "      <td>08:34:34</td>\n",
       "      <td>Monday</td>\n",
       "    </tr>\n",
       "    <tr>\n",
       "      <th>5</th>\n",
       "      <td>842029A1</td>\n",
       "      <td>Преданная</td>\n",
       "      <td>IMPERVTOR</td>\n",
       "      <td>rusrap</td>\n",
       "      <td>Saint-Petersburg</td>\n",
       "      <td>13:09:41</td>\n",
       "      <td>Friday</td>\n",
       "    </tr>\n",
       "    <tr>\n",
       "      <th>6</th>\n",
       "      <td>4CB90AA5</td>\n",
       "      <td>True</td>\n",
       "      <td>Roman Messer</td>\n",
       "      <td>dance</td>\n",
       "      <td>Moscow</td>\n",
       "      <td>13:00:07</td>\n",
       "      <td>Wednesday</td>\n",
       "    </tr>\n",
       "    <tr>\n",
       "      <th>7</th>\n",
       "      <td>F03E1C1F</td>\n",
       "      <td>Feeling This Way</td>\n",
       "      <td>Polina Griffith</td>\n",
       "      <td>dance</td>\n",
       "      <td>Moscow</td>\n",
       "      <td>20:47:49</td>\n",
       "      <td>Wednesday</td>\n",
       "    </tr>\n",
       "    <tr>\n",
       "      <th>8</th>\n",
       "      <td>8FA1D3BE</td>\n",
       "      <td>И вновь продолжается бой</td>\n",
       "      <td>NaN</td>\n",
       "      <td>ruspop</td>\n",
       "      <td>Moscow</td>\n",
       "      <td>09:17:40</td>\n",
       "      <td>Friday</td>\n",
       "    </tr>\n",
       "    <tr>\n",
       "      <th>9</th>\n",
       "      <td>E772D5C0</td>\n",
       "      <td>Pessimist</td>\n",
       "      <td>NaN</td>\n",
       "      <td>dance</td>\n",
       "      <td>Saint-Petersburg</td>\n",
       "      <td>21:20:49</td>\n",
       "      <td>Wednesday</td>\n",
       "    </tr>\n",
       "  </tbody>\n",
       "</table>\n",
       "</div>"
      ],
      "text/plain": [
       "     userID                        Track            artist   genre  \\\n",
       "0  FFB692EC            Kamigata To Boots  The Mass Missile    rock   \n",
       "1  55204538  Delayed Because of Accident  Andreas Rönnberg    rock   \n",
       "2    20EC38            Funiculì funiculà       Mario Lanza     pop   \n",
       "3  A3DD03C9        Dragons in the Sunset        Fire + Ice    folk   \n",
       "4  E2DC1FAE                  Soul People        Space Echo   dance   \n",
       "5  842029A1                    Преданная         IMPERVTOR  rusrap   \n",
       "6  4CB90AA5                         True      Roman Messer   dance   \n",
       "7  F03E1C1F             Feeling This Way   Polina Griffith   dance   \n",
       "8  8FA1D3BE     И вновь продолжается бой               NaN  ruspop   \n",
       "9  E772D5C0                    Pessimist               NaN   dance   \n",
       "\n",
       "             City        time        Day  \n",
       "0  Saint-Petersburg  20:28:33  Wednesday  \n",
       "1            Moscow  14:07:09     Friday  \n",
       "2  Saint-Petersburg  20:58:07  Wednesday  \n",
       "3  Saint-Petersburg  08:37:09     Monday  \n",
       "4            Moscow  08:34:34     Monday  \n",
       "5  Saint-Petersburg  13:09:41     Friday  \n",
       "6            Moscow  13:00:07  Wednesday  \n",
       "7            Moscow  20:47:49  Wednesday  \n",
       "8            Moscow  09:17:40     Friday  \n",
       "9  Saint-Petersburg  21:20:49  Wednesday  "
      ]
     },
     "execution_count": 41,
     "metadata": {},
     "output_type": "execute_result"
    }
   ],
   "source": [
    "df.head(10) # получение первых 10 строк таблицы df"
   ]
  },
  {
   "cell_type": "markdown",
   "metadata": {
    "id": "EO73Kwic_Zct"
   },
   "source": [
    "Одной командой получить общую информацию о таблице:"
   ]
  },
  {
   "cell_type": "code",
   "execution_count": 42,
   "metadata": {
    "id": "DSf2kIb-_Zct"
   },
   "outputs": [
    {
     "name": "stdout",
     "output_type": "stream",
     "text": [
      "<class 'pandas.core.frame.DataFrame'>\n",
      "RangeIndex: 65079 entries, 0 to 65078\n",
      "Data columns (total 7 columns):\n",
      " #   Column    Non-Null Count  Dtype \n",
      "---  ------    --------------  ----- \n",
      " 0     userID  65079 non-null  object\n",
      " 1   Track     63848 non-null  object\n",
      " 2   artist    57876 non-null  object\n",
      " 3   genre     63881 non-null  object\n",
      " 4     City    65079 non-null  object\n",
      " 5   time      65079 non-null  object\n",
      " 6   Day       65079 non-null  object\n",
      "dtypes: object(7)\n",
      "memory usage: 3.5+ MB\n"
     ]
    }
   ],
   "source": [
    "df.info() # получение общей информации о данных в таблице df"
   ]
  },
  {
   "cell_type": "markdown",
   "metadata": {
    "id": "TaQ2Iwbr_Zct"
   },
   "source": [
    "Итак, в таблице семь столбцов. Тип данных во всех столбцах — `object`.\n",
    "\n",
    "Согласно документации к данным:\n",
    "* `userID` — идентификатор пользователя;\n",
    "* `Track` — название трека;  \n",
    "* `artist` — имя исполнителя;\n",
    "* `genre` — название жанра;\n",
    "* `City` — город пользователя;\n",
    "* `time` — время начала прослушивания;\n",
    "* `Day` — день недели.\n",
    "\n",
    "В названиях колонок видны три нарушения стиля:\n",
    "1. Строчные буквы сочетаются с прописными.\n",
    "2. Встречаются пробелы.\n",
    "3. Так же лучше использовать змеиный регистр.\n",
    "\n",
    "\n",
    "\n",
    "Количество значений в столбцах различается. Значит, в данных есть пропущенные значения.\n"
   ]
  },
  {
   "cell_type": "markdown",
   "metadata": {
    "id": "MCB6-dXG_Zct"
   },
   "source": [
    "**Выводы**\n",
    "\n",
    "В каждой строке таблицы — данные о прослушанном треке. Часть колонок описывает саму композицию: название, исполнителя и жанр. Остальные данные рассказывают о пользователе: из какого он города, когда он слушал музыку. \n",
    "\n",
    "Предварительно можно утверждать, что, данных достаточно для проверки гипотез. Но встречаются пропуски в данных, а в названиях колонок — расхождения с хорошим стилем.\n",
    "\n",
    "Чтобы двигаться дальше, нужно устранить проблемы в данных."
   ]
  },
  {
   "cell_type": "markdown",
   "metadata": {
    "id": "SjYF6Ub9_Zct"
   },
   "source": [
    "## Предобработка данных\n",
    "Исправьте стиль в заголовках столбцов, исключите пропуски. Затем проверьте данные на дубликаты."
   ]
  },
  {
   "cell_type": "markdown",
   "metadata": {
    "id": "dIaKXr29_Zct"
   },
   "source": [
    "### Стиль заголовков\n",
    "Выведите на экран названия столбцов:"
   ]
  },
  {
   "cell_type": "code",
   "execution_count": 43,
   "metadata": {
    "id": "oKOTdF_Q_Zct"
   },
   "outputs": [
    {
     "data": {
      "text/plain": [
       "Index(['  userID', 'Track', 'artist', 'genre', '  City  ', 'time', 'Day'], dtype='object')"
      ]
     },
     "execution_count": 43,
     "metadata": {},
     "output_type": "execute_result"
    }
   ],
   "source": [
    "df.columns # перечень названий столбцов таблицы df"
   ]
  },
  {
   "cell_type": "markdown",
   "metadata": {
    "id": "zj5534cv_Zct"
   },
   "source": [
    "Приведите названия в соответствие с хорошим стилем:\n",
    "* несколько слов в названии запишите в «змеином_регистре»,\n",
    "* все символы сделайте строчными,\n",
    "* устраните пробелы.\n",
    "\n",
    "Для этого переименуйте колонки так:\n",
    "* `'  userID'` → `'user_id'`;\n",
    "* `'Track'` → `'track'`;\n",
    "* `'  City  '` → `'city'`;\n",
    "* `'Day'` → `'day'`."
   ]
  },
  {
   "cell_type": "code",
   "execution_count": 44,
   "metadata": {
    "id": "ISlFqs5y_Zct"
   },
   "outputs": [],
   "source": [
    "df = df.rename(columns= {'  userID':'user_id','Track':'track','  City  ':'city','Day':'day'})  # переименование столбцов"
   ]
  },
  {
   "cell_type": "markdown",
   "metadata": {
    "id": "1dqbh00J_Zct"
   },
   "source": [
    "Проверьте результат. Для этого ещё раз выведите на экран названия столбцов:"
   ]
  },
  {
   "cell_type": "code",
   "execution_count": 45,
   "metadata": {
    "id": "d4NOAmTW_Zct"
   },
   "outputs": [
    {
     "data": {
      "text/plain": [
       "Index(['user_id', 'track', 'artist', 'genre', 'city', 'time', 'day'], dtype='object')"
      ]
     },
     "execution_count": 45,
     "metadata": {},
     "output_type": "execute_result"
    }
   ],
   "source": [
    "df.columns # проверка результатов - перечень названий столбцов"
   ]
  },
  {
   "cell_type": "markdown",
   "metadata": {
    "id": "5ISfbcfY_Zct"
   },
   "source": [
    "### Пропуски значений\n",
    "Сначала посчитайте, сколько в таблице пропущенных значений. Для этого достаточно двух методов `pandas`:"
   ]
  },
  {
   "cell_type": "code",
   "execution_count": 46,
   "metadata": {
    "id": "RskX29qr_Zct"
   },
   "outputs": [
    {
     "data": {
      "text/plain": [
       "user_id       0\n",
       "track      1231\n",
       "artist     7203\n",
       "genre      1198\n",
       "city          0\n",
       "time          0\n",
       "day           0\n",
       "dtype: int64"
      ]
     },
     "execution_count": 46,
     "metadata": {},
     "output_type": "execute_result"
    }
   ],
   "source": [
    "df.isnull().sum()# подсчёт пропусков\n",
    "df.isna().sum()"
   ]
  },
  {
   "cell_type": "markdown",
   "metadata": {
    "id": "qubhgnlO_Zct"
   },
   "source": [
    "Не все пропущенные значения влияют на исследование. Так в `track` и `artist` пропуски не важны для вашей работы. Достаточно заменить их явными обозначениями.\n",
    "\n",
    "Но пропуски в `genre` могут помешать сравнению музыкальных вкусов в Москве и Санкт-Петербурге. На практике было бы правильно установить причину пропусков и восстановить данные. Такой возможности нет в учебном проекте. Придётся:\n",
    "* заполнить и эти пропуски явными обозначениями,\n",
    "* оценить, насколько они повредят расчётам. "
   ]
  },
  {
   "cell_type": "markdown",
   "metadata": {
    "id": "fSv2laPA_Zct"
   },
   "source": [
    "Замените пропущенные значения в столбцах `track`, `artist` и `genre` на строку `'unknown'`. Для этого создайте список `columns_to_replace`, переберите его элементы циклом `for` и для каждого столбца выполните замену пропущенных значений:"
   ]
  },
  {
   "cell_type": "code",
   "execution_count": 47,
   "metadata": {
    "id": "KplB5qWs_Zct"
   },
   "outputs": [],
   "source": [
    "columns_to_replace = ['track','artist','genre'] # перебор названий столбцов в цикле и замена пропущенных значений на 'unknown'\n",
    "for k in columns_to_replace:\n",
    "    df[k] = df[k].fillna('unknown')"
   ]
  },
  {
   "cell_type": "markdown",
   "metadata": {
    "id": "Ilsm-MZo_Zct"
   },
   "source": [
    "Убедитесь, что в таблице не осталось пропусков. Для этого ещё раз посчитайте пропущенные значения."
   ]
  },
  {
   "cell_type": "code",
   "execution_count": 48,
   "metadata": {
    "id": "Tq4nYRX4_Zct"
   },
   "outputs": [
    {
     "name": "stdout",
     "output_type": "stream",
     "text": [
      "user_id    0\n",
      "track      0\n",
      "artist     0\n",
      "genre      0\n",
      "city       0\n",
      "time       0\n",
      "day        0\n",
      "dtype: int64\n"
     ]
    }
   ],
   "source": [
    "print(df.isna().sum()) # подсчёт пропусков"
   ]
  },
  {
   "cell_type": "markdown",
   "metadata": {
    "id": "BWKRtBJ3_Zct"
   },
   "source": [
    "### Дубликаты\n",
    "Посчитайте явные дубликаты в таблице одной командой:"
   ]
  },
  {
   "cell_type": "code",
   "execution_count": 49,
   "metadata": {
    "id": "36eES_S0_Zct"
   },
   "outputs": [
    {
     "data": {
      "text/plain": [
       "3826"
      ]
     },
     "execution_count": 49,
     "metadata": {},
     "output_type": "execute_result"
    }
   ],
   "source": [
    "df.duplicated().sum() # подсчёт явных дубликатов"
   ]
  },
  {
   "cell_type": "markdown",
   "metadata": {
    "id": "Ot25h6XR_Zct"
   },
   "source": [
    "Вызовите специальный метод `pandas`, чтобы удалить явные дубликаты:"
   ]
  },
  {
   "cell_type": "code",
   "execution_count": 50,
   "metadata": {
    "id": "exFHq6tt_Zct"
   },
   "outputs": [],
   "source": [
    "df = df.drop_duplicates().reset_index(drop = True)  # удаление явных дубликатов (с удалением старых индексов и формированием новых)"
   ]
  },
  {
   "cell_type": "markdown",
   "metadata": {
    "id": "Im2YwBEG_Zct"
   },
   "source": [
    "Ещё раз посчитайте явные дубликаты в таблице — убедитесь, что полностью от них избавились:"
   ]
  },
  {
   "cell_type": "code",
   "execution_count": 51,
   "metadata": {
    "id": "-8PuNWQ0_Zct"
   },
   "outputs": [
    {
     "data": {
      "text/plain": [
       "0"
      ]
     },
     "execution_count": 51,
     "metadata": {},
     "output_type": "execute_result"
    }
   ],
   "source": [
    "df.duplicated().sum() # проверка на отсутствие дубликатов"
   ]
  },
  {
   "cell_type": "markdown",
   "metadata": {
    "id": "QlFBsxAr_Zct"
   },
   "source": [
    "Теперь избавьтесь от неявных дубликатов в колонке `genre`. Например, название одного и того же жанра может быть записано немного по-разному. Такие ошибки тоже повлияют на результат исследования."
   ]
  },
  {
   "cell_type": "markdown",
   "metadata": {
    "id": "eSjWwsOh_Zct"
   },
   "source": [
    "Выведите на экран список уникальных названий жанров, отсортированный в алфавитном порядке. Для этого:\n",
    "* извлеките нужный столбец датафрейма, \n",
    "* примените к нему метод сортировки,\n",
    "* для отсортированного столбца вызовите метод, который вернёт уникальные значения из столбца."
   ]
  },
  {
   "cell_type": "code",
   "execution_count": 52,
   "metadata": {
    "id": "JIUcqzZN_Zct"
   },
   "outputs": [
    {
     "data": {
      "text/plain": [
       "array(['acid', 'acoustic', 'action', 'adult', 'africa', 'afrikaans',\n",
       "       'alternative', 'alternativepunk', 'ambient', 'americana',\n",
       "       'animated', 'anime', 'arabesk', 'arabic', 'arena',\n",
       "       'argentinetango', 'art', 'audiobook', 'author', 'avantgarde',\n",
       "       'axé', 'baile', 'balkan', 'beats', 'bigroom', 'black', 'bluegrass',\n",
       "       'blues', 'bollywood', 'bossa', 'brazilian', 'breakbeat', 'breaks',\n",
       "       'broadway', 'cantautori', 'cantopop', 'canzone', 'caribbean',\n",
       "       'caucasian', 'celtic', 'chamber', 'chanson', 'children', 'chill',\n",
       "       'chinese', 'choral', 'christian', 'christmas', 'classical',\n",
       "       'classicmetal', 'club', 'colombian', 'comedy', 'conjazz',\n",
       "       'contemporary', 'country', 'cuban', 'dance', 'dancehall',\n",
       "       'dancepop', 'dark', 'death', 'deep', 'deutschrock', 'deutschspr',\n",
       "       'dirty', 'disco', 'dnb', 'documentary', 'downbeat', 'downtempo',\n",
       "       'drum', 'dub', 'dubstep', 'eastern', 'easy', 'electronic',\n",
       "       'electropop', 'emo', 'entehno', 'epicmetal', 'estrada', 'ethnic',\n",
       "       'eurofolk', 'european', 'experimental', 'extrememetal', 'fado',\n",
       "       'fairytail', 'film', 'fitness', 'flamenco', 'folk', 'folklore',\n",
       "       'folkmetal', 'folkrock', 'folktronica', 'forró', 'frankreich',\n",
       "       'französisch', 'french', 'funk', 'future', 'gangsta', 'garage',\n",
       "       'german', 'ghazal', 'gitarre', 'glitch', 'gospel', 'gothic',\n",
       "       'grime', 'grunge', 'gypsy', 'handsup', \"hard'n'heavy\", 'hardcore',\n",
       "       'hardstyle', 'hardtechno', 'hip', 'hip-hop', 'hiphop',\n",
       "       'historisch', 'holiday', 'hop', 'horror', 'house', 'hymn', 'idm',\n",
       "       'independent', 'indian', 'indie', 'indipop', 'industrial',\n",
       "       'inspirational', 'instrumental', 'international', 'irish', 'jam',\n",
       "       'japanese', 'jazz', 'jewish', 'jpop', 'jungle', 'k-pop',\n",
       "       'karadeniz', 'karaoke', 'kayokyoku', 'korean', 'laiko', 'latin',\n",
       "       'latino', 'leftfield', 'local', 'lounge', 'loungeelectronic',\n",
       "       'lovers', 'malaysian', 'mandopop', 'marschmusik', 'meditative',\n",
       "       'mediterranean', 'melodic', 'metal', 'metalcore', 'mexican',\n",
       "       'middle', 'minimal', 'miscellaneous', 'modern', 'mood', 'mpb',\n",
       "       'muslim', 'native', 'neoklassik', 'neue', 'new', 'newage',\n",
       "       'newwave', 'nu', 'nujazz', 'numetal', 'oceania', 'old', 'opera',\n",
       "       'orchestral', 'other', 'piano', 'podcasts', 'pop', 'popdance',\n",
       "       'popelectronic', 'popeurodance', 'poprussian', 'post',\n",
       "       'posthardcore', 'postrock', 'power', 'progmetal', 'progressive',\n",
       "       'psychedelic', 'punjabi', 'punk', 'quebecois', 'ragga', 'ram',\n",
       "       'rancheras', 'rap', 'rave', 'reggae', 'reggaeton', 'regional',\n",
       "       'relax', 'religious', 'retro', 'rhythm', 'rnb', 'rnr', 'rock',\n",
       "       'rockabilly', 'rockalternative', 'rockindie', 'rockother',\n",
       "       'romance', 'roots', 'ruspop', 'rusrap', 'rusrock', 'russian',\n",
       "       'salsa', 'samba', 'scenic', 'schlager', 'self', 'sertanejo',\n",
       "       'shanson', 'shoegazing', 'showtunes', 'singer', 'ska', 'skarock',\n",
       "       'slow', 'smooth', 'soft', 'soul', 'soulful', 'sound', 'soundtrack',\n",
       "       'southern', 'specialty', 'speech', 'spiritual', 'sport',\n",
       "       'stonerrock', 'surf', 'swing', 'synthpop', 'synthrock',\n",
       "       'sängerportrait', 'tango', 'tanzorchester', 'taraftar', 'tatar',\n",
       "       'tech', 'techno', 'teen', 'thrash', 'top', 'traditional',\n",
       "       'tradjazz', 'trance', 'tribal', 'trip', 'triphop', 'tropical',\n",
       "       'türk', 'türkçe', 'ukrrock', 'unknown', 'urban', 'uzbek',\n",
       "       'variété', 'vi', 'videogame', 'vocal', 'western', 'world',\n",
       "       'worldbeat', 'ïîï', 'электроника'], dtype=object)"
      ]
     },
     "execution_count": 52,
     "metadata": {},
     "output_type": "execute_result"
    }
   ],
   "source": [
    "df['genre'].sort_values().unique() # Просмотр уникальных названий жанров"
   ]
  },
  {
   "cell_type": "markdown",
   "metadata": {
    "id": "qej-Qmuo_Zct"
   },
   "source": [
    "Просмотрите список и найдите неявные дубликаты названия `hiphop`. Это могут быть названия с ошибками или альтернативные названия того же жанра.\n",
    "\n",
    "Вы увидите следующие неявные дубликаты:\n",
    "* *hip*,\n",
    "* *hop*,\n",
    "* *hip-hop*.\n",
    "\n",
    "Чтобы очистить от них таблицу, напишите функцию `replace_wrong_genres()` с двумя параметрами: \n",
    "* `wrong_genres` — список дубликатов,\n",
    "* `correct_genre` — строка с правильным значением.\n",
    "\n",
    "Функция должна исправить колонку `genre` в таблице `df`: заменить каждое значение из списка `wrong_genres` на значение из `correct_genre`."
   ]
  },
  {
   "cell_type": "code",
   "execution_count": 53,
   "metadata": {
    "id": "ErNDkmns_Zct"
   },
   "outputs": [],
   "source": [
    "def replace_wrong_genres(wrong_genres,correct_genre='hiphop'): # Функция для замены неявных дубликатов\n",
    "    for wrong_genre in wrong_genres:\n",
    "        df['genre'] = df['genre'].replace(wrong_genre,correct_genre)\n"
   ]
  },
  {
   "cell_type": "markdown",
   "metadata": {
    "id": "aDoBJxbA_Zct"
   },
   "source": [
    "Вызовите `replace_wrong_genres()` и передайте ей такие аргументы, чтобы она устранила неявные дубликаты: вместо `hip`, `hop` и `hip-hop` в таблице должно быть значение `hiphop`:"
   ]
  },
  {
   "cell_type": "code",
   "execution_count": 54,
   "metadata": {
    "id": "YN5i2hpmSo09"
   },
   "outputs": [],
   "source": [
    "replace_wrong_genres(['hip','hop','hip-hop'],'hiphop')\n",
    "replace_wrong_genres('электроника','electronic') # Устранение неявных дубликатов"
   ]
  },
  {
   "cell_type": "markdown",
   "metadata": {
    "id": "zQKF16_RG15m"
   },
   "source": [
    "Проверьте, что заменили неправильные названия:\n",
    "\n",
    "*   hip\n",
    "*   hop\n",
    "*   hip-hop\n",
    "\n",
    "Выведите отсортированный список уникальных значений столбца `genre`:"
   ]
  },
  {
   "cell_type": "code",
   "execution_count": 55,
   "metadata": {
    "id": "wvixALnFG15m"
   },
   "outputs": [
    {
     "data": {
      "text/plain": [
       "array(['acid', 'acoustic', 'action', 'adult', 'africa', 'afrikaans',\n",
       "       'alternative', 'alternativepunk', 'ambient', 'americana',\n",
       "       'animated', 'anime', 'arabesk', 'arabic', 'arena',\n",
       "       'argentinetango', 'art', 'audiobook', 'author', 'avantgarde',\n",
       "       'axé', 'baile', 'balkan', 'beats', 'bigroom', 'black', 'bluegrass',\n",
       "       'blues', 'bollywood', 'bossa', 'brazilian', 'breakbeat', 'breaks',\n",
       "       'broadway', 'cantautori', 'cantopop', 'canzone', 'caribbean',\n",
       "       'caucasian', 'celtic', 'chamber', 'chanson', 'children', 'chill',\n",
       "       'chinese', 'choral', 'christian', 'christmas', 'classical',\n",
       "       'classicmetal', 'club', 'colombian', 'comedy', 'conjazz',\n",
       "       'contemporary', 'country', 'cuban', 'dance', 'dancehall',\n",
       "       'dancepop', 'dark', 'death', 'deep', 'deutschrock', 'deutschspr',\n",
       "       'dirty', 'disco', 'dnb', 'documentary', 'downbeat', 'downtempo',\n",
       "       'drum', 'dub', 'dubstep', 'eastern', 'easy', 'electronic',\n",
       "       'electropop', 'emo', 'entehno', 'epicmetal', 'estrada', 'ethnic',\n",
       "       'eurofolk', 'european', 'experimental', 'extrememetal', 'fado',\n",
       "       'fairytail', 'film', 'fitness', 'flamenco', 'folk', 'folklore',\n",
       "       'folkmetal', 'folkrock', 'folktronica', 'forró', 'frankreich',\n",
       "       'französisch', 'french', 'funk', 'future', 'gangsta', 'garage',\n",
       "       'german', 'ghazal', 'gitarre', 'glitch', 'gospel', 'gothic',\n",
       "       'grime', 'grunge', 'gypsy', 'handsup', \"hard'n'heavy\", 'hardcore',\n",
       "       'hardstyle', 'hardtechno', 'hiphop', 'historisch', 'holiday',\n",
       "       'horror', 'house', 'hymn', 'idm', 'independent', 'indian', 'indie',\n",
       "       'indipop', 'industrial', 'inspirational', 'instrumental',\n",
       "       'international', 'irish', 'jam', 'japanese', 'jazz', 'jewish',\n",
       "       'jpop', 'jungle', 'k-pop', 'karadeniz', 'karaoke', 'kayokyoku',\n",
       "       'korean', 'laiko', 'latin', 'latino', 'leftfield', 'local',\n",
       "       'lounge', 'loungeelectronic', 'lovers', 'malaysian', 'mandopop',\n",
       "       'marschmusik', 'meditative', 'mediterranean', 'melodic', 'metal',\n",
       "       'metalcore', 'mexican', 'middle', 'minimal', 'miscellaneous',\n",
       "       'modern', 'mood', 'mpb', 'muslim', 'native', 'neoklassik', 'neue',\n",
       "       'new', 'newage', 'newwave', 'nu', 'nujazz', 'numetal', 'oceania',\n",
       "       'old', 'opera', 'orchestral', 'other', 'piano', 'podcasts', 'pop',\n",
       "       'popdance', 'popelectronic', 'popeurodance', 'poprussian', 'post',\n",
       "       'posthardcore', 'postrock', 'power', 'progmetal', 'progressive',\n",
       "       'psychedelic', 'punjabi', 'punk', 'quebecois', 'ragga', 'ram',\n",
       "       'rancheras', 'rap', 'rave', 'reggae', 'reggaeton', 'regional',\n",
       "       'relax', 'religious', 'retro', 'rhythm', 'rnb', 'rnr', 'rock',\n",
       "       'rockabilly', 'rockalternative', 'rockindie', 'rockother',\n",
       "       'romance', 'roots', 'ruspop', 'rusrap', 'rusrock', 'russian',\n",
       "       'salsa', 'samba', 'scenic', 'schlager', 'self', 'sertanejo',\n",
       "       'shanson', 'shoegazing', 'showtunes', 'singer', 'ska', 'skarock',\n",
       "       'slow', 'smooth', 'soft', 'soul', 'soulful', 'sound', 'soundtrack',\n",
       "       'southern', 'specialty', 'speech', 'spiritual', 'sport',\n",
       "       'stonerrock', 'surf', 'swing', 'synthpop', 'synthrock',\n",
       "       'sängerportrait', 'tango', 'tanzorchester', 'taraftar', 'tatar',\n",
       "       'tech', 'techno', 'teen', 'thrash', 'top', 'traditional',\n",
       "       'tradjazz', 'trance', 'tribal', 'trip', 'triphop', 'tropical',\n",
       "       'türk', 'türkçe', 'ukrrock', 'unknown', 'urban', 'uzbek',\n",
       "       'variété', 'vi', 'videogame', 'vocal', 'western', 'world',\n",
       "       'worldbeat', 'ïîï', 'электроника'], dtype=object)"
      ]
     },
     "execution_count": 55,
     "metadata": {},
     "output_type": "execute_result"
    }
   ],
   "source": [
    "df['genre'].sort_values().unique() # Проверка на неявные дубликаты"
   ]
  },
  {
   "cell_type": "markdown",
   "metadata": {
    "id": "jz6a9-7HQUDd"
   },
   "source": [
    "**Выводы**\n",
    "\n",
    "Предобработка обнаружила три проблемы в данных:\n",
    "\n",
    "- нарушения в стиле заголовков,\n",
    "- пропущенные значения,\n",
    "- дубликаты — явные и неявные.\n",
    "\n",
    "Вы исправили заголовки, чтобы упростить работу с таблицей. Без дубликатов исследование станет более точным.\n",
    "\n",
    "Пропущенные значения вы заменили на `'unknown'`. Ещё предстоит увидеть, не повредят ли исследованию пропуски в колонке `genre`.\n",
    "\n",
    "Теперь можно перейти к проверке гипотез. "
   ]
  },
  {
   "cell_type": "markdown",
   "metadata": {
    "id": "WttZHXH0SqKk"
   },
   "source": [
    "## Проверка гипотез"
   ]
  },
  {
   "cell_type": "markdown",
   "metadata": {
    "id": "Im936VVi_Zcu"
   },
   "source": [
    "### Сравнение поведения пользователей двух столиц"
   ]
  },
  {
   "cell_type": "markdown",
   "metadata": {
    "id": "nwt_MuaL_Zcu"
   },
   "source": [
    "Первая гипотеза утверждает, что пользователи по-разному слушают музыку в Москве и Санкт-Петербурге. Проверьте это предположение по данным о трёх днях недели — понедельнике, среде и пятнице. Для этого:\n",
    "\n",
    "* Разделите пользователей Москвы и Санкт-Петербурга\n",
    "* Сравните, сколько треков послушала каждая группа пользователей в понедельник, среду и пятницу.\n"
   ]
  },
  {
   "cell_type": "markdown",
   "metadata": {
    "id": "8Dw_YMmT_Zcu"
   },
   "source": [
    "Для тренировки сначала выполните каждый из расчётов по отдельности. \n",
    "\n",
    "Оцените активность пользователей в каждом городе. Сгруппируйте данные по городу и посчитайте прослушивания в каждой группе.\n",
    "\n"
   ]
  },
  {
   "cell_type": "code",
   "execution_count": 56,
   "metadata": {
    "id": "0_Qs96oh_Zcu"
   },
   "outputs": [
    {
     "name": "stdout",
     "output_type": "stream",
     "text": [
      "Общих прослушиваний в Москве: 42741\n",
      "Общих прослушиваний в Санкт-Петербурге: 18512\n"
     ]
    }
   ],
   "source": [
    "print('Общих прослушиваний в Москве:',df[df['city']=='Moscow']['user_id'].count()) # Подсчёт прослушиваний в каждом городе\n",
    "print('Общих прослушиваний в Санкт-Петербурге:',df[df['city']=='Saint-Petersburg']['user_id'].count())"
   ]
  },
  {
   "cell_type": "markdown",
   "metadata": {
    "id": "dzli3w8o_Zcu"
   },
   "source": [
    "В Москве прослушиваний больше, чем в Петербурге. Из этого не следует, что московские пользователи чаще слушают музыку. Просто самих пользователей в Москве больше.\n",
    "\n",
    "Теперь сгруппируйте данные по дню недели и подсчитайте прослушивания в понедельник, среду и пятницу. Учтите, что в данных есть информация только о прослушиваниях только за эти дни.\n"
   ]
  },
  {
   "cell_type": "code",
   "execution_count": 57,
   "metadata": {
    "id": "uZMKjiJz_Zcu"
   },
   "outputs": [
    {
     "name": "stdout",
     "output_type": "stream",
     "text": [
      "Общих прослушиваний в понедельник: 21354\n",
      "Общих прослушиваний в среду: 18059\n",
      "Общих прослушиваний в пятницу: 21840\n"
     ]
    }
   ],
   "source": [
    "print('Общих прослушиваний в понедельник:',df[df['day']=='Monday']['user_id'].count()) # Подсчёт прослушиваний в каждый из трёх дней\n",
    "print('Общих прослушиваний в среду:',df[df['day']=='Wednesday']['user_id'].count())\n",
    "print('Общих прослушиваний в пятницу:',df[df['day']=='Friday']['user_id'].count())"
   ]
  },
  {
   "cell_type": "markdown",
   "metadata": {
    "id": "cC2tNrlL_Zcu"
   },
   "source": [
    "В среднем пользователи из двух городов менее активны по средам. Но картина может измениться, если рассмотреть каждый город в отдельности."
   ]
  },
  {
   "cell_type": "markdown",
   "metadata": {
    "id": "POzs8bGa_Zcu"
   },
   "source": [
    "Вы видели, как работает группировка по городу и по дням недели. Теперь напишите функцию, которая объединит два эти расчёта.\n",
    "\n",
    "Создайте функцию `number_tracks()`, которая посчитает прослушивания для заданного дня и города. Ей понадобятся два параметра:\n",
    "* день недели,\n",
    "* название города.\n",
    "\n",
    "В функции сохраните в переменную строки исходной таблицы, у которых значение:\n",
    "  * в колонке `day` равно параметру `day`,\n",
    "  * в колонке `city` равно параметру `city`.\n",
    "\n",
    "Для этого примените последовательную фильтрацию с логической индексацией.\n",
    "\n",
    "Затем посчитайте значения в столбце `user_id` получившейся таблицы. Результат сохраните в новую переменную. Верните эту переменную из функции."
   ]
  },
  {
   "cell_type": "code",
   "execution_count": 58,
   "metadata": {
    "id": "Nz3GdQB1_Zcu"
   },
   "outputs": [],
   "source": [
    "# <создание функции number_tracks()>\n",
    "def number_tracks(day,city): # Объявляется функция с двумя параметрами: day, city.\n",
    "    track_list = df[(df['day'] == day) & (df['city'] == city )]  # В переменной track_list сохраняются те строки таблицы df, для которых \n",
    "                                                                            # значение в столбце 'day' равно параметру day и одновременно значение\n",
    "                                                                            # в столбце 'city' равно параметру city (используйте последовательную фильтрацию\n",
    "                                                                            # с помощью логической индексации).\n",
    "    \n",
    "    track_list_count = track_list['user_id'].count() # В переменной track_list_count сохраняется число значений столбца 'user_id',\n",
    "                                                    # рассчитанное методом count() для таблицы track_list.\n",
    "    return  track_list_count # Функция возвращает число - значение track_list_count.\n",
    "\n",
    "\n",
    "\n",
    "\n",
    "# Функция для подсчёта прослушиваний для конкретного города и дня.\n",
    "# С помощью последовательной фильтрации с логической индексацией она \n",
    "# сначала получит из исходной таблицы строки с нужным днём,\n",
    "# затем из результата отфильтрует строки с нужным городом,\n",
    "# методом count() посчитает количество значений в колонке user_id. \n",
    "# Это количество функция вернёт в качестве результата"
   ]
  },
  {
   "cell_type": "markdown",
   "metadata": {
    "id": "ytf7xFrFJQ2r"
   },
   "source": [
    "Вызовите `number_tracks()` шесть раз, меняя значение параметров — так, чтобы получить данные для каждого города в каждый из трёх дней."
   ]
  },
  {
   "cell_type": "code",
   "execution_count": 59,
   "metadata": {
    "id": "rJcRATNQ_Zcu"
   },
   "outputs": [
    {
     "data": {
      "text/plain": [
       "15740"
      ]
     },
     "execution_count": 59,
     "metadata": {},
     "output_type": "execute_result"
    }
   ],
   "source": [
    "number_tracks('Monday','Moscow')  # количество прослушиваний в Москве по понедельникам"
   ]
  },
  {
   "cell_type": "code",
   "execution_count": 60,
   "metadata": {
    "id": "hq_ncZ5T_Zcu"
   },
   "outputs": [
    {
     "data": {
      "text/plain": [
       "11056"
      ]
     },
     "execution_count": 60,
     "metadata": {},
     "output_type": "execute_result"
    }
   ],
   "source": [
    "number_tracks('Wednesday','Moscow') # количество прослушиваний в Санкт-Петербурге по понедельникам\n"
   ]
  },
  {
   "cell_type": "code",
   "execution_count": 61,
   "metadata": {
    "id": "_NTy2VPU_Zcu"
   },
   "outputs": [
    {
     "data": {
      "text/plain": [
       "15945"
      ]
     },
     "execution_count": 61,
     "metadata": {},
     "output_type": "execute_result"
    }
   ],
   "source": [
    "number_tracks('Friday','Moscow')# количество прослушиваний в Москве по средам"
   ]
  },
  {
   "cell_type": "code",
   "execution_count": 62,
   "metadata": {
    "id": "j2y3TAwo_Zcu"
   },
   "outputs": [
    {
     "data": {
      "text/plain": [
       "5614"
      ]
     },
     "execution_count": 62,
     "metadata": {},
     "output_type": "execute_result"
    }
   ],
   "source": [
    "number_tracks('Monday','Saint-Petersburg')# количество прослушиваний в Санкт-Петербурге по средам"
   ]
  },
  {
   "cell_type": "code",
   "execution_count": 63,
   "metadata": {
    "id": "vYDw5u_K_Zcu"
   },
   "outputs": [
    {
     "data": {
      "text/plain": [
       "7003"
      ]
     },
     "execution_count": 63,
     "metadata": {},
     "output_type": "execute_result"
    }
   ],
   "source": [
    "number_tracks('Wednesday','Saint-Petersburg')# количество прослушиваний в Москве по пятницам"
   ]
  },
  {
   "cell_type": "code",
   "execution_count": 64,
   "metadata": {
    "id": "8_yzFtW3_Zcu"
   },
   "outputs": [
    {
     "data": {
      "text/plain": [
       "5895"
      ]
     },
     "execution_count": 64,
     "metadata": {},
     "output_type": "execute_result"
    }
   ],
   "source": [
    "number_tracks('Friday','Saint-Petersburg')# количество прослушиваний в Санкт-Петербурге по пятницам"
   ]
  },
  {
   "cell_type": "markdown",
   "metadata": {
    "id": "7QXffbO-_Zcu"
   },
   "source": [
    "Создайте c помощью конструктора `pd.DataFrame` таблицу, где\n",
    "* названия колонок — `['city', 'monday', 'wednesday', 'friday']`;\n",
    "* данные — результаты, которые вы получили с помощью `number_tracks`."
   ]
  },
  {
   "cell_type": "code",
   "execution_count": 65,
   "metadata": {
    "id": "APAcLpOr_Zcu"
   },
   "outputs": [
    {
     "data": {
      "text/html": [
       "<div>\n",
       "<style scoped>\n",
       "    .dataframe tbody tr th:only-of-type {\n",
       "        vertical-align: middle;\n",
       "    }\n",
       "\n",
       "    .dataframe tbody tr th {\n",
       "        vertical-align: top;\n",
       "    }\n",
       "\n",
       "    .dataframe thead th {\n",
       "        text-align: right;\n",
       "    }\n",
       "</style>\n",
       "<table border=\"1\" class=\"dataframe\">\n",
       "  <thead>\n",
       "    <tr style=\"text-align: right;\">\n",
       "      <th></th>\n",
       "      <th>city</th>\n",
       "      <th>monday</th>\n",
       "      <th>wednesday</th>\n",
       "      <th>friday</th>\n",
       "    </tr>\n",
       "  </thead>\n",
       "  <tbody>\n",
       "    <tr>\n",
       "      <th>0</th>\n",
       "      <td>Moscow</td>\n",
       "      <td>15740</td>\n",
       "      <td>11056</td>\n",
       "      <td>15945</td>\n",
       "    </tr>\n",
       "    <tr>\n",
       "      <th>1</th>\n",
       "      <td>Saint-Petersburg</td>\n",
       "      <td>5614</td>\n",
       "      <td>7003</td>\n",
       "      <td>5895</td>\n",
       "    </tr>\n",
       "  </tbody>\n",
       "</table>\n",
       "</div>"
      ],
      "text/plain": [
       "               city  monday  wednesday  friday\n",
       "0            Moscow   15740      11056   15945\n",
       "1  Saint-Petersburg    5614       7003    5895"
      ]
     },
     "metadata": {},
     "output_type": "display_data"
    }
   ],
   "source": [
    "columns = ['city', 'monday', 'wednesday', 'friday']\n",
    "data = [['Moscow',15740,11056,15945],\n",
    "       ['Saint-Petersburg',5614,7003,5895]]\n",
    "table_1 = pd.DataFrame(data = data, columns = columns) # Таблица с результатами\n",
    "display(table_1)"
   ]
  },
  {
   "cell_type": "markdown",
   "metadata": {
    "id": "-EgPIHYu_Zcu"
   },
   "source": [
    "**Выводы**\n",
    "\n",
    "Данные показывают разницу поведения пользователей:\n",
    "\n",
    "- В Москве пик прослушиваний приходится на понедельник и пятницу, а в среду заметен спад.\n",
    "- В Петербурге, наоборот, больше слушают музыку по средам. Активность в понедельник и пятницу здесь почти в равной мере уступает среде.\n",
    "\n",
    "Значит, данные говорят в пользу первой гипотезы."
   ]
  },
  {
   "cell_type": "markdown",
   "metadata": {
    "id": "atZAxtq4_Zcu"
   },
   "source": [
    "### Музыка в начале и в конце недели"
   ]
  },
  {
   "cell_type": "markdown",
   "metadata": {
    "id": "eXrQqXFH_Zcu"
   },
   "source": [
    "Согласно второй гипотезе, утром в понедельник в Москве преобладают одни жанры, а в Петербурге — другие. Так же и вечером пятницы преобладают разные жанры — в зависимости от города."
   ]
  },
  {
   "cell_type": "markdown",
   "metadata": {
    "id": "S8UcW6Hw_Zcu"
   },
   "source": [
    "Сохраните таблицы с данными в две переменные:\n",
    "* по Москве — в `moscow_general`;\n",
    "* по Санкт-Петербургу — в `spb_general`."
   ]
  },
  {
   "cell_type": "code",
   "execution_count": 66,
   "metadata": {
    "id": "qeaFfM_P_Zcu"
   },
   "outputs": [],
   "source": [
    "# получение таблицы moscow_general из тех строк таблицы df, \n",
    "# для которых значение в столбце 'city' равно 'Moscow'\n",
    "moscow_general = df[df['city']=='Moscow']\n"
   ]
  },
  {
   "cell_type": "code",
   "execution_count": 67,
   "metadata": {
    "id": "ORaVRKto_Zcu"
   },
   "outputs": [],
   "source": [
    "# получение таблицы spb_general из тех строк таблицы df,\n",
    "# для которых значение в столбце 'city' равно 'Saint-Petersburg'\n",
    "spb_general = df[df['city']== 'Saint-Petersburg']\n"
   ]
  },
  {
   "cell_type": "markdown",
   "metadata": {
    "id": "MEJV-CX2_Zcu"
   },
   "source": [
    "Создайте функцию `genre_weekday()` с четырьмя параметрами:\n",
    "* таблица (датафрейм) с данными,\n",
    "* день недели,\n",
    "* начальная временная метка в формате 'hh:mm', \n",
    "* последняя временная метка в формате 'hh:mm'.\n",
    "\n",
    "Функция должна вернуть информацию о топ-10 жанров тех треков, которые прослушивали в указанный день, в промежутке между двумя отметками времени."
   ]
  },
  {
   "cell_type": "code",
   "execution_count": 68,
   "metadata": {
    "id": "laJT9BYl_Zcu"
   },
   "outputs": [],
   "source": [
    "# Объявление функции genre_weekday() с параметрами table, day, time1, time2,\n",
    "# которая возвращает информацию о самых популярных жанрах в указанный день в\n",
    "# заданное время:\n",
    "def genre_weekday(df,day,start_time,end_time):\n",
    "    genre_df = df[(df['day']==day)&(df['time']>start_time)&(df['time']<end_time)]\n",
    "\n",
    "# 1) в переменную genre_df сохраняются те строки переданного датафрейма table, для\n",
    "#    которых одновременно:\n",
    "#    - значение в столбце day равно значению аргумента day\n",
    "#    - значение в столбце time больше значения аргумента time1\n",
    "#    - значение в столбце time меньше значения аргумента time2\n",
    "#    Используйте последовательную фильтрацию с помощью логической индексации.\n",
    "    genre_df_count = genre_df.groupby('genre')['user_id'].count()\n",
    "# 2) сгруппировать датафрейм genre_df по столбцу genre, взять один из его\n",
    "#    столбцов и посчитать методом count() количество записей для каждого из\n",
    "#    присутствующих жанров, получившийся Series записать в переменную\n",
    "#    genre_df_count\n",
    "    genre_df_sorted = genre_df_count.sort_values(ascending = False)\n",
    "# 3) отсортировать genre_df_count по убыванию встречаемости и сохранить\n",
    "#    в переменную genre_df_sorted\n",
    "    return genre_df_sorted.head(10)\n",
    "# 4) вернуть Series из 10 первых значений genre_df_sorted, это будут топ-10\n",
    "#    популярных жанров (в указанный день, в заданное время)"
   ]
  },
  {
   "cell_type": "code",
   "execution_count": 69,
   "metadata": {
    "id": "yz7itPUQ_Zcu"
   },
   "outputs": [
    {
     "data": {
      "text/plain": [
       "genre\n",
       "pop            781\n",
       "dance          549\n",
       "electronic     480\n",
       "rock           474\n",
       "hiphop         286\n",
       "ruspop         186\n",
       "world          181\n",
       "rusrap         175\n",
       "alternative    164\n",
       "unknown        161\n",
       "Name: user_id, dtype: int64"
      ]
     },
     "execution_count": 69,
     "metadata": {},
     "output_type": "execute_result"
    }
   ],
   "source": [
    "genre_weekday(moscow_general,'Monday','07:00:00','11:00:00') # вызов функции для утра понедельника в Москве (вместо df — таблица moscow_general)\n",
    "# объекты, хранящие время, являются строками и сравниваются как строки\n",
    "# пример вызова: genre_weekday(moscow_general, 'Monday', '07:00', '11:00')"
   ]
  },
  {
   "cell_type": "code",
   "execution_count": 70,
   "metadata": {
    "id": "kwUcHPdy_Zcu"
   },
   "outputs": [
    {
     "data": {
      "text/plain": [
       "genre\n",
       "pop            218\n",
       "dance          182\n",
       "rock           162\n",
       "electronic     147\n",
       "hiphop          80\n",
       "ruspop          64\n",
       "alternative     58\n",
       "rusrap          55\n",
       "jazz            44\n",
       "classical       40\n",
       "Name: user_id, dtype: int64"
      ]
     },
     "execution_count": 70,
     "metadata": {},
     "output_type": "execute_result"
    }
   ],
   "source": [
    "genre_weekday(spb_general,'Monday','07:00:00','11:00:00') # вызов функции для утра понедельника в Петербурге (вместо df — таблица spb_general)\n"
   ]
  },
  {
   "cell_type": "code",
   "execution_count": 71,
   "metadata": {
    "id": "EzXVRE1o_Zcu"
   },
   "outputs": [
    {
     "data": {
      "text/plain": [
       "genre\n",
       "pop            713\n",
       "rock           517\n",
       "dance          495\n",
       "electronic     482\n",
       "hiphop         273\n",
       "world          208\n",
       "ruspop         170\n",
       "alternative    163\n",
       "classical      163\n",
       "rusrap         142\n",
       "Name: user_id, dtype: int64"
      ]
     },
     "execution_count": 71,
     "metadata": {},
     "output_type": "execute_result"
    }
   ],
   "source": [
    "genre_weekday(moscow_general,'Friday','17:00:00','23:00:00')# вызов функции для вечера пятницы в Москве"
   ]
  },
  {
   "cell_type": "code",
   "execution_count": 72,
   "metadata": {
    "id": "JZaEKu5v_Zcu"
   },
   "outputs": [
    {
     "data": {
      "text/plain": [
       "genre\n",
       "pop            256\n",
       "electronic     216\n",
       "rock           216\n",
       "dance          210\n",
       "hiphop          97\n",
       "alternative     63\n",
       "jazz            61\n",
       "classical       60\n",
       "rusrap          59\n",
       "world           54\n",
       "Name: user_id, dtype: int64"
      ]
     },
     "execution_count": 72,
     "metadata": {},
     "output_type": "execute_result"
    }
   ],
   "source": [
    "genre_weekday(spb_general,'Friday','17:00:00','23:00:00')# вызов функции для вечера пятницы в Петербурге"
   ]
  },
  {
   "cell_type": "markdown",
   "metadata": {
    "id": "wrCe4MNX_Zcu"
   },
   "source": [
    "**Выводы**\n",
    "\n",
    "Если сравнить топ-10 жанров в понедельник утром, можно сделать такие выводы:\n",
    "\n",
    "1. В Москве и Петербурге слушают похожую музыку. Единственное отличие — в московский рейтинг вошёл жанр “world”, а в петербургский — джаз и классика.\n",
    "\n",
    "2. В Москве пропущенных значений оказалось так много, что значение `'unknown'` заняло десятое место среди самых популярных жанров. Значит, пропущенные значения занимают существенную долю в данных и угрожают достоверности исследования.\n",
    "\n",
    "Вечер пятницы не меняет эту картину. Некоторые жанры поднимаются немного выше, другие спускаются, но в целом топ-10 остаётся тем же самым.\n",
    "\n",
    "Таким образом, вторая гипотеза подтвердилась лишь частично:\n",
    "* Пользователи слушают похожую музыку в начале недели и в конце.\n",
    "* Разница между Москвой и Петербургом не слишком выражена. В Москве чаще слушают русскую популярную музыку, в Петербурге — джаз.\n",
    "\n",
    "Однако пропуски в данных ставят под сомнение этот результат. В Москве их так много, что рейтинг топ-10 мог бы выглядеть иначе, если бы не утерянные  данные о жанрах."
   ]
  },
  {
   "cell_type": "markdown",
   "metadata": {
    "id": "JolODAqr_Zcu"
   },
   "source": [
    "### Жанровые предпочтения в Москве и Петербурге\n",
    "\n",
    "Гипотеза: Петербург — столица рэпа, музыку этого жанра там слушают чаще, чем в Москве.  А Москва — город контрастов, в котором, тем не менее, преобладает поп-музыка."
   ]
  },
  {
   "cell_type": "markdown",
   "metadata": {
    "id": "DlegSvaT_Zcu"
   },
   "source": [
    "Сгруппируйте таблицу `moscow_general` по жанру и посчитайте прослушивания треков каждого жанра методом `count()`. Затем отсортируйте результат в порядке убывания и сохраните его в таблице `moscow_genres`."
   ]
  },
  {
   "cell_type": "code",
   "execution_count": 73,
   "metadata": {
    "id": "r19lIPke_Zcu"
   },
   "outputs": [],
   "source": [
    " # одной строкой: группировка таблицы moscow_general по столбцу 'genre', \n",
    " # подсчёт числа значений 'genre' в этой группировке методом count(), \n",
    " # сортировка получившегося Series в порядке убывания и сохранение в moscow_genres\n",
    "moscow_genres = moscow_general.groupby('genre')['genre'].count().sort_values(ascending = False)\n",
    "\n",
    "    \n",
    "    \n",
    " #   genre_df_count = genre_df.groupby('genre')['user_id'].count()\n",
    "  #  genre_df_sorted = genre_df_count.sort_values(ascending = False)"
   ]
  },
  {
   "cell_type": "markdown",
   "metadata": {
    "id": "6kMuomxTiIr8"
   },
   "source": [
    "Выведите на экран первые десять строк `moscow_genres`:"
   ]
  },
  {
   "cell_type": "code",
   "execution_count": 74,
   "metadata": {
    "id": "WhCSooF8_Zcv"
   },
   "outputs": [
    {
     "name": "stdout",
     "output_type": "stream",
     "text": [
      "genre\n",
      "pop            5892\n",
      "dance          4435\n",
      "rock           3965\n",
      "electronic     3786\n",
      "hiphop         2096\n",
      "classical      1616\n",
      "world          1432\n",
      "alternative    1379\n",
      "ruspop         1372\n",
      "rusrap         1161\n",
      "Name: genre, dtype: int64\n"
     ]
    }
   ],
   "source": [
    "print(moscow_genres.head(10))# просмотр первых 10 строк moscow_genres"
   ]
  },
  {
   "cell_type": "markdown",
   "metadata": {
    "id": "cnPG2vnN_Zcv"
   },
   "source": [
    "Теперь повторите то же и для Петербурга.\n",
    "\n",
    "Сгруппируйте таблицу `spb_general` по жанру. Посчитайте прослушивания треков каждого жанра. Результат отсортируйте в порядке убывания и сохраните в таблице `spb_genres`:\n"
   ]
  },
  {
   "cell_type": "code",
   "execution_count": 75,
   "metadata": {
    "id": "gluLIpE7_Zcv"
   },
   "outputs": [],
   "source": [
    "# одной строкой: группировка таблицы spb_general по столбцу 'genre', \n",
    "# подсчёт числа значений 'genre' в этой группировке методом count(), \n",
    "# сортировка получившегося Series в порядке убывания и сохранение в spb_genres\n",
    "spb_genres = spb_general.groupby('genre')['genre'].count().sort_values(ascending = False)"
   ]
  },
  {
   "cell_type": "markdown",
   "metadata": {
    "id": "5Doha_ODgyQ8"
   },
   "source": [
    "Выведите на экран первые десять строк `spb_genres`:"
   ]
  },
  {
   "cell_type": "code",
   "execution_count": 76,
   "metadata": {
    "id": "uaGJHjVU_Zcv"
   },
   "outputs": [
    {
     "name": "stdout",
     "output_type": "stream",
     "text": [
      "genre\n",
      "pop            2431\n",
      "dance          1932\n",
      "rock           1879\n",
      "electronic     1736\n",
      "hiphop          960\n",
      "alternative     649\n",
      "classical       646\n",
      "rusrap          564\n",
      "ruspop          538\n",
      "world           515\n",
      "Name: genre, dtype: int64\n"
     ]
    }
   ],
   "source": [
    "print(spb_genres.head(10)) # просмотр первых 10 строк spb_genres"
   ]
  },
  {
   "cell_type": "markdown",
   "metadata": {
    "id": "RY51YJYu_Zcv"
   },
   "source": [
    "**Выводы**"
   ]
  },
  {
   "cell_type": "markdown",
   "metadata": {
    "id": "nVhnJEm__Zcv"
   },
   "source": [
    "Гипотеза частично подтвердилась:\n",
    "* Поп-музыка — самый популярный жанр в Москве, как и предполагала гипотеза. Более того, в топ-10 жанров встречается близкий жанр — русская популярная музыка.\n",
    "* Вопреки ожиданиям, рэп одинаково популярен в Москве и Петербурге. \n"
   ]
  },
  {
   "cell_type": "markdown",
   "metadata": {
    "id": "ykKQ0N65_Zcv"
   },
   "source": [
    "## Итоги исследования"
   ]
  },
  {
   "cell_type": "markdown",
   "metadata": {
    "id": "tjUwbHb3_Zcv"
   },
   "source": [
    "Вы проверили три гипотезы и установили:\n",
    "\n",
    "1. День недели по-разному влияет на активность пользователей в Москве и Петербурге. \n",
    "\n",
    "Первая гипотеза полностью подтвердилась.\n",
    "\n",
    "2. Музыкальные предпочтения не сильно меняются в течение недели — будь то Москва или Петербург. Небольшие различия заметны в начале недели, по понедельникам:\n",
    "* в Москве слушают музыку жанра “world”,\n",
    "* в Петербурге — джаз и классику.\n",
    "\n",
    "Таким образом, вторая гипотеза подтвердилась лишь отчасти. Этот результат мог оказаться иным, если бы не пропуски в данных.\n",
    "\n",
    "3. Во вкусах пользователей Москвы и Петербурга больше общего чем различий. Вопреки ожиданиям, предпочтения жанров в Петербурге напоминают московские.\n",
    "\n",
    "Третья гипотеза не подтвердилась. Если различия в предпочтениях и существуют, на основной массе пользователей они незаметны.\n"
   ]
  }
 ],
 "metadata": {
  "ExecuteTimeLog": [
   {
    "duration": 782,
    "start_time": "2021-11-19T10:09:36.858Z"
   },
   {
    "duration": 4,
    "start_time": "2021-11-19T10:09:40.243Z"
   },
   {
    "duration": 2477,
    "start_time": "2021-11-19T10:10:47.324Z"
   },
   {
    "duration": 2802,
    "start_time": "2021-11-19T10:10:51.431Z"
   },
   {
    "duration": 2332,
    "start_time": "2021-11-19T10:11:10.793Z"
   },
   {
    "duration": 122,
    "start_time": "2021-11-19T10:13:20.362Z"
   },
   {
    "duration": 2284,
    "start_time": "2021-11-19T10:13:41.113Z"
   },
   {
    "duration": 3019,
    "start_time": "2021-11-19T10:13:43.709Z"
   },
   {
    "duration": 274,
    "start_time": "2021-11-19T10:14:34.073Z"
   },
   {
    "duration": 2702,
    "start_time": "2021-11-19T10:14:36.979Z"
   },
   {
    "duration": 278,
    "start_time": "2021-11-19T10:21:06.496Z"
   },
   {
    "duration": 248,
    "start_time": "2021-11-19T10:21:13.348Z"
   },
   {
    "duration": 27,
    "start_time": "2021-11-19T10:21:36.315Z"
   },
   {
    "duration": 51,
    "start_time": "2021-11-19T10:22:11.486Z"
   },
   {
    "duration": 348,
    "start_time": "2021-11-19T10:26:26.620Z"
   },
   {
    "duration": 5,
    "start_time": "2021-11-19T10:26:39.533Z"
   },
   {
    "duration": 116,
    "start_time": "2021-11-19T10:33:01.318Z"
   },
   {
    "duration": 380,
    "start_time": "2021-11-19T10:35:35.170Z"
   },
   {
    "duration": 1593,
    "start_time": "2021-11-19T10:35:42.857Z"
   },
   {
    "duration": 1949,
    "start_time": "2021-11-19T10:37:00.424Z"
   },
   {
    "duration": 20,
    "start_time": "2021-11-19T10:38:56.832Z"
   },
   {
    "duration": 4,
    "start_time": "2021-11-19T10:39:11.152Z"
   },
   {
    "duration": 8,
    "start_time": "2021-11-19T10:39:31.619Z"
   },
   {
    "duration": 7,
    "start_time": "2021-11-19T10:39:35.969Z"
   },
   {
    "duration": 4,
    "start_time": "2021-11-19T10:39:42.360Z"
   },
   {
    "duration": 336,
    "start_time": "2021-11-19T10:41:08.482Z"
   },
   {
    "duration": 352,
    "start_time": "2021-11-19T10:41:47.735Z"
   },
   {
    "duration": 56,
    "start_time": "2021-11-19T10:41:57.332Z"
   },
   {
    "duration": 369,
    "start_time": "2021-11-19T10:43:42.772Z"
   },
   {
    "duration": 111,
    "start_time": "2021-11-19T10:43:51.337Z"
   },
   {
    "duration": 56,
    "start_time": "2021-11-19T10:44:35.363Z"
   },
   {
    "duration": 60,
    "start_time": "2021-11-19T10:44:47.788Z"
   },
   {
    "duration": 56,
    "start_time": "2021-11-19T10:44:58.032Z"
   },
   {
    "duration": 9231,
    "start_time": "2021-11-19T10:52:02.173Z"
   },
   {
    "duration": 23,
    "start_time": "2021-11-19T10:53:09.798Z"
   },
   {
    "duration": 30,
    "start_time": "2021-11-19T10:53:23.601Z"
   },
   {
    "duration": 91,
    "start_time": "2021-11-19T10:54:03.602Z"
   },
   {
    "duration": 83,
    "start_time": "2021-11-19T10:54:15.930Z"
   },
   {
    "duration": 54,
    "start_time": "2021-11-19T10:54:33.841Z"
   },
   {
    "duration": 60,
    "start_time": "2021-11-19T10:54:40.361Z"
   },
   {
    "duration": 383,
    "start_time": "2021-11-19T10:55:53.962Z"
   },
   {
    "duration": 415,
    "start_time": "2021-11-19T10:56:13.710Z"
   },
   {
    "duration": 108,
    "start_time": "2021-11-19T10:56:23.749Z"
   },
   {
    "duration": 84,
    "start_time": "2021-11-19T10:56:54.732Z"
   },
   {
    "duration": 107,
    "start_time": "2021-11-19T10:57:12.312Z"
   },
   {
    "duration": 85,
    "start_time": "2021-11-19T10:57:15.532Z"
   },
   {
    "duration": 3,
    "start_time": "2021-11-19T10:58:08.335Z"
   },
   {
    "duration": 201,
    "start_time": "2021-11-19T10:58:08.341Z"
   },
   {
    "duration": 16,
    "start_time": "2021-11-19T10:58:08.545Z"
   },
   {
    "duration": 50,
    "start_time": "2021-11-19T10:58:08.564Z"
   },
   {
    "duration": 4,
    "start_time": "2021-11-19T10:58:08.618Z"
   },
   {
    "duration": 24,
    "start_time": "2021-11-19T10:58:08.625Z"
   },
   {
    "duration": 4,
    "start_time": "2021-11-19T10:58:08.652Z"
   },
   {
    "duration": 91,
    "start_time": "2021-11-19T10:58:08.658Z"
   },
   {
    "duration": 21,
    "start_time": "2021-11-19T10:58:08.754Z"
   },
   {
    "duration": 46,
    "start_time": "2021-11-19T10:58:08.778Z"
   },
   {
    "duration": 102,
    "start_time": "2021-11-19T10:58:08.827Z"
   },
   {
    "duration": 125,
    "start_time": "2021-11-19T10:58:08.931Z"
   },
   {
    "duration": 98,
    "start_time": "2021-11-19T10:58:09.058Z"
   },
   {
    "duration": 3,
    "start_time": "2021-11-19T10:58:09.159Z"
   },
   {
    "duration": 10,
    "start_time": "2021-11-19T10:58:09.164Z"
   },
   {
    "duration": 10,
    "start_time": "2021-11-19T10:58:09.177Z"
   },
   {
    "duration": 14,
    "start_time": "2021-11-19T10:58:09.190Z"
   },
   {
    "duration": 11,
    "start_time": "2021-11-19T10:58:09.206Z"
   },
   {
    "duration": 11,
    "start_time": "2021-11-19T10:58:09.219Z"
   },
   {
    "duration": 7,
    "start_time": "2021-11-19T10:58:09.233Z"
   },
   {
    "duration": 17,
    "start_time": "2021-11-19T10:58:09.243Z"
   },
   {
    "duration": 11,
    "start_time": "2021-11-19T10:58:09.262Z"
   },
   {
    "duration": 8,
    "start_time": "2021-11-19T10:58:09.275Z"
   },
   {
    "duration": 11,
    "start_time": "2021-11-19T10:58:09.285Z"
   },
   {
    "duration": 6,
    "start_time": "2021-11-19T10:58:09.301Z"
   },
   {
    "duration": 13,
    "start_time": "2021-11-19T10:58:09.310Z"
   },
   {
    "duration": 6,
    "start_time": "2021-11-19T10:58:09.329Z"
   },
   {
    "duration": 12,
    "start_time": "2021-11-19T10:58:09.337Z"
   },
   {
    "duration": 12,
    "start_time": "2021-11-19T10:58:09.351Z"
   },
   {
    "duration": 13,
    "start_time": "2021-11-19T10:58:09.366Z"
   },
   {
    "duration": 17,
    "start_time": "2021-11-19T10:58:09.381Z"
   },
   {
    "duration": 8,
    "start_time": "2021-11-19T10:58:09.401Z"
   },
   {
    "duration": 18,
    "start_time": "2021-11-19T10:58:09.411Z"
   },
   {
    "duration": 9,
    "start_time": "2021-11-19T10:58:09.432Z"
   },
   {
    "duration": 9,
    "start_time": "2021-11-19T10:58:09.443Z"
   },
   {
    "duration": 7,
    "start_time": "2021-11-19T10:58:09.454Z"
   },
   {
    "duration": 9,
    "start_time": "2021-11-19T10:58:09.464Z"
   },
   {
    "duration": 9,
    "start_time": "2021-11-19T10:58:09.475Z"
   },
   {
    "duration": 116,
    "start_time": "2021-11-19T10:59:16.462Z"
   },
   {
    "duration": 85,
    "start_time": "2021-11-19T10:59:20.957Z"
   },
   {
    "duration": 9,
    "start_time": "2021-11-19T11:05:19.669Z"
   },
   {
    "duration": 155,
    "start_time": "2021-11-19T11:10:08.366Z"
   },
   {
    "duration": 119,
    "start_time": "2021-11-19T11:10:34.211Z"
   },
   {
    "duration": 4,
    "start_time": "2021-11-19T11:11:47.731Z"
   },
   {
    "duration": 701,
    "start_time": "2021-11-19T11:15:05.739Z"
   },
   {
    "duration": 675,
    "start_time": "2021-11-19T11:15:39.748Z"
   },
   {
    "duration": 4,
    "start_time": "2021-11-19T11:15:49.287Z"
   },
   {
    "duration": 673,
    "start_time": "2021-11-19T11:15:50.812Z"
   },
   {
    "duration": 78,
    "start_time": "2021-11-19T11:17:13.436Z"
   },
   {
    "duration": 102,
    "start_time": "2021-11-19T11:17:16.736Z"
   },
   {
    "duration": 81,
    "start_time": "2021-11-19T11:17:19.878Z"
   },
   {
    "duration": 107,
    "start_time": "2021-11-19T11:17:27.134Z"
   },
   {
    "duration": 116,
    "start_time": "2021-11-19T11:17:30.492Z"
   },
   {
    "duration": 83,
    "start_time": "2021-11-19T11:17:33.183Z"
   },
   {
    "duration": 1740,
    "start_time": "2021-11-19T11:20:30.072Z"
   },
   {
    "duration": 4,
    "start_time": "2021-11-19T11:21:30.179Z"
   },
   {
    "duration": 16,
    "start_time": "2021-11-19T11:22:02.628Z"
   },
   {
    "duration": 15,
    "start_time": "2021-11-19T11:22:10.535Z"
   },
   {
    "duration": 14,
    "start_time": "2021-11-19T11:22:30.742Z"
   },
   {
    "duration": 14,
    "start_time": "2021-11-19T11:22:39.011Z"
   },
   {
    "duration": 10,
    "start_time": "2021-11-19T11:23:19.819Z"
   },
   {
    "duration": 9405,
    "start_time": "2021-11-19T11:29:13.472Z"
   },
   {
    "duration": 11210,
    "start_time": "2021-11-19T11:29:32.064Z"
   },
   {
    "duration": 8511,
    "start_time": "2021-11-19T11:30:13.736Z"
   },
   {
    "duration": 110,
    "start_time": "2021-11-19T11:30:33.135Z"
   },
   {
    "duration": 2108,
    "start_time": "2021-11-19T11:30:52.899Z"
   },
   {
    "duration": 8456,
    "start_time": "2021-11-19T11:31:29.542Z"
   },
   {
    "duration": 856,
    "start_time": "2021-11-19T11:32:41.982Z"
   },
   {
    "duration": 40,
    "start_time": "2021-11-19T11:33:00.353Z"
   },
   {
    "duration": 34,
    "start_time": "2021-11-19T11:33:21.331Z"
   },
   {
    "duration": 32,
    "start_time": "2021-11-19T11:34:26.660Z"
   },
   {
    "duration": 11,
    "start_time": "2021-11-19T11:37:00.228Z"
   },
   {
    "duration": 18,
    "start_time": "2021-11-19T11:37:20.646Z"
   },
   {
    "duration": 29,
    "start_time": "2021-11-19T11:38:01.001Z"
   },
   {
    "duration": 36,
    "start_time": "2021-11-19T11:38:32.946Z"
   },
   {
    "duration": 55,
    "start_time": "2021-11-19T11:39:02.820Z"
   },
   {
    "duration": 42,
    "start_time": "2021-11-19T11:39:40.742Z"
   },
   {
    "duration": 5,
    "start_time": "2021-11-19T12:32:49.842Z"
   },
   {
    "duration": 737,
    "start_time": "2021-11-19T12:35:04.151Z"
   },
   {
    "duration": 743,
    "start_time": "2021-11-19T12:36:49.065Z"
   },
   {
    "duration": 5,
    "start_time": "2021-11-19T12:36:58.464Z"
   },
   {
    "duration": 2446,
    "start_time": "2021-11-19T12:37:00.527Z"
   },
   {
    "duration": 2425,
    "start_time": "2021-11-19T12:47:41.313Z"
   },
   {
    "duration": 1676,
    "start_time": "2021-11-19T12:48:55.094Z"
   },
   {
    "duration": 347,
    "start_time": "2021-11-19T12:49:09.140Z"
   },
   {
    "duration": 1403,
    "start_time": "2021-11-19T12:49:19.193Z"
   },
   {
    "duration": 128,
    "start_time": "2021-11-19T12:50:57.489Z"
   },
   {
    "duration": 33,
    "start_time": "2021-11-19T12:51:07.694Z"
   },
   {
    "duration": 38,
    "start_time": "2021-11-19T12:51:52.669Z"
   },
   {
    "duration": 1690,
    "start_time": "2021-11-19T12:54:18.508Z"
   },
   {
    "duration": 5,
    "start_time": "2021-11-19T12:54:30.574Z"
   },
   {
    "duration": 688,
    "start_time": "2021-11-19T12:54:33.480Z"
   },
   {
    "duration": 4,
    "start_time": "2021-11-19T12:54:49.696Z"
   },
   {
    "duration": 33,
    "start_time": "2021-11-19T12:54:51.547Z"
   },
   {
    "duration": 24,
    "start_time": "2021-11-19T12:56:02.118Z"
   },
   {
    "duration": 22,
    "start_time": "2021-11-19T12:56:43.747Z"
   },
   {
    "duration": 4,
    "start_time": "2021-11-19T12:57:55.255Z"
   },
   {
    "duration": 23,
    "start_time": "2021-11-19T12:58:01.016Z"
   },
   {
    "duration": 24,
    "start_time": "2021-11-19T12:58:30.954Z"
   },
   {
    "duration": 26,
    "start_time": "2021-11-19T12:59:51.887Z"
   },
   {
    "duration": 21,
    "start_time": "2021-11-19T12:59:55.024Z"
   },
   {
    "duration": 26,
    "start_time": "2021-11-19T13:00:46.360Z"
   },
   {
    "duration": 32,
    "start_time": "2021-11-19T13:00:53.197Z"
   },
   {
    "duration": 5,
    "start_time": "2021-11-19T13:01:14.840Z"
   },
   {
    "duration": 27,
    "start_time": "2021-11-19T13:01:17.665Z"
   },
   {
    "duration": 40,
    "start_time": "2021-11-19T13:02:51.790Z"
   },
   {
    "duration": 5,
    "start_time": "2021-11-19T13:03:00.518Z"
   },
   {
    "duration": 24,
    "start_time": "2021-11-19T13:03:01.913Z"
   },
   {
    "duration": 22,
    "start_time": "2021-11-19T13:03:04.313Z"
   },
   {
    "duration": 5,
    "start_time": "2021-11-19T13:03:05.551Z"
   },
   {
    "duration": 28,
    "start_time": "2021-11-19T13:03:07.298Z"
   },
   {
    "duration": 5,
    "start_time": "2021-11-19T13:05:00.744Z"
   },
   {
    "duration": 22,
    "start_time": "2021-11-19T13:05:02.623Z"
   },
   {
    "duration": 4,
    "start_time": "2021-11-19T13:05:06.055Z"
   },
   {
    "duration": 22,
    "start_time": "2021-11-19T13:05:08.626Z"
   },
   {
    "duration": 22,
    "start_time": "2021-11-19T13:05:33.641Z"
   },
   {
    "duration": 4,
    "start_time": "2021-11-19T13:05:35.518Z"
   },
   {
    "duration": 23,
    "start_time": "2021-11-19T13:05:37.575Z"
   },
   {
    "duration": 29,
    "start_time": "2021-11-19T13:06:20.497Z"
   },
   {
    "duration": 6,
    "start_time": "2021-11-19T13:06:23.508Z"
   },
   {
    "duration": 29,
    "start_time": "2021-11-19T13:06:25.299Z"
   },
   {
    "duration": 22,
    "start_time": "2021-11-19T13:07:02.626Z"
   },
   {
    "duration": 4,
    "start_time": "2021-11-19T13:07:03.977Z"
   },
   {
    "duration": 5,
    "start_time": "2021-11-19T13:10:43.185Z"
   },
   {
    "duration": 21,
    "start_time": "2021-11-19T13:10:45.267Z"
   },
   {
    "duration": 583,
    "start_time": "2021-11-19T13:10:47.458Z"
   },
   {
    "duration": 25,
    "start_time": "2021-11-19T13:10:54.585Z"
   },
   {
    "duration": 118,
    "start_time": "2021-11-19T13:17:44.606Z"
   },
   {
    "duration": 109,
    "start_time": "2021-11-19T13:17:47.835Z"
   },
   {
    "duration": 783,
    "start_time": "2021-11-19T13:20:04.720Z"
   },
   {
    "duration": 202,
    "start_time": "2021-11-19T13:20:05.506Z"
   },
   {
    "duration": 27,
    "start_time": "2021-11-19T13:20:05.712Z"
   },
   {
    "duration": 58,
    "start_time": "2021-11-19T13:20:05.742Z"
   },
   {
    "duration": 5,
    "start_time": "2021-11-19T13:20:05.803Z"
   },
   {
    "duration": 36,
    "start_time": "2021-11-19T13:20:05.810Z"
   },
   {
    "duration": 11,
    "start_time": "2021-11-19T13:20:05.848Z"
   },
   {
    "duration": 79,
    "start_time": "2021-11-19T13:20:05.862Z"
   },
   {
    "duration": 23,
    "start_time": "2021-11-19T13:20:05.945Z"
   },
   {
    "duration": 44,
    "start_time": "2021-11-19T13:20:05.971Z"
   },
   {
    "duration": 106,
    "start_time": "2021-11-19T13:20:06.017Z"
   },
   {
    "duration": 130,
    "start_time": "2021-11-19T13:20:06.125Z"
   },
   {
    "duration": 97,
    "start_time": "2021-11-19T13:20:06.257Z"
   },
   {
    "duration": 8,
    "start_time": "2021-11-19T13:20:06.357Z"
   },
   {
    "duration": 5,
    "start_time": "2021-11-19T13:20:06.367Z"
   },
   {
    "duration": 463,
    "start_time": "2021-11-19T13:20:06.374Z"
   },
   {
    "duration": 231,
    "start_time": "2021-11-19T13:20:06.609Z"
   },
   {
    "duration": 229,
    "start_time": "2021-11-19T13:20:06.613Z"
   },
   {
    "duration": 228,
    "start_time": "2021-11-19T13:20:06.615Z"
   },
   {
    "duration": 229,
    "start_time": "2021-11-19T13:20:06.616Z"
   },
   {
    "duration": 229,
    "start_time": "2021-11-19T13:20:06.617Z"
   },
   {
    "duration": 229,
    "start_time": "2021-11-19T13:20:06.619Z"
   },
   {
    "duration": 229,
    "start_time": "2021-11-19T13:20:06.620Z"
   },
   {
    "duration": 228,
    "start_time": "2021-11-19T13:20:06.623Z"
   },
   {
    "duration": 228,
    "start_time": "2021-11-19T13:20:06.624Z"
   },
   {
    "duration": 227,
    "start_time": "2021-11-19T13:20:06.627Z"
   },
   {
    "duration": 225,
    "start_time": "2021-11-19T13:20:06.630Z"
   },
   {
    "duration": 225,
    "start_time": "2021-11-19T13:20:06.631Z"
   },
   {
    "duration": 224,
    "start_time": "2021-11-19T13:20:06.634Z"
   },
   {
    "duration": 222,
    "start_time": "2021-11-19T13:20:06.637Z"
   },
   {
    "duration": 222,
    "start_time": "2021-11-19T13:20:06.639Z"
   },
   {
    "duration": 222,
    "start_time": "2021-11-19T13:20:06.641Z"
   },
   {
    "duration": 218,
    "start_time": "2021-11-19T13:20:06.646Z"
   },
   {
    "duration": 198,
    "start_time": "2021-11-19T13:20:06.667Z"
   },
   {
    "duration": 199,
    "start_time": "2021-11-19T13:20:06.668Z"
   },
   {
    "duration": 198,
    "start_time": "2021-11-19T13:20:06.670Z"
   },
   {
    "duration": 198,
    "start_time": "2021-11-19T13:20:06.672Z"
   },
   {
    "duration": 196,
    "start_time": "2021-11-19T13:20:06.675Z"
   },
   {
    "duration": 746,
    "start_time": "2021-11-19T13:21:41.539Z"
   },
   {
    "duration": 193,
    "start_time": "2021-11-19T13:21:42.288Z"
   },
   {
    "duration": 29,
    "start_time": "2021-11-19T13:21:42.484Z"
   },
   {
    "duration": 39,
    "start_time": "2021-11-19T13:21:42.516Z"
   },
   {
    "duration": 5,
    "start_time": "2021-11-19T13:21:42.557Z"
   },
   {
    "duration": 60,
    "start_time": "2021-11-19T13:21:42.564Z"
   },
   {
    "duration": 5,
    "start_time": "2021-11-19T13:21:42.626Z"
   },
   {
    "duration": 77,
    "start_time": "2021-11-19T13:21:42.634Z"
   },
   {
    "duration": 23,
    "start_time": "2021-11-19T13:21:42.713Z"
   },
   {
    "duration": 30,
    "start_time": "2021-11-19T13:21:42.738Z"
   },
   {
    "duration": 112,
    "start_time": "2021-11-19T13:21:42.771Z"
   },
   {
    "duration": 134,
    "start_time": "2021-11-19T13:21:42.885Z"
   },
   {
    "duration": 100,
    "start_time": "2021-11-19T13:21:43.022Z"
   },
   {
    "duration": 9,
    "start_time": "2021-11-19T13:21:43.124Z"
   },
   {
    "duration": 4,
    "start_time": "2021-11-19T13:21:43.135Z"
   },
   {
    "duration": 16,
    "start_time": "2021-11-19T13:21:43.142Z"
   },
   {
    "duration": 41,
    "start_time": "2021-11-19T13:21:43.161Z"
   },
   {
    "duration": 35,
    "start_time": "2021-11-19T13:21:43.204Z"
   },
   {
    "duration": 67,
    "start_time": "2021-11-19T13:21:43.241Z"
   },
   {
    "duration": 5,
    "start_time": "2021-11-19T13:21:43.310Z"
   },
   {
    "duration": 466,
    "start_time": "2021-11-19T13:21:43.317Z"
   },
   {
    "duration": 226,
    "start_time": "2021-11-19T13:21:43.560Z"
   },
   {
    "duration": 226,
    "start_time": "2021-11-19T13:21:43.561Z"
   },
   {
    "duration": 226,
    "start_time": "2021-11-19T13:21:43.563Z"
   },
   {
    "duration": 218,
    "start_time": "2021-11-19T13:21:43.572Z"
   },
   {
    "duration": 216,
    "start_time": "2021-11-19T13:21:43.575Z"
   },
   {
    "duration": 216,
    "start_time": "2021-11-19T13:21:43.576Z"
   },
   {
    "duration": 216,
    "start_time": "2021-11-19T13:21:43.577Z"
   },
   {
    "duration": 217,
    "start_time": "2021-11-19T13:21:43.578Z"
   },
   {
    "duration": 217,
    "start_time": "2021-11-19T13:21:43.579Z"
   },
   {
    "duration": 217,
    "start_time": "2021-11-19T13:21:43.580Z"
   },
   {
    "duration": 217,
    "start_time": "2021-11-19T13:21:43.582Z"
   },
   {
    "duration": 217,
    "start_time": "2021-11-19T13:21:43.583Z"
   },
   {
    "duration": 217,
    "start_time": "2021-11-19T13:21:43.584Z"
   },
   {
    "duration": 217,
    "start_time": "2021-11-19T13:21:43.585Z"
   },
   {
    "duration": 214,
    "start_time": "2021-11-19T13:21:43.589Z"
   },
   {
    "duration": 210,
    "start_time": "2021-11-19T13:21:43.595Z"
   },
   {
    "duration": 209,
    "start_time": "2021-11-19T13:21:43.597Z"
   },
   {
    "duration": 15,
    "start_time": "2021-11-19T13:22:11.233Z"
   },
   {
    "duration": 15,
    "start_time": "2021-11-19T13:22:26.287Z"
   },
   {
    "duration": 16,
    "start_time": "2021-11-19T13:22:36.444Z"
   },
   {
    "duration": 82,
    "start_time": "2021-11-19T13:23:53.355Z"
   },
   {
    "duration": 997,
    "start_time": "2021-11-19T13:25:59.755Z"
   },
   {
    "duration": 200,
    "start_time": "2021-11-19T13:26:00.755Z"
   },
   {
    "duration": 41,
    "start_time": "2021-11-19T13:26:00.961Z"
   },
   {
    "duration": 39,
    "start_time": "2021-11-19T13:26:01.005Z"
   },
   {
    "duration": 27,
    "start_time": "2021-11-19T13:26:01.047Z"
   },
   {
    "duration": 38,
    "start_time": "2021-11-19T13:26:01.077Z"
   },
   {
    "duration": 10,
    "start_time": "2021-11-19T13:26:01.117Z"
   },
   {
    "duration": 74,
    "start_time": "2021-11-19T13:26:01.132Z"
   },
   {
    "duration": 26,
    "start_time": "2021-11-19T13:26:01.211Z"
   },
   {
    "duration": 47,
    "start_time": "2021-11-19T13:26:01.240Z"
   },
   {
    "duration": 133,
    "start_time": "2021-11-19T13:26:01.302Z"
   },
   {
    "duration": 122,
    "start_time": "2021-11-19T13:26:01.438Z"
   },
   {
    "duration": 100,
    "start_time": "2021-11-19T13:26:01.563Z"
   },
   {
    "duration": 9,
    "start_time": "2021-11-19T13:26:01.666Z"
   },
   {
    "duration": 57,
    "start_time": "2021-11-19T13:26:01.677Z"
   },
   {
    "duration": 50,
    "start_time": "2021-11-19T13:26:01.736Z"
   },
   {
    "duration": 51,
    "start_time": "2021-11-19T13:26:01.789Z"
   },
   {
    "duration": 66,
    "start_time": "2021-11-19T13:26:01.842Z"
   },
   {
    "duration": 46,
    "start_time": "2021-11-19T13:26:01.911Z"
   },
   {
    "duration": 5,
    "start_time": "2021-11-19T13:26:01.959Z"
   },
   {
    "duration": 61,
    "start_time": "2021-11-19T13:26:01.967Z"
   },
   {
    "duration": 23,
    "start_time": "2021-11-19T13:26:02.030Z"
   },
   {
    "duration": 27,
    "start_time": "2021-11-19T13:26:02.055Z"
   },
   {
    "duration": 44,
    "start_time": "2021-11-19T13:26:02.085Z"
   },
   {
    "duration": 8,
    "start_time": "2021-11-19T13:26:02.132Z"
   },
   {
    "duration": 20,
    "start_time": "2021-11-19T13:26:02.145Z"
   },
   {
    "duration": 30,
    "start_time": "2021-11-19T13:26:02.167Z"
   },
   {
    "duration": 18,
    "start_time": "2021-11-19T13:26:02.199Z"
   },
   {
    "duration": 23,
    "start_time": "2021-11-19T13:26:02.219Z"
   },
   {
    "duration": 17,
    "start_time": "2021-11-19T13:26:02.244Z"
   },
   {
    "duration": 23,
    "start_time": "2021-11-19T13:26:02.264Z"
   },
   {
    "duration": 23,
    "start_time": "2021-11-19T13:26:02.289Z"
   },
   {
    "duration": 47,
    "start_time": "2021-11-19T13:26:02.315Z"
   },
   {
    "duration": 25,
    "start_time": "2021-11-19T13:26:02.364Z"
   },
   {
    "duration": 10,
    "start_time": "2021-11-19T13:26:02.392Z"
   },
   {
    "duration": 34,
    "start_time": "2021-11-19T13:26:02.405Z"
   },
   {
    "duration": 44,
    "start_time": "2021-11-19T13:26:02.441Z"
   },
   {
    "duration": 15,
    "start_time": "2021-11-19T13:26:02.487Z"
   },
   {
    "duration": 23,
    "start_time": "2021-11-19T13:26:10.758Z"
   },
   {
    "duration": 24,
    "start_time": "2021-11-19T13:26:13.367Z"
   },
   {
    "duration": 84,
    "start_time": "2021-11-19T13:28:56.513Z"
   },
   {
    "duration": 95,
    "start_time": "2021-11-19T13:28:59.278Z"
   },
   {
    "duration": 80,
    "start_time": "2021-11-19T13:29:04.752Z"
   },
   {
    "duration": 21,
    "start_time": "2021-11-19T13:30:46.585Z"
   },
   {
    "duration": 22,
    "start_time": "2021-11-19T13:30:56.497Z"
   },
   {
    "duration": 23,
    "start_time": "2021-11-19T13:31:00.853Z"
   },
   {
    "duration": 24,
    "start_time": "2021-11-19T13:31:03.412Z"
   },
   {
    "duration": 21,
    "start_time": "2021-11-19T13:31:05.717Z"
   },
   {
    "duration": 21,
    "start_time": "2021-11-19T13:31:09.140Z"
   },
   {
    "duration": 4,
    "start_time": "2021-11-19T13:31:10.843Z"
   },
   {
    "duration": 21,
    "start_time": "2021-11-19T13:31:12.524Z"
   },
   {
    "duration": 21,
    "start_time": "2021-11-19T13:31:15.659Z"
   },
   {
    "duration": 4,
    "start_time": "2021-11-19T13:31:17.672Z"
   },
   {
    "duration": 21,
    "start_time": "2021-11-19T13:31:21.652Z"
   },
   {
    "duration": 5,
    "start_time": "2021-11-19T13:31:24.091Z"
   },
   {
    "duration": 22,
    "start_time": "2021-11-19T13:31:25.823Z"
   },
   {
    "duration": 22,
    "start_time": "2021-11-19T13:31:27.587Z"
   },
   {
    "duration": 22,
    "start_time": "2021-11-19T13:31:32.172Z"
   },
   {
    "duration": 833,
    "start_time": "2021-11-19T13:31:47.957Z"
   },
   {
    "duration": 195,
    "start_time": "2021-11-19T13:31:48.793Z"
   },
   {
    "duration": 26,
    "start_time": "2021-11-19T13:31:48.992Z"
   },
   {
    "duration": 55,
    "start_time": "2021-11-19T13:31:49.021Z"
   },
   {
    "duration": 10,
    "start_time": "2021-11-19T13:31:49.079Z"
   },
   {
    "duration": 35,
    "start_time": "2021-11-19T13:31:49.091Z"
   },
   {
    "duration": 9,
    "start_time": "2021-11-19T13:31:49.129Z"
   },
   {
    "duration": 61,
    "start_time": "2021-11-19T13:31:49.141Z"
   },
   {
    "duration": 24,
    "start_time": "2021-11-19T13:31:49.206Z"
   },
   {
    "duration": 30,
    "start_time": "2021-11-19T13:31:49.233Z"
   },
   {
    "duration": 127,
    "start_time": "2021-11-19T13:31:49.265Z"
   },
   {
    "duration": 163,
    "start_time": "2021-11-19T13:31:49.395Z"
   },
   {
    "duration": 90,
    "start_time": "2021-11-19T13:31:49.561Z"
   },
   {
    "duration": 47,
    "start_time": "2021-11-19T13:31:49.654Z"
   },
   {
    "duration": 14,
    "start_time": "2021-11-19T13:31:49.704Z"
   },
   {
    "duration": 20,
    "start_time": "2021-11-19T13:31:49.721Z"
   },
   {
    "duration": 13,
    "start_time": "2021-11-19T13:31:49.743Z"
   },
   {
    "duration": 34,
    "start_time": "2021-11-19T13:31:49.801Z"
   },
   {
    "duration": 96,
    "start_time": "2021-11-19T13:31:49.838Z"
   },
   {
    "duration": 5,
    "start_time": "2021-11-19T13:31:49.936Z"
   },
   {
    "duration": 32,
    "start_time": "2021-11-19T13:31:49.943Z"
   },
   {
    "duration": 37,
    "start_time": "2021-11-19T13:31:49.978Z"
   },
   {
    "duration": 31,
    "start_time": "2021-11-19T13:31:50.017Z"
   },
   {
    "duration": 8,
    "start_time": "2021-11-19T13:31:50.050Z"
   },
   {
    "duration": 10,
    "start_time": "2021-11-19T13:31:50.060Z"
   },
   {
    "duration": 17,
    "start_time": "2021-11-19T13:31:50.072Z"
   },
   {
    "duration": 3,
    "start_time": "2021-11-19T13:31:50.102Z"
   },
   {
    "duration": 9,
    "start_time": "2021-11-19T13:31:50.108Z"
   },
   {
    "duration": 15,
    "start_time": "2021-11-19T13:31:50.119Z"
   },
   {
    "duration": 20,
    "start_time": "2021-11-19T13:31:50.136Z"
   },
   {
    "duration": 16,
    "start_time": "2021-11-19T13:31:50.159Z"
   },
   {
    "duration": 101,
    "start_time": "2021-11-19T13:31:50.177Z"
   },
   {
    "duration": 18,
    "start_time": "2021-11-19T13:31:50.280Z"
   },
   {
    "duration": 11,
    "start_time": "2021-11-19T13:31:50.300Z"
   },
   {
    "duration": 15,
    "start_time": "2021-11-19T13:31:50.314Z"
   },
   {
    "duration": 16,
    "start_time": "2021-11-19T13:31:50.331Z"
   },
   {
    "duration": 17,
    "start_time": "2021-11-19T13:31:50.349Z"
   },
   {
    "duration": 23,
    "start_time": "2021-11-19T13:31:50.368Z"
   },
   {
    "duration": 766,
    "start_time": "2021-11-19T13:38:02.619Z"
   },
   {
    "duration": 201,
    "start_time": "2021-11-19T13:38:03.388Z"
   },
   {
    "duration": 25,
    "start_time": "2021-11-19T13:38:03.592Z"
   },
   {
    "duration": 33,
    "start_time": "2021-11-19T13:38:03.620Z"
   },
   {
    "duration": 7,
    "start_time": "2021-11-19T13:38:03.655Z"
   },
   {
    "duration": 59,
    "start_time": "2021-11-19T13:38:03.665Z"
   },
   {
    "duration": 5,
    "start_time": "2021-11-19T13:38:03.727Z"
   },
   {
    "duration": 79,
    "start_time": "2021-11-19T13:38:03.734Z"
   },
   {
    "duration": 24,
    "start_time": "2021-11-19T13:38:03.817Z"
   },
   {
    "duration": 30,
    "start_time": "2021-11-19T13:38:03.844Z"
   },
   {
    "duration": 111,
    "start_time": "2021-11-19T13:38:03.876Z"
   },
   {
    "duration": 118,
    "start_time": "2021-11-19T13:38:03.989Z"
   },
   {
    "duration": 90,
    "start_time": "2021-11-19T13:38:04.110Z"
   },
   {
    "duration": 9,
    "start_time": "2021-11-19T13:38:04.203Z"
   },
   {
    "duration": 5,
    "start_time": "2021-11-19T13:38:04.214Z"
   },
   {
    "duration": 18,
    "start_time": "2021-11-19T13:38:04.222Z"
   },
   {
    "duration": 14,
    "start_time": "2021-11-19T13:38:04.242Z"
   },
   {
    "duration": 64,
    "start_time": "2021-11-19T13:38:04.259Z"
   },
   {
    "duration": 41,
    "start_time": "2021-11-19T13:38:04.325Z"
   },
   {
    "duration": 6,
    "start_time": "2021-11-19T13:38:04.368Z"
   },
   {
    "duration": 21,
    "start_time": "2021-11-19T13:38:04.401Z"
   },
   {
    "duration": 21,
    "start_time": "2021-11-19T13:38:04.425Z"
   },
   {
    "duration": 54,
    "start_time": "2021-11-19T13:38:04.448Z"
   },
   {
    "duration": 4,
    "start_time": "2021-11-19T13:38:04.504Z"
   },
   {
    "duration": 7,
    "start_time": "2021-11-19T13:38:04.511Z"
   },
   {
    "duration": 7,
    "start_time": "2021-11-19T13:38:04.521Z"
   },
   {
    "duration": 6,
    "start_time": "2021-11-19T13:38:04.533Z"
   },
   {
    "duration": 8,
    "start_time": "2021-11-19T13:38:04.541Z"
   },
   {
    "duration": 9,
    "start_time": "2021-11-19T13:38:04.551Z"
   },
   {
    "duration": 38,
    "start_time": "2021-11-19T13:38:04.562Z"
   },
   {
    "duration": 11,
    "start_time": "2021-11-19T13:38:04.603Z"
   },
   {
    "duration": 7,
    "start_time": "2021-11-19T13:38:04.616Z"
   },
   {
    "duration": 12,
    "start_time": "2021-11-19T13:38:04.626Z"
   },
   {
    "duration": 12,
    "start_time": "2021-11-19T13:38:04.640Z"
   },
   {
    "duration": 9,
    "start_time": "2021-11-19T13:38:04.654Z"
   },
   {
    "duration": 10,
    "start_time": "2021-11-19T13:38:04.665Z"
   },
   {
    "duration": 9,
    "start_time": "2021-11-19T13:38:04.677Z"
   },
   {
    "duration": 10,
    "start_time": "2021-11-19T13:38:04.689Z"
   },
   {
    "duration": 21,
    "start_time": "2021-11-19T13:41:34.242Z"
   },
   {
    "duration": 24,
    "start_time": "2021-11-19T13:43:34.818Z"
   },
   {
    "duration": 22,
    "start_time": "2021-11-19T13:43:37.056Z"
   },
   {
    "duration": 23,
    "start_time": "2021-11-19T13:44:06.035Z"
   },
   {
    "duration": 24,
    "start_time": "2021-11-19T13:44:08.036Z"
   },
   {
    "duration": 5,
    "start_time": "2021-11-19T13:44:14.159Z"
   },
   {
    "duration": 221,
    "start_time": "2021-11-19T13:44:25.123Z"
   },
   {
    "duration": 5,
    "start_time": "2021-11-19T13:44:29.367Z"
   },
   {
    "duration": 9069,
    "start_time": "2021-11-19T13:44:36.601Z"
   },
   {
    "duration": 226,
    "start_time": "2021-11-19T13:44:45.447Z"
   },
   {
    "duration": 224,
    "start_time": "2021-11-19T13:44:45.451Z"
   },
   {
    "duration": 6,
    "start_time": "2021-11-19T13:46:02.264Z"
   },
   {
    "duration": 22,
    "start_time": "2021-11-19T13:46:05.133Z"
   },
   {
    "duration": 20,
    "start_time": "2021-11-19T13:46:07.178Z"
   },
   {
    "duration": 21,
    "start_time": "2021-11-19T13:46:09.072Z"
   },
   {
    "duration": 19,
    "start_time": "2021-11-19T13:46:12.259Z"
   },
   {
    "duration": 20,
    "start_time": "2021-11-19T13:46:35.526Z"
   },
   {
    "duration": 19,
    "start_time": "2021-11-19T13:46:46.727Z"
   },
   {
    "duration": 19,
    "start_time": "2021-11-19T13:46:50.503Z"
   },
   {
    "duration": 410,
    "start_time": "2021-11-19T13:59:49.528Z"
   },
   {
    "duration": 349,
    "start_time": "2021-11-19T14:00:29.019Z"
   },
   {
    "duration": 809,
    "start_time": "2021-11-19T14:01:22.475Z"
   },
   {
    "duration": 196,
    "start_time": "2021-11-19T14:01:23.286Z"
   },
   {
    "duration": 26,
    "start_time": "2021-11-19T14:01:23.485Z"
   },
   {
    "duration": 33,
    "start_time": "2021-11-19T14:01:23.514Z"
   },
   {
    "duration": 4,
    "start_time": "2021-11-19T14:01:23.549Z"
   },
   {
    "duration": 65,
    "start_time": "2021-11-19T14:01:23.556Z"
   },
   {
    "duration": 9,
    "start_time": "2021-11-19T14:01:23.624Z"
   },
   {
    "duration": 71,
    "start_time": "2021-11-19T14:01:23.636Z"
   },
   {
    "duration": 23,
    "start_time": "2021-11-19T14:01:23.710Z"
   },
   {
    "duration": 28,
    "start_time": "2021-11-19T14:01:23.735Z"
   },
   {
    "duration": 115,
    "start_time": "2021-11-19T14:01:23.765Z"
   },
   {
    "duration": 118,
    "start_time": "2021-11-19T14:01:23.882Z"
   },
   {
    "duration": 78,
    "start_time": "2021-11-19T14:01:24.003Z"
   },
   {
    "duration": 22,
    "start_time": "2021-11-19T14:01:24.083Z"
   },
   {
    "duration": 5,
    "start_time": "2021-11-19T14:01:24.108Z"
   },
   {
    "duration": 20,
    "start_time": "2021-11-19T14:01:24.115Z"
   },
   {
    "duration": 14,
    "start_time": "2021-11-19T14:01:24.138Z"
   },
   {
    "duration": 72,
    "start_time": "2021-11-19T14:01:24.155Z"
   },
   {
    "duration": 46,
    "start_time": "2021-11-19T14:01:24.230Z"
   },
   {
    "duration": 26,
    "start_time": "2021-11-19T14:01:24.278Z"
   },
   {
    "duration": 39,
    "start_time": "2021-11-19T14:01:24.307Z"
   },
   {
    "duration": 20,
    "start_time": "2021-11-19T14:01:24.348Z"
   },
   {
    "duration": 42,
    "start_time": "2021-11-19T14:01:24.372Z"
   },
   {
    "duration": 18,
    "start_time": "2021-11-19T14:01:24.417Z"
   },
   {
    "duration": 19,
    "start_time": "2021-11-19T14:01:24.437Z"
   },
   {
    "duration": 53,
    "start_time": "2021-11-19T14:01:24.458Z"
   },
   {
    "duration": 456,
    "start_time": "2021-11-19T14:01:24.513Z"
   },
   {
    "duration": 224,
    "start_time": "2021-11-19T14:01:24.747Z"
   },
   {
    "duration": 222,
    "start_time": "2021-11-19T14:01:24.750Z"
   },
   {
    "duration": 219,
    "start_time": "2021-11-19T14:01:24.754Z"
   },
   {
    "duration": 221,
    "start_time": "2021-11-19T14:01:24.754Z"
   },
   {
    "duration": 220,
    "start_time": "2021-11-19T14:01:24.756Z"
   },
   {
    "duration": 219,
    "start_time": "2021-11-19T14:01:24.758Z"
   },
   {
    "duration": 216,
    "start_time": "2021-11-19T14:01:24.762Z"
   },
   {
    "duration": 215,
    "start_time": "2021-11-19T14:01:24.764Z"
   },
   {
    "duration": 215,
    "start_time": "2021-11-19T14:01:24.765Z"
   },
   {
    "duration": 213,
    "start_time": "2021-11-19T14:01:24.769Z"
   },
   {
    "duration": 213,
    "start_time": "2021-11-19T14:01:24.770Z"
   },
   {
    "duration": 10,
    "start_time": "2021-11-19T14:06:10.940Z"
   },
   {
    "duration": 12,
    "start_time": "2021-11-19T14:06:29.974Z"
   },
   {
    "duration": 32,
    "start_time": "2021-11-19T14:09:09.462Z"
   },
   {
    "duration": 18,
    "start_time": "2021-11-19T14:09:18.309Z"
   },
   {
    "duration": 10,
    "start_time": "2021-11-19T14:09:36.166Z"
   },
   {
    "duration": 366,
    "start_time": "2021-11-19T14:09:49.941Z"
   },
   {
    "duration": 4,
    "start_time": "2021-11-19T14:10:01.454Z"
   },
   {
    "duration": 6,
    "start_time": "2021-11-19T14:10:16.773Z"
   },
   {
    "duration": 21,
    "start_time": "2021-11-19T14:10:42.967Z"
   },
   {
    "duration": 14,
    "start_time": "2021-11-19T14:10:49.137Z"
   },
   {
    "duration": 346,
    "start_time": "2021-11-19T14:27:33.465Z"
   },
   {
    "duration": 6,
    "start_time": "2021-11-19T14:28:08.435Z"
   },
   {
    "duration": 747,
    "start_time": "2021-11-19T14:28:10.933Z"
   },
   {
    "duration": 738,
    "start_time": "2021-11-19T14:28:48.764Z"
   },
   {
    "duration": 10,
    "start_time": "2021-11-19T14:28:51.503Z"
   },
   {
    "duration": 1258,
    "start_time": "2021-11-19T14:28:53.828Z"
   },
   {
    "duration": 831,
    "start_time": "2021-11-19T14:30:01.748Z"
   },
   {
    "duration": 9,
    "start_time": "2021-11-19T14:30:04.303Z"
   },
   {
    "duration": 705,
    "start_time": "2021-11-19T14:30:06.364Z"
   },
   {
    "duration": 867,
    "start_time": "2021-11-19T14:30:21.778Z"
   },
   {
    "duration": 201,
    "start_time": "2021-11-19T14:30:22.648Z"
   },
   {
    "duration": 25,
    "start_time": "2021-11-19T14:30:22.856Z"
   },
   {
    "duration": 55,
    "start_time": "2021-11-19T14:30:22.884Z"
   },
   {
    "duration": 5,
    "start_time": "2021-11-19T14:30:22.942Z"
   },
   {
    "duration": 58,
    "start_time": "2021-11-19T14:30:22.949Z"
   },
   {
    "duration": 5,
    "start_time": "2021-11-19T14:30:23.011Z"
   },
   {
    "duration": 82,
    "start_time": "2021-11-19T14:30:23.020Z"
   },
   {
    "duration": 24,
    "start_time": "2021-11-19T14:30:23.106Z"
   },
   {
    "duration": 32,
    "start_time": "2021-11-19T14:30:23.133Z"
   },
   {
    "duration": 124,
    "start_time": "2021-11-19T14:30:23.168Z"
   },
   {
    "duration": 128,
    "start_time": "2021-11-19T14:30:23.295Z"
   },
   {
    "duration": 97,
    "start_time": "2021-11-19T14:30:23.426Z"
   },
   {
    "duration": 8,
    "start_time": "2021-11-19T14:30:23.525Z"
   },
   {
    "duration": 10,
    "start_time": "2021-11-19T14:30:23.536Z"
   },
   {
    "duration": 20,
    "start_time": "2021-11-19T14:30:23.548Z"
   },
   {
    "duration": 31,
    "start_time": "2021-11-19T14:30:23.571Z"
   },
   {
    "duration": 40,
    "start_time": "2021-11-19T14:30:23.605Z"
   },
   {
    "duration": 79,
    "start_time": "2021-11-19T14:30:23.648Z"
   },
   {
    "duration": 6,
    "start_time": "2021-11-19T14:30:23.730Z"
   },
   {
    "duration": 41,
    "start_time": "2021-11-19T14:30:23.739Z"
   },
   {
    "duration": 35,
    "start_time": "2021-11-19T14:30:23.783Z"
   },
   {
    "duration": 22,
    "start_time": "2021-11-19T14:30:23.820Z"
   },
   {
    "duration": 25,
    "start_time": "2021-11-19T14:30:23.845Z"
   },
   {
    "duration": 55,
    "start_time": "2021-11-19T14:30:23.872Z"
   },
   {
    "duration": 20,
    "start_time": "2021-11-19T14:30:23.932Z"
   },
   {
    "duration": 45,
    "start_time": "2021-11-19T14:30:23.955Z"
   },
   {
    "duration": 21,
    "start_time": "2021-11-19T14:30:24.005Z"
   },
   {
    "duration": 12,
    "start_time": "2021-11-19T14:30:24.028Z"
   },
   {
    "duration": 5,
    "start_time": "2021-11-19T14:30:24.042Z"
   },
   {
    "duration": 888,
    "start_time": "2021-11-19T14:30:24.050Z"
   },
   {
    "duration": 200,
    "start_time": "2021-11-19T14:30:24.742Z"
   },
   {
    "duration": 201,
    "start_time": "2021-11-19T14:30:24.743Z"
   },
   {
    "duration": 202,
    "start_time": "2021-11-19T14:30:24.744Z"
   },
   {
    "duration": 202,
    "start_time": "2021-11-19T14:30:24.746Z"
   },
   {
    "duration": 202,
    "start_time": "2021-11-19T14:30:24.748Z"
   },
   {
    "duration": 201,
    "start_time": "2021-11-19T14:30:24.752Z"
   },
   {
    "duration": 202,
    "start_time": "2021-11-19T14:30:24.753Z"
   },
   {
    "duration": 6,
    "start_time": "2021-11-19T14:30:56.536Z"
   },
   {
    "duration": 1852,
    "start_time": "2021-11-19T14:30:58.191Z"
   },
   {
    "duration": 18,
    "start_time": "2021-11-19T14:31:12.797Z"
   },
   {
    "duration": 720,
    "start_time": "2021-11-19T14:31:14.319Z"
   },
   {
    "duration": 13,
    "start_time": "2021-11-19T14:31:43.816Z"
   },
   {
    "duration": 708,
    "start_time": "2021-11-19T14:31:45.582Z"
   },
   {
    "duration": 6,
    "start_time": "2021-11-19T14:31:52.148Z"
   },
   {
    "duration": 27,
    "start_time": "2021-11-19T14:31:53.967Z"
   },
   {
    "duration": 7,
    "start_time": "2021-11-19T14:32:13.099Z"
   },
   {
    "duration": 27,
    "start_time": "2021-11-19T14:32:14.662Z"
   },
   {
    "duration": 24,
    "start_time": "2021-11-19T14:32:50.529Z"
   },
   {
    "duration": 325,
    "start_time": "2021-11-19T14:37:53.276Z"
   },
   {
    "duration": 25,
    "start_time": "2021-11-19T14:38:18.710Z"
   },
   {
    "duration": 20,
    "start_time": "2021-11-19T14:38:36.391Z"
   },
   {
    "duration": 20,
    "start_time": "2021-11-19T14:38:42.414Z"
   },
   {
    "duration": 30,
    "start_time": "2021-11-19T14:39:28.998Z"
   },
   {
    "duration": 21,
    "start_time": "2021-11-19T14:39:44.075Z"
   },
   {
    "duration": 158,
    "start_time": "2021-11-19T14:39:56.133Z"
   },
   {
    "duration": 9,
    "start_time": "2021-11-19T14:40:13.434Z"
   },
   {
    "duration": 31,
    "start_time": "2021-11-19T14:40:38.078Z"
   },
   {
    "duration": 18,
    "start_time": "2021-11-19T14:40:46.635Z"
   },
   {
    "duration": 9,
    "start_time": "2021-11-19T14:41:08.561Z"
   },
   {
    "duration": 19,
    "start_time": "2021-11-19T14:41:49.954Z"
   },
   {
    "duration": 22,
    "start_time": "2021-11-19T14:42:00.923Z"
   },
   {
    "duration": 24,
    "start_time": "2021-11-19T14:42:35.408Z"
   },
   {
    "duration": 15,
    "start_time": "2021-11-19T14:43:53.294Z"
   },
   {
    "duration": 24,
    "start_time": "2021-11-19T14:44:59.232Z"
   },
   {
    "duration": 29,
    "start_time": "2021-11-19T14:45:12.402Z"
   },
   {
    "duration": 347,
    "start_time": "2021-11-19T14:46:47.140Z"
   },
   {
    "duration": 57,
    "start_time": "2021-11-19T14:47:24.576Z"
   },
   {
    "duration": 368,
    "start_time": "2021-11-19T14:48:25.009Z"
   },
   {
    "duration": 28,
    "start_time": "2021-11-19T14:48:47.640Z"
   },
   {
    "duration": 28,
    "start_time": "2021-11-19T14:49:34.108Z"
   },
   {
    "duration": 26,
    "start_time": "2021-11-19T14:49:51.882Z"
   },
   {
    "duration": 6,
    "start_time": "2021-11-19T14:50:27.175Z"
   },
   {
    "duration": 23,
    "start_time": "2021-11-19T14:50:28.695Z"
   },
   {
    "duration": 4,
    "start_time": "2021-11-19T14:51:12.110Z"
   },
   {
    "duration": 26,
    "start_time": "2021-11-19T14:51:30.301Z"
   },
   {
    "duration": 18,
    "start_time": "2021-11-19T14:51:57.105Z"
   },
   {
    "duration": 26,
    "start_time": "2021-11-19T14:52:50.461Z"
   },
   {
    "duration": 18,
    "start_time": "2021-11-19T14:53:10.156Z"
   },
   {
    "duration": 103,
    "start_time": "2021-11-19T15:01:02.909Z"
   },
   {
    "duration": 93,
    "start_time": "2021-11-19T15:03:22.934Z"
   },
   {
    "duration": 100,
    "start_time": "2021-11-19T15:03:36.652Z"
   },
   {
    "duration": 55,
    "start_time": "2021-11-19T15:04:05.077Z"
   },
   {
    "duration": 382,
    "start_time": "2021-11-19T15:04:31.115Z"
   },
   {
    "duration": 56,
    "start_time": "2021-11-19T15:04:54.592Z"
   },
   {
    "duration": 52,
    "start_time": "2021-11-19T15:05:32.650Z"
   },
   {
    "duration": 52,
    "start_time": "2021-11-19T15:05:49.414Z"
   },
   {
    "duration": 54,
    "start_time": "2021-11-19T15:07:34.074Z"
   },
   {
    "duration": 358,
    "start_time": "2021-11-19T15:08:48.541Z"
   },
   {
    "duration": 342,
    "start_time": "2021-11-19T15:09:05.211Z"
   },
   {
    "duration": 109,
    "start_time": "2021-11-19T15:10:57.141Z"
   },
   {
    "duration": 127,
    "start_time": "2021-11-19T15:11:32.397Z"
   },
   {
    "duration": 120,
    "start_time": "2021-11-19T15:11:49.418Z"
   },
   {
    "duration": 346,
    "start_time": "2021-11-19T15:12:53.514Z"
   },
   {
    "duration": 389,
    "start_time": "2021-11-19T15:13:27.588Z"
   },
   {
    "duration": 342,
    "start_time": "2021-11-19T15:13:39.517Z"
   },
   {
    "duration": 341,
    "start_time": "2021-11-19T15:14:14.753Z"
   },
   {
    "duration": 352,
    "start_time": "2021-11-19T15:14:33.539Z"
   },
   {
    "duration": 340,
    "start_time": "2021-11-19T15:14:56.440Z"
   },
   {
    "duration": 9,
    "start_time": "2021-11-19T15:16:10.318Z"
   },
   {
    "duration": 897,
    "start_time": "2021-11-19T15:42:43.744Z"
   },
   {
    "duration": 947,
    "start_time": "2021-11-19T15:43:00.858Z"
   },
   {
    "duration": 878,
    "start_time": "2021-11-19T15:43:12.700Z"
   },
   {
    "duration": 892,
    "start_time": "2021-11-19T15:43:29.245Z"
   },
   {
    "duration": 3,
    "start_time": "2021-11-19T15:43:36.190Z"
   },
   {
    "duration": 871,
    "start_time": "2021-11-19T15:49:14.268Z"
   },
   {
    "duration": 398,
    "start_time": "2021-11-19T15:57:59.842Z"
   },
   {
    "duration": 1014,
    "start_time": "2021-11-19T15:58:25.851Z"
   },
   {
    "duration": 370,
    "start_time": "2021-11-19T15:58:37.531Z"
   },
   {
    "duration": 4,
    "start_time": "2021-11-19T15:58:52.411Z"
   },
   {
    "duration": 6,
    "start_time": "2021-11-19T16:02:12.491Z"
   },
   {
    "duration": 799,
    "start_time": "2021-11-19T16:02:44.488Z"
   },
   {
    "duration": 193,
    "start_time": "2021-11-19T16:02:45.290Z"
   },
   {
    "duration": 31,
    "start_time": "2021-11-19T16:02:45.486Z"
   },
   {
    "duration": 35,
    "start_time": "2021-11-19T16:02:45.519Z"
   },
   {
    "duration": 6,
    "start_time": "2021-11-19T16:02:45.556Z"
   },
   {
    "duration": 60,
    "start_time": "2021-11-19T16:02:45.564Z"
   },
   {
    "duration": 8,
    "start_time": "2021-11-19T16:02:45.627Z"
   },
   {
    "duration": 71,
    "start_time": "2021-11-19T16:02:45.638Z"
   },
   {
    "duration": 22,
    "start_time": "2021-11-19T16:02:45.712Z"
   },
   {
    "duration": 28,
    "start_time": "2021-11-19T16:02:45.736Z"
   },
   {
    "duration": 113,
    "start_time": "2021-11-19T16:02:45.766Z"
   },
   {
    "duration": 123,
    "start_time": "2021-11-19T16:02:45.882Z"
   },
   {
    "duration": 77,
    "start_time": "2021-11-19T16:02:46.007Z"
   },
   {
    "duration": 17,
    "start_time": "2021-11-19T16:02:46.087Z"
   },
   {
    "duration": 5,
    "start_time": "2021-11-19T16:02:46.106Z"
   },
   {
    "duration": 28,
    "start_time": "2021-11-19T16:02:46.113Z"
   },
   {
    "duration": 12,
    "start_time": "2021-11-19T16:02:46.143Z"
   },
   {
    "duration": 62,
    "start_time": "2021-11-19T16:02:46.158Z"
   },
   {
    "duration": 38,
    "start_time": "2021-11-19T16:02:46.222Z"
   },
   {
    "duration": 5,
    "start_time": "2021-11-19T16:02:46.263Z"
   },
   {
    "duration": 46,
    "start_time": "2021-11-19T16:02:46.270Z"
   },
   {
    "duration": 40,
    "start_time": "2021-11-19T16:02:46.318Z"
   },
   {
    "duration": 29,
    "start_time": "2021-11-19T16:02:46.365Z"
   },
   {
    "duration": 20,
    "start_time": "2021-11-19T16:02:46.400Z"
   },
   {
    "duration": 22,
    "start_time": "2021-11-19T16:02:46.423Z"
   },
   {
    "duration": 26,
    "start_time": "2021-11-19T16:02:46.448Z"
   },
   {
    "duration": 14,
    "start_time": "2021-11-19T16:02:46.502Z"
   },
   {
    "duration": 29,
    "start_time": "2021-11-19T16:02:46.519Z"
   },
   {
    "duration": 15,
    "start_time": "2021-11-19T16:02:46.551Z"
   },
   {
    "duration": 35,
    "start_time": "2021-11-19T16:02:46.569Z"
   },
   {
    "duration": 56,
    "start_time": "2021-11-19T16:02:46.607Z"
   },
   {
    "duration": 32,
    "start_time": "2021-11-19T16:02:46.666Z"
   },
   {
    "duration": 38,
    "start_time": "2021-11-19T16:02:46.701Z"
   },
   {
    "duration": 23,
    "start_time": "2021-11-19T16:02:46.742Z"
   },
   {
    "duration": 25,
    "start_time": "2021-11-19T16:02:46.768Z"
   },
   {
    "duration": 473,
    "start_time": "2021-11-19T16:02:46.796Z"
   },
   {
    "duration": 187,
    "start_time": "2021-11-19T16:02:47.085Z"
   },
   {
    "duration": 187,
    "start_time": "2021-11-19T16:02:47.087Z"
   },
   {
    "duration": 398,
    "start_time": "2021-11-19T16:03:01.745Z"
   },
   {
    "duration": 115,
    "start_time": "2021-11-19T16:03:16.288Z"
   },
   {
    "duration": 378,
    "start_time": "2021-11-19T16:03:22.582Z"
   },
   {
    "duration": 427,
    "start_time": "2021-11-19T16:04:20.079Z"
   },
   {
    "duration": 127,
    "start_time": "2021-11-19T18:21:57.189Z"
   },
   {
    "duration": 1199,
    "start_time": "2021-11-19T18:22:06.081Z"
   },
   {
    "duration": 374,
    "start_time": "2021-11-19T19:07:13.080Z"
   },
   {
    "duration": 396,
    "start_time": "2021-11-19T19:07:47.709Z"
   },
   {
    "duration": 12,
    "start_time": "2021-11-19T19:08:18.103Z"
   },
   {
    "duration": 6,
    "start_time": "2021-11-19T19:08:23.257Z"
   },
   {
    "duration": 6,
    "start_time": "2021-11-19T19:08:42.589Z"
   },
   {
    "duration": 330,
    "start_time": "2021-11-19T19:10:58.012Z"
   },
   {
    "duration": 367,
    "start_time": "2021-11-19T19:11:46.736Z"
   },
   {
    "duration": 349,
    "start_time": "2021-11-19T19:11:56.696Z"
   },
   {
    "duration": 334,
    "start_time": "2021-11-19T19:12:13.539Z"
   },
   {
    "duration": 335,
    "start_time": "2021-11-19T19:12:27.583Z"
   },
   {
    "duration": 8,
    "start_time": "2021-11-19T19:12:42.759Z"
   },
   {
    "duration": 6,
    "start_time": "2021-11-19T19:12:45.813Z"
   },
   {
    "duration": 6,
    "start_time": "2021-11-19T19:12:55.743Z"
   },
   {
    "duration": 6,
    "start_time": "2021-11-19T19:13:02.132Z"
   },
   {
    "duration": 6,
    "start_time": "2021-11-19T19:13:06.667Z"
   },
   {
    "duration": 560,
    "start_time": "2021-11-20T12:13:02.038Z"
   },
   {
    "duration": 139,
    "start_time": "2021-11-20T12:13:02.600Z"
   },
   {
    "duration": 18,
    "start_time": "2021-11-20T12:13:02.741Z"
   },
   {
    "duration": 40,
    "start_time": "2021-11-20T12:13:02.761Z"
   },
   {
    "duration": 16,
    "start_time": "2021-11-20T12:13:02.803Z"
   },
   {
    "duration": 28,
    "start_time": "2021-11-20T12:13:02.821Z"
   },
   {
    "duration": 16,
    "start_time": "2021-11-20T12:13:02.851Z"
   },
   {
    "duration": 49,
    "start_time": "2021-11-20T12:13:02.870Z"
   },
   {
    "duration": 17,
    "start_time": "2021-11-20T12:13:02.921Z"
   },
   {
    "duration": 25,
    "start_time": "2021-11-20T12:13:02.940Z"
   },
   {
    "duration": 72,
    "start_time": "2021-11-20T12:13:02.967Z"
   },
   {
    "duration": 70,
    "start_time": "2021-11-20T12:13:03.041Z"
   },
   {
    "duration": 52,
    "start_time": "2021-11-20T12:13:03.113Z"
   },
   {
    "duration": 7,
    "start_time": "2021-11-20T12:13:03.167Z"
   },
   {
    "duration": 7,
    "start_time": "2021-11-20T12:13:03.176Z"
   },
   {
    "duration": 33,
    "start_time": "2021-11-20T12:13:03.185Z"
   },
   {
    "duration": 10,
    "start_time": "2021-11-20T12:13:03.220Z"
   },
   {
    "duration": 46,
    "start_time": "2021-11-20T12:13:03.232Z"
   },
   {
    "duration": 37,
    "start_time": "2021-11-20T12:13:03.280Z"
   },
   {
    "duration": 4,
    "start_time": "2021-11-20T12:13:03.318Z"
   },
   {
    "duration": 42,
    "start_time": "2021-11-20T12:13:03.324Z"
   },
   {
    "duration": 39,
    "start_time": "2021-11-20T12:13:03.368Z"
   },
   {
    "duration": 32,
    "start_time": "2021-11-20T12:13:03.411Z"
   },
   {
    "duration": 23,
    "start_time": "2021-11-20T12:13:03.445Z"
   },
   {
    "duration": 19,
    "start_time": "2021-11-20T12:13:03.470Z"
   },
   {
    "duration": 21,
    "start_time": "2021-11-20T12:13:03.491Z"
   },
   {
    "duration": 24,
    "start_time": "2021-11-20T12:13:03.514Z"
   },
   {
    "duration": 46,
    "start_time": "2021-11-20T12:13:03.540Z"
   },
   {
    "duration": 28,
    "start_time": "2021-11-20T12:13:03.588Z"
   },
   {
    "duration": 13,
    "start_time": "2021-11-20T12:13:03.618Z"
   },
   {
    "duration": 54,
    "start_time": "2021-11-20T12:13:03.633Z"
   },
   {
    "duration": 62,
    "start_time": "2021-11-20T12:13:03.689Z"
   },
   {
    "duration": 31,
    "start_time": "2021-11-20T12:13:03.753Z"
   },
   {
    "duration": 14,
    "start_time": "2021-11-20T12:13:03.786Z"
   },
   {
    "duration": 20,
    "start_time": "2021-11-20T12:13:03.801Z"
   },
   {
    "duration": 18,
    "start_time": "2021-11-20T12:13:03.823Z"
   },
   {
    "duration": 9,
    "start_time": "2021-11-20T12:13:03.843Z"
   },
   {
    "duration": 22,
    "start_time": "2021-11-20T12:13:03.854Z"
   },
   {
    "duration": 574,
    "start_time": "2021-11-20T12:20:50.120Z"
   },
   {
    "duration": 144,
    "start_time": "2021-11-20T12:20:50.696Z"
   },
   {
    "duration": 16,
    "start_time": "2021-11-20T12:20:50.842Z"
   },
   {
    "duration": 38,
    "start_time": "2021-11-20T12:20:50.859Z"
   },
   {
    "duration": 6,
    "start_time": "2021-11-20T12:20:50.898Z"
   },
   {
    "duration": 31,
    "start_time": "2021-11-20T12:20:50.906Z"
   },
   {
    "duration": 4,
    "start_time": "2021-11-20T12:20:50.939Z"
   },
   {
    "duration": 44,
    "start_time": "2021-11-20T12:20:50.946Z"
   },
   {
    "duration": 26,
    "start_time": "2021-11-20T12:20:50.992Z"
   },
   {
    "duration": 28,
    "start_time": "2021-11-20T12:20:51.020Z"
   },
   {
    "duration": 73,
    "start_time": "2021-11-20T12:20:51.050Z"
   },
   {
    "duration": 70,
    "start_time": "2021-11-20T12:20:51.125Z"
   },
   {
    "duration": 58,
    "start_time": "2021-11-20T12:20:51.197Z"
   },
   {
    "duration": 6,
    "start_time": "2021-11-20T12:20:51.257Z"
   },
   {
    "duration": 3,
    "start_time": "2021-11-20T12:20:51.265Z"
   },
   {
    "duration": 14,
    "start_time": "2021-11-20T12:20:51.270Z"
   },
   {
    "duration": 26,
    "start_time": "2021-11-20T12:20:51.286Z"
   },
   {
    "duration": 24,
    "start_time": "2021-11-20T12:20:51.314Z"
   },
   {
    "duration": 31,
    "start_time": "2021-11-20T12:20:51.340Z"
   },
   {
    "duration": 3,
    "start_time": "2021-11-20T12:20:51.373Z"
   },
   {
    "duration": 17,
    "start_time": "2021-11-20T12:20:51.406Z"
   },
   {
    "duration": 19,
    "start_time": "2021-11-20T12:20:51.425Z"
   },
   {
    "duration": 17,
    "start_time": "2021-11-20T12:20:51.448Z"
   },
   {
    "duration": 44,
    "start_time": "2021-11-20T12:20:51.467Z"
   },
   {
    "duration": 14,
    "start_time": "2021-11-20T12:20:51.513Z"
   },
   {
    "duration": 16,
    "start_time": "2021-11-20T12:20:51.529Z"
   },
   {
    "duration": 8,
    "start_time": "2021-11-20T12:20:51.547Z"
   },
   {
    "duration": 12,
    "start_time": "2021-11-20T12:20:51.558Z"
   },
   {
    "duration": 38,
    "start_time": "2021-11-20T12:20:51.572Z"
   },
   {
    "duration": 5,
    "start_time": "2021-11-20T12:20:51.612Z"
   },
   {
    "duration": 29,
    "start_time": "2021-11-20T12:20:51.619Z"
   },
   {
    "duration": 13,
    "start_time": "2021-11-20T12:20:51.650Z"
   },
   {
    "duration": 20,
    "start_time": "2021-11-20T12:20:51.665Z"
   },
   {
    "duration": 16,
    "start_time": "2021-11-20T12:20:51.707Z"
   },
   {
    "duration": 9,
    "start_time": "2021-11-20T12:20:51.725Z"
   },
   {
    "duration": 6,
    "start_time": "2021-11-20T12:20:51.736Z"
   },
   {
    "duration": 14,
    "start_time": "2021-11-20T12:20:51.744Z"
   },
   {
    "duration": 9,
    "start_time": "2021-11-20T12:20:51.759Z"
   },
   {
    "duration": 447,
    "start_time": "2021-11-20T13:16:08.560Z"
   },
   {
    "duration": 1170,
    "start_time": "2021-11-20T13:16:47.248Z"
   },
   {
    "duration": 186,
    "start_time": "2021-11-20T13:16:48.420Z"
   },
   {
    "duration": 28,
    "start_time": "2021-11-20T13:16:48.610Z"
   },
   {
    "duration": 51,
    "start_time": "2021-11-20T13:16:48.642Z"
   },
   {
    "duration": 4,
    "start_time": "2021-11-20T13:16:48.696Z"
   },
   {
    "duration": 63,
    "start_time": "2021-11-20T13:16:48.702Z"
   },
   {
    "duration": 8,
    "start_time": "2021-11-20T13:16:48.767Z"
   },
   {
    "duration": 86,
    "start_time": "2021-11-20T13:16:48.781Z"
   },
   {
    "duration": 23,
    "start_time": "2021-11-20T13:16:48.870Z"
   },
   {
    "duration": 31,
    "start_time": "2021-11-20T13:16:48.895Z"
   },
   {
    "duration": 106,
    "start_time": "2021-11-20T13:16:48.928Z"
   },
   {
    "duration": 122,
    "start_time": "2021-11-20T13:16:49.037Z"
   },
   {
    "duration": 75,
    "start_time": "2021-11-20T13:16:49.161Z"
   },
   {
    "duration": 22,
    "start_time": "2021-11-20T13:16:49.238Z"
   },
   {
    "duration": 4,
    "start_time": "2021-11-20T13:16:49.262Z"
   },
   {
    "duration": 16,
    "start_time": "2021-11-20T13:16:49.268Z"
   },
   {
    "duration": 11,
    "start_time": "2021-11-20T13:16:49.287Z"
   },
   {
    "duration": 75,
    "start_time": "2021-11-20T13:16:49.301Z"
   },
   {
    "duration": 39,
    "start_time": "2021-11-20T13:16:49.379Z"
   },
   {
    "duration": 6,
    "start_time": "2021-11-20T13:16:49.421Z"
   },
   {
    "duration": 52,
    "start_time": "2021-11-20T13:16:49.429Z"
   },
   {
    "duration": 20,
    "start_time": "2021-11-20T13:16:49.484Z"
   },
   {
    "duration": 55,
    "start_time": "2021-11-20T13:16:49.511Z"
   },
   {
    "duration": 19,
    "start_time": "2021-11-20T13:16:49.569Z"
   },
   {
    "duration": 20,
    "start_time": "2021-11-20T13:16:49.591Z"
   },
   {
    "duration": 60,
    "start_time": "2021-11-20T13:16:49.613Z"
   },
   {
    "duration": 14,
    "start_time": "2021-11-20T13:16:49.676Z"
   },
   {
    "duration": 14,
    "start_time": "2021-11-20T13:16:49.693Z"
   },
   {
    "duration": 50,
    "start_time": "2021-11-20T13:16:49.709Z"
   },
   {
    "duration": 5,
    "start_time": "2021-11-20T13:16:49.762Z"
   },
   {
    "duration": 34,
    "start_time": "2021-11-20T13:16:49.769Z"
   },
   {
    "duration": 17,
    "start_time": "2021-11-20T13:16:49.805Z"
   },
   {
    "duration": 25,
    "start_time": "2021-11-20T13:16:49.860Z"
   },
   {
    "duration": 21,
    "start_time": "2021-11-20T13:16:49.888Z"
   },
   {
    "duration": 50,
    "start_time": "2021-11-20T13:16:49.912Z"
   },
   {
    "duration": 7,
    "start_time": "2021-11-20T13:16:49.965Z"
   },
   {
    "duration": 18,
    "start_time": "2021-11-20T13:16:49.974Z"
   },
   {
    "duration": 6,
    "start_time": "2021-11-20T13:16:49.995Z"
   },
   {
    "duration": 8,
    "start_time": "2021-11-20T13:21:19.226Z"
   },
   {
    "duration": 7,
    "start_time": "2021-11-20T13:21:35.611Z"
   },
   {
    "duration": 48,
    "start_time": "2021-11-20T13:22:09.419Z"
   },
   {
    "duration": 410,
    "start_time": "2021-11-20T13:24:24.588Z"
   },
   {
    "duration": 57,
    "start_time": "2021-11-20T13:24:38.228Z"
   },
   {
    "duration": 58,
    "start_time": "2021-11-20T13:25:25.441Z"
   },
   {
    "duration": 13,
    "start_time": "2021-11-20T13:26:09.739Z"
   },
   {
    "duration": 42,
    "start_time": "2021-11-20T13:27:45.745Z"
   },
   {
    "duration": 11,
    "start_time": "2021-11-20T13:28:01.009Z"
   },
   {
    "duration": 55,
    "start_time": "2021-11-20T13:28:24.235Z"
   },
   {
    "duration": 595,
    "start_time": "2021-11-20T20:28:14.643Z"
   },
   {
    "duration": 137,
    "start_time": "2021-11-20T20:28:15.240Z"
   },
   {
    "duration": 17,
    "start_time": "2021-11-20T20:28:15.379Z"
   },
   {
    "duration": 25,
    "start_time": "2021-11-20T20:28:15.397Z"
   },
   {
    "duration": 4,
    "start_time": "2021-11-20T20:28:15.424Z"
   },
   {
    "duration": 18,
    "start_time": "2021-11-20T20:28:15.445Z"
   },
   {
    "duration": 6,
    "start_time": "2021-11-20T20:28:15.465Z"
   },
   {
    "duration": 39,
    "start_time": "2021-11-20T20:28:15.473Z"
   },
   {
    "duration": 37,
    "start_time": "2021-11-20T20:28:15.514Z"
   },
   {
    "duration": 22,
    "start_time": "2021-11-20T20:28:15.553Z"
   },
   {
    "duration": 82,
    "start_time": "2021-11-20T20:28:15.577Z"
   },
   {
    "duration": 64,
    "start_time": "2021-11-20T20:28:15.660Z"
   },
   {
    "duration": 60,
    "start_time": "2021-11-20T20:28:15.726Z"
   },
   {
    "duration": 38,
    "start_time": "2021-11-20T20:28:15.787Z"
   },
   {
    "duration": 18,
    "start_time": "2021-11-20T20:28:15.826Z"
   },
   {
    "duration": 29,
    "start_time": "2021-11-20T20:28:15.846Z"
   },
   {
    "duration": 38,
    "start_time": "2021-11-20T20:28:15.877Z"
   },
   {
    "duration": 41,
    "start_time": "2021-11-20T20:28:15.917Z"
   },
   {
    "duration": 29,
    "start_time": "2021-11-20T20:28:15.960Z"
   },
   {
    "duration": 3,
    "start_time": "2021-11-20T20:28:15.991Z"
   },
   {
    "duration": 48,
    "start_time": "2021-11-20T20:28:15.996Z"
   },
   {
    "duration": 14,
    "start_time": "2021-11-20T20:28:16.047Z"
   },
   {
    "duration": 15,
    "start_time": "2021-11-20T20:28:16.065Z"
   },
   {
    "duration": 13,
    "start_time": "2021-11-20T20:28:16.082Z"
   },
   {
    "duration": 53,
    "start_time": "2021-11-20T20:28:16.097Z"
   },
   {
    "duration": 16,
    "start_time": "2021-11-20T20:28:16.152Z"
   },
   {
    "duration": 14,
    "start_time": "2021-11-20T20:28:16.169Z"
   },
   {
    "duration": 17,
    "start_time": "2021-11-20T20:28:16.184Z"
   },
   {
    "duration": 8,
    "start_time": "2021-11-20T20:28:16.203Z"
   },
   {
    "duration": 31,
    "start_time": "2021-11-20T20:28:16.213Z"
   },
   {
    "duration": 35,
    "start_time": "2021-11-20T20:28:16.246Z"
   },
   {
    "duration": 21,
    "start_time": "2021-11-20T20:28:16.283Z"
   },
   {
    "duration": 20,
    "start_time": "2021-11-20T20:28:16.306Z"
   },
   {
    "duration": 22,
    "start_time": "2021-11-20T20:28:16.327Z"
   },
   {
    "duration": 12,
    "start_time": "2021-11-20T20:28:16.350Z"
   },
   {
    "duration": 16,
    "start_time": "2021-11-20T20:28:16.364Z"
   },
   {
    "duration": 13,
    "start_time": "2021-11-20T20:28:16.382Z"
   },
   {
    "duration": 17,
    "start_time": "2021-11-20T20:28:16.397Z"
   },
   {
    "duration": 545,
    "start_time": "2021-12-10T15:56:32.999Z"
   },
   {
    "duration": 118,
    "start_time": "2021-12-10T15:56:33.546Z"
   },
   {
    "duration": 15,
    "start_time": "2021-12-10T15:56:33.668Z"
   },
   {
    "duration": 26,
    "start_time": "2021-12-10T15:56:33.688Z"
   },
   {
    "duration": 6,
    "start_time": "2021-12-10T15:56:33.716Z"
   },
   {
    "duration": 19,
    "start_time": "2021-12-10T15:56:33.723Z"
   },
   {
    "duration": 4,
    "start_time": "2021-12-10T15:56:33.745Z"
   },
   {
    "duration": 56,
    "start_time": "2021-12-10T15:56:33.751Z"
   },
   {
    "duration": 14,
    "start_time": "2021-12-10T15:56:33.809Z"
   },
   {
    "duration": 28,
    "start_time": "2021-12-10T15:56:33.825Z"
   },
   {
    "duration": 65,
    "start_time": "2021-12-10T15:56:33.855Z"
   },
   {
    "duration": 71,
    "start_time": "2021-12-10T15:56:33.922Z"
   },
   {
    "duration": 47,
    "start_time": "2021-12-10T15:56:33.995Z"
   },
   {
    "duration": 55,
    "start_time": "2021-12-10T15:56:34.044Z"
   },
   {
    "duration": 3,
    "start_time": "2021-12-10T15:56:34.101Z"
   },
   {
    "duration": 54,
    "start_time": "2021-12-10T15:56:34.106Z"
   },
   {
    "duration": 38,
    "start_time": "2021-12-10T15:56:34.162Z"
   },
   {
    "duration": 33,
    "start_time": "2021-12-10T15:56:34.202Z"
   },
   {
    "duration": 27,
    "start_time": "2021-12-10T15:56:34.237Z"
   },
   {
    "duration": 22,
    "start_time": "2021-12-10T15:56:34.266Z"
   },
   {
    "duration": 26,
    "start_time": "2021-12-10T15:56:34.289Z"
   },
   {
    "duration": 16,
    "start_time": "2021-12-10T15:56:34.319Z"
   },
   {
    "duration": 16,
    "start_time": "2021-12-10T15:56:34.337Z"
   },
   {
    "duration": 14,
    "start_time": "2021-12-10T15:56:34.355Z"
   },
   {
    "duration": 26,
    "start_time": "2021-12-10T15:56:34.371Z"
   },
   {
    "duration": 15,
    "start_time": "2021-12-10T15:56:34.399Z"
   },
   {
    "duration": 8,
    "start_time": "2021-12-10T15:56:34.416Z"
   },
   {
    "duration": 12,
    "start_time": "2021-12-10T15:56:34.425Z"
   },
   {
    "duration": 10,
    "start_time": "2021-12-10T15:56:34.438Z"
   },
   {
    "duration": 38,
    "start_time": "2021-12-10T15:56:34.450Z"
   },
   {
    "duration": 30,
    "start_time": "2021-12-10T15:56:34.490Z"
   },
   {
    "duration": 15,
    "start_time": "2021-12-10T15:56:34.522Z"
   },
   {
    "duration": 23,
    "start_time": "2021-12-10T15:56:34.539Z"
   },
   {
    "duration": 17,
    "start_time": "2021-12-10T15:56:34.588Z"
   },
   {
    "duration": 9,
    "start_time": "2021-12-10T15:56:34.606Z"
   },
   {
    "duration": 4,
    "start_time": "2021-12-10T15:56:34.617Z"
   },
   {
    "duration": 6,
    "start_time": "2021-12-10T15:56:34.623Z"
   },
   {
    "duration": 6,
    "start_time": "2021-12-10T15:56:34.631Z"
   },
   {
    "duration": 339,
    "start_time": "2022-07-07T13:03:02.241Z"
   },
   {
    "duration": 414,
    "start_time": "2022-07-07T13:03:02.581Z"
   },
   {
    "duration": 14,
    "start_time": "2022-07-07T13:03:02.997Z"
   },
   {
    "duration": 24,
    "start_time": "2022-07-07T13:03:03.013Z"
   },
   {
    "duration": 3,
    "start_time": "2022-07-07T13:03:03.039Z"
   },
   {
    "duration": 11,
    "start_time": "2022-07-07T13:03:03.044Z"
   },
   {
    "duration": 6,
    "start_time": "2022-07-07T13:03:03.056Z"
   },
   {
    "duration": 52,
    "start_time": "2022-07-07T13:03:03.063Z"
   },
   {
    "duration": 16,
    "start_time": "2022-07-07T13:03:03.117Z"
   },
   {
    "duration": 19,
    "start_time": "2022-07-07T13:03:03.134Z"
   },
   {
    "duration": 70,
    "start_time": "2022-07-07T13:03:03.154Z"
   },
   {
    "duration": 76,
    "start_time": "2022-07-07T13:03:03.226Z"
   },
   {
    "duration": 54,
    "start_time": "2022-07-07T13:03:03.304Z"
   },
   {
    "duration": 44,
    "start_time": "2022-07-07T13:03:03.362Z"
   },
   {
    "duration": 10,
    "start_time": "2022-07-07T13:03:03.407Z"
   },
   {
    "duration": 29,
    "start_time": "2022-07-07T13:03:03.418Z"
   },
   {
    "duration": 34,
    "start_time": "2022-07-07T13:03:03.448Z"
   },
   {
    "duration": 34,
    "start_time": "2022-07-07T13:03:03.483Z"
   },
   {
    "duration": 50,
    "start_time": "2022-07-07T13:03:03.519Z"
   },
   {
    "duration": 4,
    "start_time": "2022-07-07T13:03:03.570Z"
   },
   {
    "duration": 34,
    "start_time": "2022-07-07T13:03:03.575Z"
   },
   {
    "duration": 19,
    "start_time": "2022-07-07T13:03:03.610Z"
   },
   {
    "duration": 27,
    "start_time": "2022-07-07T13:03:03.631Z"
   },
   {
    "duration": 20,
    "start_time": "2022-07-07T13:03:03.660Z"
   },
   {
    "duration": 16,
    "start_time": "2022-07-07T13:03:03.682Z"
   },
   {
    "duration": 12,
    "start_time": "2022-07-07T13:03:03.700Z"
   },
   {
    "duration": 11,
    "start_time": "2022-07-07T13:03:03.714Z"
   },
   {
    "duration": 20,
    "start_time": "2022-07-07T13:03:03.726Z"
   },
   {
    "duration": 20,
    "start_time": "2022-07-07T13:03:03.748Z"
   },
   {
    "duration": 20,
    "start_time": "2022-07-07T13:03:03.769Z"
   },
   {
    "duration": 32,
    "start_time": "2022-07-07T13:03:03.791Z"
   },
   {
    "duration": 14,
    "start_time": "2022-07-07T13:03:03.824Z"
   },
   {
    "duration": 13,
    "start_time": "2022-07-07T13:03:03.840Z"
   },
   {
    "duration": 12,
    "start_time": "2022-07-07T13:03:03.855Z"
   },
   {
    "duration": 9,
    "start_time": "2022-07-07T13:03:03.869Z"
   },
   {
    "duration": 3,
    "start_time": "2022-07-07T13:03:03.880Z"
   },
   {
    "duration": 20,
    "start_time": "2022-07-07T13:03:03.885Z"
   },
   {
    "duration": 4,
    "start_time": "2022-07-07T13:03:03.906Z"
   },
   {
    "duration": 3,
    "start_time": "2022-07-07T13:03:26.110Z"
   },
   {
    "duration": 147,
    "start_time": "2022-07-07T13:03:26.114Z"
   },
   {
    "duration": 10,
    "start_time": "2022-07-07T13:03:26.262Z"
   },
   {
    "duration": 32,
    "start_time": "2022-07-07T13:03:26.273Z"
   },
   {
    "duration": 4,
    "start_time": "2022-07-07T13:03:26.306Z"
   },
   {
    "duration": 11,
    "start_time": "2022-07-07T13:03:26.311Z"
   },
   {
    "duration": 6,
    "start_time": "2022-07-07T13:03:26.323Z"
   },
   {
    "duration": 36,
    "start_time": "2022-07-07T13:03:26.330Z"
   },
   {
    "duration": 35,
    "start_time": "2022-07-07T13:03:26.368Z"
   },
   {
    "duration": 19,
    "start_time": "2022-07-07T13:03:26.405Z"
   },
   {
    "duration": 54,
    "start_time": "2022-07-07T13:03:26.426Z"
   },
   {
    "duration": 75,
    "start_time": "2022-07-07T13:03:26.482Z"
   },
   {
    "duration": 60,
    "start_time": "2022-07-07T13:03:26.559Z"
   },
   {
    "duration": 37,
    "start_time": "2022-07-07T13:03:26.620Z"
   },
   {
    "duration": 3,
    "start_time": "2022-07-07T13:03:26.660Z"
   },
   {
    "duration": 45,
    "start_time": "2022-07-07T13:03:26.664Z"
   },
   {
    "duration": 33,
    "start_time": "2022-07-07T13:03:26.710Z"
   },
   {
    "duration": 21,
    "start_time": "2022-07-07T13:03:26.745Z"
   },
   {
    "duration": 50,
    "start_time": "2022-07-07T13:03:26.769Z"
   },
   {
    "duration": 4,
    "start_time": "2022-07-07T13:03:26.821Z"
   },
   {
    "duration": 44,
    "start_time": "2022-07-07T13:03:26.827Z"
   },
   {
    "duration": 16,
    "start_time": "2022-07-07T13:03:26.873Z"
   },
   {
    "duration": 19,
    "start_time": "2022-07-07T13:03:26.890Z"
   },
   {
    "duration": 22,
    "start_time": "2022-07-07T13:03:26.912Z"
   },
   {
    "duration": 18,
    "start_time": "2022-07-07T13:03:26.936Z"
   },
   {
    "duration": 17,
    "start_time": "2022-07-07T13:03:26.956Z"
   },
   {
    "duration": 25,
    "start_time": "2022-07-07T13:03:26.975Z"
   },
   {
    "duration": 26,
    "start_time": "2022-07-07T13:03:27.001Z"
   },
   {
    "duration": 20,
    "start_time": "2022-07-07T13:03:27.028Z"
   },
   {
    "duration": 13,
    "start_time": "2022-07-07T13:03:27.049Z"
   },
   {
    "duration": 27,
    "start_time": "2022-07-07T13:03:27.063Z"
   },
   {
    "duration": 21,
    "start_time": "2022-07-07T13:03:27.092Z"
   },
   {
    "duration": 25,
    "start_time": "2022-07-07T13:03:27.115Z"
   },
   {
    "duration": 10,
    "start_time": "2022-07-07T13:03:27.142Z"
   },
   {
    "duration": 27,
    "start_time": "2022-07-07T13:03:27.154Z"
   },
   {
    "duration": 12,
    "start_time": "2022-07-07T13:03:27.183Z"
   },
   {
    "duration": 23,
    "start_time": "2022-07-07T13:03:27.197Z"
   },
   {
    "duration": 21,
    "start_time": "2022-07-07T13:03:27.221Z"
   }
  ],
  "colab": {
   "collapsed_sections": [
    "E0vqbgi9ay0H",
    "VUC88oWjTJw2"
   ],
   "name": "yandex_music_project_2021.2.ipynb",
   "provenance": []
  },
  "kernelspec": {
   "display_name": "Python 3 (ipykernel)",
   "language": "python",
   "name": "python3"
  },
  "language_info": {
   "codemirror_mode": {
    "name": "ipython",
    "version": 3
   },
   "file_extension": ".py",
   "mimetype": "text/x-python",
   "name": "python",
   "nbconvert_exporter": "python",
   "pygments_lexer": "ipython3",
   "version": "3.9.12"
  },
  "toc": {
   "base_numbering": 1,
   "nav_menu": {},
   "number_sections": true,
   "sideBar": true,
   "skip_h1_title": true,
   "title_cell": "Table of Contents",
   "title_sidebar": "Contents",
   "toc_cell": false,
   "toc_position": {},
   "toc_section_display": true,
   "toc_window_display": true
  }
 },
 "nbformat": 4,
 "nbformat_minor": 1
}

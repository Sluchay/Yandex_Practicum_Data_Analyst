{
 "cells": [
  {
   "cell_type": "markdown",
   "metadata": {},
   "source": [
    "## План выполнения проекта:\n",
    "### Часть 1. Подготовка данных\n",
    "    Загрузить данные\n",
    "    Исследовать данные\n",
    "    Проверить качество данных\n",
    "    Привести данные в нужный формат\n",
    "\n",
    "\n",
    "### Часть 2. Приоритизация гипотез.\n",
    "    Задача\n",
    "    Применить фреймворк ICE для приоритизации гипотез. Отсортировать их по убыванию приоритета.\n",
    "    Применить фреймворк RICE для приоритизации гипотез. Отсортировать их по убыванию приоритета.\n",
    "    Указать, как изменилась приоритизация гипотез при применении RICE вместо ICE. Объяснить, почему так произошло.\n",
    "### Часть 3. Анализ A/B-теста\n",
    "    Задача\n",
    "    Проанализировать A/B-тест:\n",
    "    Построить график кумулятивной выручки по группам. Сделать выводы и предположения.\n",
    "    Построить график кумулятивного среднего чека по группам. Сделать выводы и предположения.\n",
    "    Построить график относительного изменения кумулятивного среднего чека группы B к группе A. Сделать выводы и предположения.\n",
    "    Построить график кумулятивной конверсии по группам. Сделать выводы и предположения.\n",
    "    Построить график относительного изменения кумулятивной конверсии группы B к группе A. Сделать выводы и предположения.\n",
    "    Построить точечный график количества заказов по пользователям. Сделать выводы и предположения.\n",
    "    Посчитать 95-й и 99-й перцентили количества заказов на пользователя. Выбрать границу для определения аномальных пользователей.\n",
    "    Построить точечный график стоимостей заказов. Сделать выводы и предположения.\n",
    "    Построить 95-й и 99-й перцентили стоимости заказов. Выберать границу для определения аномальных заказов.\n",
    "    Посчитать статистическую значимость различий в конверсии между группами по «сырым» данным. Сделать выводы и предположения.\n",
    "    Посчитать статистическую значимость различий в среднем чеке заказа между группами по «сырым» данным. Сделать выводы и предположения.\n",
    "    Посчитать статистическую значимость различий в конверсии между группами по «очищенным» данным. Сделать выводы и предположения.\n",
    "    Посчитать статистическую значимость различий в среднем чеке заказа между группами по «очищенным» данным. Сделать выводы и предположения.\n",
    "    Принять решение по результатам теста и объяснить его. Варианты решений: 1. Остановить тест, зафиксировать победу одной из групп. 2. Остановить тест, зафиксировать отсутствие различий между группами. 3. Продолжить тест."
   ]
  },
  {
   "cell_type": "markdown",
   "metadata": {},
   "source": [
    "## Часть 1. Подготовка данных"
   ]
  },
  {
   "cell_type": "code",
   "execution_count": 1,
   "metadata": {},
   "outputs": [],
   "source": [
    "#В данном шаге добавляем необходимые библиотеки\n",
    "\n",
    "import pandas as pd\n",
    "import numpy as np\n",
    "import matplotlib.pyplot as plt\n",
    "import scipy.stats as stats\n",
    "from scipy import stats as st\n",
    "import seaborn as sns    "
   ]
  },
  {
   "cell_type": "code",
   "execution_count": 2,
   "metadata": {},
   "outputs": [],
   "source": [
    "# Загружаем доступные нам данные для проведения исследования\n",
    "try:\n",
    "    \n",
    "    hypothesis = pd.read_csv('/datasets/hypothesis.csv')\n",
    "    orders = pd.read_csv('/datasets/orders.csv')\n",
    "    visitors = pd.read_csv('/datasets/visitors.csv')\n",
    "except:\n",
    "    \n",
    "    hypothesis = pd.read_csv('https://code.s3.yandex.net/datasets/hypothesis.csv')\n",
    "    orders = pd.read_csv('https://code.s3.yandex.net/datasets/orders.csv')\n",
    "    visitors = pd.read_csv('https://code.s3.yandex.net/datasets/visitors.csv')"
   ]
  },
  {
   "cell_type": "code",
   "execution_count": 3,
   "metadata": {},
   "outputs": [
    {
     "data": {
      "text/html": [
       "<div>\n",
       "<style scoped>\n",
       "    .dataframe tbody tr th:only-of-type {\n",
       "        vertical-align: middle;\n",
       "    }\n",
       "\n",
       "    .dataframe tbody tr th {\n",
       "        vertical-align: top;\n",
       "    }\n",
       "\n",
       "    .dataframe thead th {\n",
       "        text-align: right;\n",
       "    }\n",
       "</style>\n",
       "<table border=\"1\" class=\"dataframe\">\n",
       "  <thead>\n",
       "    <tr style=\"text-align: right;\">\n",
       "      <th></th>\n",
       "      <th>Hypothesis</th>\n",
       "      <th>Reach</th>\n",
       "      <th>Impact</th>\n",
       "      <th>Confidence</th>\n",
       "      <th>Efforts</th>\n",
       "    </tr>\n",
       "  </thead>\n",
       "  <tbody>\n",
       "    <tr>\n",
       "      <th>0</th>\n",
       "      <td>Добавить два новых канала привлечения трафика, что позволит привлекать на 30% больше пользователей</td>\n",
       "      <td>3</td>\n",
       "      <td>10</td>\n",
       "      <td>8</td>\n",
       "      <td>6</td>\n",
       "    </tr>\n",
       "    <tr>\n",
       "      <th>1</th>\n",
       "      <td>Запустить собственную службу доставки, что сократит срок доставки заказов</td>\n",
       "      <td>2</td>\n",
       "      <td>5</td>\n",
       "      <td>4</td>\n",
       "      <td>10</td>\n",
       "    </tr>\n",
       "    <tr>\n",
       "      <th>2</th>\n",
       "      <td>Добавить блоки рекомендаций товаров на сайт интернет магазина, чтобы повысить конверсию и средний чек заказа</td>\n",
       "      <td>8</td>\n",
       "      <td>3</td>\n",
       "      <td>7</td>\n",
       "      <td>3</td>\n",
       "    </tr>\n",
       "    <tr>\n",
       "      <th>3</th>\n",
       "      <td>Изменить структура категорий, что увеличит конверсию, т.к. пользователи быстрее найдут нужный товар</td>\n",
       "      <td>8</td>\n",
       "      <td>3</td>\n",
       "      <td>3</td>\n",
       "      <td>8</td>\n",
       "    </tr>\n",
       "    <tr>\n",
       "      <th>4</th>\n",
       "      <td>Изменить цвет фона главной страницы, чтобы увеличить вовлеченность пользователей</td>\n",
       "      <td>3</td>\n",
       "      <td>1</td>\n",
       "      <td>1</td>\n",
       "      <td>1</td>\n",
       "    </tr>\n",
       "    <tr>\n",
       "      <th>5</th>\n",
       "      <td>Добавить страницу отзывов клиентов о магазине, что позволит увеличить количество заказов</td>\n",
       "      <td>3</td>\n",
       "      <td>2</td>\n",
       "      <td>2</td>\n",
       "      <td>3</td>\n",
       "    </tr>\n",
       "    <tr>\n",
       "      <th>6</th>\n",
       "      <td>Показать на главной странице баннеры с актуальными акциями и распродажами, чтобы увеличить конверсию</td>\n",
       "      <td>5</td>\n",
       "      <td>3</td>\n",
       "      <td>8</td>\n",
       "      <td>3</td>\n",
       "    </tr>\n",
       "    <tr>\n",
       "      <th>7</th>\n",
       "      <td>Добавить форму подписки на все основные страницы, чтобы собрать базу клиентов для email-рассылок</td>\n",
       "      <td>10</td>\n",
       "      <td>7</td>\n",
       "      <td>8</td>\n",
       "      <td>5</td>\n",
       "    </tr>\n",
       "    <tr>\n",
       "      <th>8</th>\n",
       "      <td>Запустить акцию, дающую скидку на товар в день рождения</td>\n",
       "      <td>1</td>\n",
       "      <td>9</td>\n",
       "      <td>9</td>\n",
       "      <td>5</td>\n",
       "    </tr>\n",
       "  </tbody>\n",
       "</table>\n",
       "</div>"
      ],
      "text/plain": [
       "                                                                                                     Hypothesis  \\\n",
       "0            Добавить два новых канала привлечения трафика, что позволит привлекать на 30% больше пользователей   \n",
       "1                                     Запустить собственную службу доставки, что сократит срок доставки заказов   \n",
       "2  Добавить блоки рекомендаций товаров на сайт интернет магазина, чтобы повысить конверсию и средний чек заказа   \n",
       "3           Изменить структура категорий, что увеличит конверсию, т.к. пользователи быстрее найдут нужный товар   \n",
       "4                              Изменить цвет фона главной страницы, чтобы увеличить вовлеченность пользователей   \n",
       "5                      Добавить страницу отзывов клиентов о магазине, что позволит увеличить количество заказов   \n",
       "6          Показать на главной странице баннеры с актуальными акциями и распродажами, чтобы увеличить конверсию   \n",
       "7              Добавить форму подписки на все основные страницы, чтобы собрать базу клиентов для email-рассылок   \n",
       "8                                                       Запустить акцию, дающую скидку на товар в день рождения   \n",
       "\n",
       "   Reach  Impact  Confidence  Efforts  \n",
       "0      3      10           8        6  \n",
       "1      2       5           4       10  \n",
       "2      8       3           7        3  \n",
       "3      8       3           3        8  \n",
       "4      3       1           1        1  \n",
       "5      3       2           2        3  \n",
       "6      5       3           8        3  \n",
       "7     10       7           8        5  \n",
       "8      1       9           9        5  "
      ]
     },
     "execution_count": 3,
     "metadata": {},
     "output_type": "execute_result"
    }
   ],
   "source": [
    "pd.set_option(\"max_colwidth\", 109) # параметр для вывода полного названия гипотез\n",
    "hypothesis"
   ]
  },
  {
   "cell_type": "code",
   "execution_count": 4,
   "metadata": {},
   "outputs": [
    {
     "data": {
      "text/html": [
       "<div>\n",
       "<style scoped>\n",
       "    .dataframe tbody tr th:only-of-type {\n",
       "        vertical-align: middle;\n",
       "    }\n",
       "\n",
       "    .dataframe tbody tr th {\n",
       "        vertical-align: top;\n",
       "    }\n",
       "\n",
       "    .dataframe thead th {\n",
       "        text-align: right;\n",
       "    }\n",
       "</style>\n",
       "<table border=\"1\" class=\"dataframe\">\n",
       "  <thead>\n",
       "    <tr style=\"text-align: right;\">\n",
       "      <th></th>\n",
       "      <th>transactionId</th>\n",
       "      <th>visitorId</th>\n",
       "      <th>date</th>\n",
       "      <th>revenue</th>\n",
       "      <th>group</th>\n",
       "    </tr>\n",
       "  </thead>\n",
       "  <tbody>\n",
       "    <tr>\n",
       "      <th>663</th>\n",
       "      <td>2612401984</td>\n",
       "      <td>2393492379</td>\n",
       "      <td>2019-08-29</td>\n",
       "      <td>2590</td>\n",
       "      <td>A</td>\n",
       "    </tr>\n",
       "    <tr>\n",
       "      <th>1150</th>\n",
       "      <td>1722995581</td>\n",
       "      <td>2761566146</td>\n",
       "      <td>2019-08-14</td>\n",
       "      <td>1390</td>\n",
       "      <td>A</td>\n",
       "    </tr>\n",
       "    <tr>\n",
       "      <th>910</th>\n",
       "      <td>1612010084</td>\n",
       "      <td>2008082479</td>\n",
       "      <td>2019-08-08</td>\n",
       "      <td>2550</td>\n",
       "      <td>B</td>\n",
       "    </tr>\n",
       "    <tr>\n",
       "      <th>0</th>\n",
       "      <td>3667963787</td>\n",
       "      <td>3312258926</td>\n",
       "      <td>2019-08-15</td>\n",
       "      <td>1650</td>\n",
       "      <td>B</td>\n",
       "    </tr>\n",
       "    <tr>\n",
       "      <th>1190</th>\n",
       "      <td>38478481</td>\n",
       "      <td>1197745035</td>\n",
       "      <td>2019-08-14</td>\n",
       "      <td>8600</td>\n",
       "      <td>B</td>\n",
       "    </tr>\n",
       "    <tr>\n",
       "      <th>708</th>\n",
       "      <td>3256245027</td>\n",
       "      <td>993094131</td>\n",
       "      <td>2019-08-07</td>\n",
       "      <td>1399</td>\n",
       "      <td>B</td>\n",
       "    </tr>\n",
       "    <tr>\n",
       "      <th>34</th>\n",
       "      <td>2153010762</td>\n",
       "      <td>834683205</td>\n",
       "      <td>2019-08-15</td>\n",
       "      <td>22785</td>\n",
       "      <td>A</td>\n",
       "    </tr>\n",
       "    <tr>\n",
       "      <th>386</th>\n",
       "      <td>1802431162</td>\n",
       "      <td>3127757912</td>\n",
       "      <td>2019-08-03</td>\n",
       "      <td>20990</td>\n",
       "      <td>A</td>\n",
       "    </tr>\n",
       "    <tr>\n",
       "      <th>521</th>\n",
       "      <td>641338041</td>\n",
       "      <td>623318263</td>\n",
       "      <td>2019-08-26</td>\n",
       "      <td>10440</td>\n",
       "      <td>B</td>\n",
       "    </tr>\n",
       "    <tr>\n",
       "      <th>287</th>\n",
       "      <td>587872075</td>\n",
       "      <td>2254456485</td>\n",
       "      <td>2019-08-24</td>\n",
       "      <td>53904</td>\n",
       "      <td>A</td>\n",
       "    </tr>\n",
       "  </tbody>\n",
       "</table>\n",
       "</div>"
      ],
      "text/plain": [
       "      transactionId   visitorId        date  revenue group\n",
       "663      2612401984  2393492379  2019-08-29     2590     A\n",
       "1150     1722995581  2761566146  2019-08-14     1390     A\n",
       "910      1612010084  2008082479  2019-08-08     2550     B\n",
       "0        3667963787  3312258926  2019-08-15     1650     B\n",
       "1190       38478481  1197745035  2019-08-14     8600     B\n",
       "708      3256245027   993094131  2019-08-07     1399     B\n",
       "34       2153010762   834683205  2019-08-15    22785     A\n",
       "386      1802431162  3127757912  2019-08-03    20990     A\n",
       "521       641338041   623318263  2019-08-26    10440     B\n",
       "287       587872075  2254456485  2019-08-24    53904     A"
      ]
     },
     "execution_count": 4,
     "metadata": {},
     "output_type": "execute_result"
    }
   ],
   "source": [
    "orders.sample(10)"
   ]
  },
  {
   "cell_type": "code",
   "execution_count": 5,
   "metadata": {},
   "outputs": [
    {
     "data": {
      "text/html": [
       "<div>\n",
       "<style scoped>\n",
       "    .dataframe tbody tr th:only-of-type {\n",
       "        vertical-align: middle;\n",
       "    }\n",
       "\n",
       "    .dataframe tbody tr th {\n",
       "        vertical-align: top;\n",
       "    }\n",
       "\n",
       "    .dataframe thead th {\n",
       "        text-align: right;\n",
       "    }\n",
       "</style>\n",
       "<table border=\"1\" class=\"dataframe\">\n",
       "  <thead>\n",
       "    <tr style=\"text-align: right;\">\n",
       "      <th></th>\n",
       "      <th>date</th>\n",
       "      <th>group</th>\n",
       "      <th>visitors</th>\n",
       "    </tr>\n",
       "  </thead>\n",
       "  <tbody>\n",
       "    <tr>\n",
       "      <th>36</th>\n",
       "      <td>2019-08-06</td>\n",
       "      <td>B</td>\n",
       "      <td>655</td>\n",
       "    </tr>\n",
       "    <tr>\n",
       "      <th>28</th>\n",
       "      <td>2019-08-29</td>\n",
       "      <td>A</td>\n",
       "      <td>577</td>\n",
       "    </tr>\n",
       "    <tr>\n",
       "      <th>38</th>\n",
       "      <td>2019-08-08</td>\n",
       "      <td>B</td>\n",
       "      <td>654</td>\n",
       "    </tr>\n",
       "    <tr>\n",
       "      <th>60</th>\n",
       "      <td>2019-08-30</td>\n",
       "      <td>B</td>\n",
       "      <td>490</td>\n",
       "    </tr>\n",
       "    <tr>\n",
       "      <th>12</th>\n",
       "      <td>2019-08-13</td>\n",
       "      <td>A</td>\n",
       "      <td>748</td>\n",
       "    </tr>\n",
       "    <tr>\n",
       "      <th>54</th>\n",
       "      <td>2019-08-24</td>\n",
       "      <td>B</td>\n",
       "      <td>378</td>\n",
       "    </tr>\n",
       "    <tr>\n",
       "      <th>3</th>\n",
       "      <td>2019-08-04</td>\n",
       "      <td>A</td>\n",
       "      <td>717</td>\n",
       "    </tr>\n",
       "    <tr>\n",
       "      <th>45</th>\n",
       "      <td>2019-08-15</td>\n",
       "      <td>B</td>\n",
       "      <td>544</td>\n",
       "    </tr>\n",
       "    <tr>\n",
       "      <th>19</th>\n",
       "      <td>2019-08-20</td>\n",
       "      <td>A</td>\n",
       "      <td>575</td>\n",
       "    </tr>\n",
       "    <tr>\n",
       "      <th>8</th>\n",
       "      <td>2019-08-09</td>\n",
       "      <td>A</td>\n",
       "      <td>617</td>\n",
       "    </tr>\n",
       "  </tbody>\n",
       "</table>\n",
       "</div>"
      ],
      "text/plain": [
       "          date group  visitors\n",
       "36  2019-08-06     B       655\n",
       "28  2019-08-29     A       577\n",
       "38  2019-08-08     B       654\n",
       "60  2019-08-30     B       490\n",
       "12  2019-08-13     A       748\n",
       "54  2019-08-24     B       378\n",
       "3   2019-08-04     A       717\n",
       "45  2019-08-15     B       544\n",
       "19  2019-08-20     A       575\n",
       "8   2019-08-09     A       617"
      ]
     },
     "execution_count": 5,
     "metadata": {},
     "output_type": "execute_result"
    }
   ],
   "source": [
    "visitors.sample(10)"
   ]
  },
  {
   "cell_type": "code",
   "execution_count": 6,
   "metadata": {},
   "outputs": [
    {
     "name": "stdout",
     "output_type": "stream",
     "text": [
      "0\n",
      "0\n",
      "transactionId    0\n",
      "visitorId        0\n",
      "date             0\n",
      "revenue          0\n",
      "group            0\n",
      "dtype: int64\n",
      "transactionId    0\n",
      "visitorId        0\n",
      "date             0\n",
      "revenue          0\n",
      "group            0\n",
      "dtype: int64\n",
      "<class 'pandas.core.frame.DataFrame'>\n",
      "RangeIndex: 1197 entries, 0 to 1196\n",
      "Data columns (total 5 columns):\n",
      " #   Column         Non-Null Count  Dtype \n",
      "---  ------         --------------  ----- \n",
      " 0   transactionId  1197 non-null   int64 \n",
      " 1   visitorId      1197 non-null   int64 \n",
      " 2   date           1197 non-null   object\n",
      " 3   revenue        1197 non-null   int64 \n",
      " 4   group          1197 non-null   object\n",
      "dtypes: int64(3), object(2)\n",
      "memory usage: 46.9+ KB\n",
      "None\n",
      "<class 'pandas.core.frame.DataFrame'>\n",
      "RangeIndex: 1197 entries, 0 to 1196\n",
      "Data columns (total 5 columns):\n",
      " #   Column         Non-Null Count  Dtype \n",
      "---  ------         --------------  ----- \n",
      " 0   transactionId  1197 non-null   int64 \n",
      " 1   visitorId      1197 non-null   int64 \n",
      " 2   date           1197 non-null   object\n",
      " 3   revenue        1197 non-null   int64 \n",
      " 4   group          1197 non-null   object\n",
      "dtypes: int64(3), object(2)\n",
      "memory usage: 46.9+ KB\n",
      "None\n"
     ]
    }
   ],
   "source": [
    "print(orders.duplicated().sum())\n",
    "print(orders.duplicated().sum())\n",
    "print(orders.isna().sum())\n",
    "print(orders.isna().sum())\n",
    "print(orders.info())\n",
    "print(orders.info())"
   ]
  },
  {
   "cell_type": "code",
   "execution_count": 7,
   "metadata": {},
   "outputs": [],
   "source": [
    "# Изменим формат данных object на дату\n",
    "orders['date'] = pd.to_datetime(orders['date'])\n",
    "visitors['date'] = pd.to_datetime(visitors['date'])"
   ]
  },
  {
   "cell_type": "markdown",
   "metadata": {},
   "source": [
    "С данными все в порядке можем приступать к следующему шагу."
   ]
  },
  {
   "cell_type": "code",
   "execution_count": 8,
   "metadata": {},
   "outputs": [
    {
     "name": "stdout",
     "output_type": "stream",
     "text": [
      "89\n"
     ]
    }
   ],
   "source": [
    "print(orders[orders['group']=='A']['visitorId'].isin((orders[orders['group']=='B']['visitorId'])).sum())"
   ]
  },
  {
   "cell_type": "code",
   "execution_count": 9,
   "metadata": {},
   "outputs": [
    {
     "data": {
      "text/html": [
       "<div>\n",
       "<style scoped>\n",
       "    .dataframe tbody tr th:only-of-type {\n",
       "        vertical-align: middle;\n",
       "    }\n",
       "\n",
       "    .dataframe tbody tr th {\n",
       "        vertical-align: top;\n",
       "    }\n",
       "\n",
       "    .dataframe thead th {\n",
       "        text-align: right;\n",
       "    }\n",
       "</style>\n",
       "<table border=\"1\" class=\"dataframe\">\n",
       "  <thead>\n",
       "    <tr style=\"text-align: right;\">\n",
       "      <th></th>\n",
       "      <th>groups</th>\n",
       "      <th>group_names</th>\n",
       "    </tr>\n",
       "    <tr>\n",
       "      <th>visitorId</th>\n",
       "      <th></th>\n",
       "      <th></th>\n",
       "    </tr>\n",
       "  </thead>\n",
       "  <tbody>\n",
       "    <tr>\n",
       "      <th>8300375</th>\n",
       "      <td>2</td>\n",
       "      <td>[B, A]</td>\n",
       "    </tr>\n",
       "    <tr>\n",
       "      <th>199603092</th>\n",
       "      <td>2</td>\n",
       "      <td>[A, B]</td>\n",
       "    </tr>\n",
       "    <tr>\n",
       "      <th>232979603</th>\n",
       "      <td>2</td>\n",
       "      <td>[B, A]</td>\n",
       "    </tr>\n",
       "    <tr>\n",
       "      <th>237748145</th>\n",
       "      <td>2</td>\n",
       "      <td>[B, A]</td>\n",
       "    </tr>\n",
       "    <tr>\n",
       "      <th>276558944</th>\n",
       "      <td>2</td>\n",
       "      <td>[B, A]</td>\n",
       "    </tr>\n",
       "  </tbody>\n",
       "</table>\n",
       "</div>"
      ],
      "text/plain": [
       "           groups group_names\n",
       "visitorId                    \n",
       "8300375         2      [B, A]\n",
       "199603092       2      [A, B]\n",
       "232979603       2      [B, A]\n",
       "237748145       2      [B, A]\n",
       "276558944       2      [B, A]"
      ]
     },
     "metadata": {},
     "output_type": "display_data"
    },
    {
     "name": "stdout",
     "output_type": "stream",
     "text": [
      "58\n"
     ]
    }
   ],
   "source": [
    "same_users = orders.groupby('visitorId').agg({'group':['nunique','unique']})\n",
    "same_users.columns=['groups','group_names']\n",
    "same_users =  same_users[same_users['groups']>1]\n",
    "display(same_users.head(5))\n",
    "print(len(same_users))"
   ]
  },
  {
   "cell_type": "code",
   "execution_count": 10,
   "metadata": {},
   "outputs": [
    {
     "data": {
      "text/html": [
       "<div>\n",
       "<style scoped>\n",
       "    .dataframe tbody tr th:only-of-type {\n",
       "        vertical-align: middle;\n",
       "    }\n",
       "\n",
       "    .dataframe tbody tr th {\n",
       "        vertical-align: top;\n",
       "    }\n",
       "\n",
       "    .dataframe thead th {\n",
       "        text-align: right;\n",
       "    }\n",
       "</style>\n",
       "<table border=\"1\" class=\"dataframe\">\n",
       "  <thead>\n",
       "    <tr style=\"text-align: right;\">\n",
       "      <th></th>\n",
       "      <th>groups</th>\n",
       "      <th>group_names</th>\n",
       "    </tr>\n",
       "    <tr>\n",
       "      <th>visitorId</th>\n",
       "      <th></th>\n",
       "      <th></th>\n",
       "    </tr>\n",
       "  </thead>\n",
       "  <tbody>\n",
       "    <tr>\n",
       "      <th>8300375</th>\n",
       "      <td>2</td>\n",
       "      <td>[B, A]</td>\n",
       "    </tr>\n",
       "    <tr>\n",
       "      <th>199603092</th>\n",
       "      <td>2</td>\n",
       "      <td>[A, B]</td>\n",
       "    </tr>\n",
       "    <tr>\n",
       "      <th>232979603</th>\n",
       "      <td>2</td>\n",
       "      <td>[B, A]</td>\n",
       "    </tr>\n",
       "    <tr>\n",
       "      <th>237748145</th>\n",
       "      <td>2</td>\n",
       "      <td>[B, A]</td>\n",
       "    </tr>\n",
       "    <tr>\n",
       "      <th>276558944</th>\n",
       "      <td>2</td>\n",
       "      <td>[B, A]</td>\n",
       "    </tr>\n",
       "    <tr>\n",
       "      <th>351125977</th>\n",
       "      <td>2</td>\n",
       "      <td>[B, A]</td>\n",
       "    </tr>\n",
       "    <tr>\n",
       "      <th>393266494</th>\n",
       "      <td>2</td>\n",
       "      <td>[A, B]</td>\n",
       "    </tr>\n",
       "    <tr>\n",
       "      <th>457167155</th>\n",
       "      <td>2</td>\n",
       "      <td>[B, A]</td>\n",
       "    </tr>\n",
       "    <tr>\n",
       "      <th>471551937</th>\n",
       "      <td>2</td>\n",
       "      <td>[A, B]</td>\n",
       "    </tr>\n",
       "    <tr>\n",
       "      <th>477780734</th>\n",
       "      <td>2</td>\n",
       "      <td>[A, B]</td>\n",
       "    </tr>\n",
       "    <tr>\n",
       "      <th>818047933</th>\n",
       "      <td>2</td>\n",
       "      <td>[A, B]</td>\n",
       "    </tr>\n",
       "    <tr>\n",
       "      <th>963407295</th>\n",
       "      <td>2</td>\n",
       "      <td>[B, A]</td>\n",
       "    </tr>\n",
       "    <tr>\n",
       "      <th>1230306981</th>\n",
       "      <td>2</td>\n",
       "      <td>[A, B]</td>\n",
       "    </tr>\n",
       "    <tr>\n",
       "      <th>1294878855</th>\n",
       "      <td>2</td>\n",
       "      <td>[B, A]</td>\n",
       "    </tr>\n",
       "    <tr>\n",
       "      <th>1316129916</th>\n",
       "      <td>2</td>\n",
       "      <td>[A, B]</td>\n",
       "    </tr>\n",
       "    <tr>\n",
       "      <th>1333886533</th>\n",
       "      <td>2</td>\n",
       "      <td>[A, B]</td>\n",
       "    </tr>\n",
       "    <tr>\n",
       "      <th>1404934699</th>\n",
       "      <td>2</td>\n",
       "      <td>[B, A]</td>\n",
       "    </tr>\n",
       "    <tr>\n",
       "      <th>1602967004</th>\n",
       "      <td>2</td>\n",
       "      <td>[B, A]</td>\n",
       "    </tr>\n",
       "    <tr>\n",
       "      <th>1614305549</th>\n",
       "      <td>2</td>\n",
       "      <td>[B, A]</td>\n",
       "    </tr>\n",
       "    <tr>\n",
       "      <th>1648269707</th>\n",
       "      <td>2</td>\n",
       "      <td>[B, A]</td>\n",
       "    </tr>\n",
       "    <tr>\n",
       "      <th>1668030113</th>\n",
       "      <td>2</td>\n",
       "      <td>[B, A]</td>\n",
       "    </tr>\n",
       "    <tr>\n",
       "      <th>1738359350</th>\n",
       "      <td>2</td>\n",
       "      <td>[A, B]</td>\n",
       "    </tr>\n",
       "    <tr>\n",
       "      <th>1801183820</th>\n",
       "      <td>2</td>\n",
       "      <td>[B, A]</td>\n",
       "    </tr>\n",
       "    <tr>\n",
       "      <th>1959144690</th>\n",
       "      <td>2</td>\n",
       "      <td>[A, B]</td>\n",
       "    </tr>\n",
       "    <tr>\n",
       "      <th>2038680547</th>\n",
       "      <td>2</td>\n",
       "      <td>[B, A]</td>\n",
       "    </tr>\n",
       "    <tr>\n",
       "      <th>2044997962</th>\n",
       "      <td>2</td>\n",
       "      <td>[A, B]</td>\n",
       "    </tr>\n",
       "    <tr>\n",
       "      <th>2378935119</th>\n",
       "      <td>2</td>\n",
       "      <td>[A, B]</td>\n",
       "    </tr>\n",
       "    <tr>\n",
       "      <th>2458001652</th>\n",
       "      <td>2</td>\n",
       "      <td>[A, B]</td>\n",
       "    </tr>\n",
       "    <tr>\n",
       "      <th>2579882178</th>\n",
       "      <td>2</td>\n",
       "      <td>[A, B]</td>\n",
       "    </tr>\n",
       "    <tr>\n",
       "      <th>2587333274</th>\n",
       "      <td>2</td>\n",
       "      <td>[B, A]</td>\n",
       "    </tr>\n",
       "    <tr>\n",
       "      <th>2600415354</th>\n",
       "      <td>2</td>\n",
       "      <td>[B, A]</td>\n",
       "    </tr>\n",
       "    <tr>\n",
       "      <th>2654030115</th>\n",
       "      <td>2</td>\n",
       "      <td>[B, A]</td>\n",
       "    </tr>\n",
       "    <tr>\n",
       "      <th>2686716486</th>\n",
       "      <td>2</td>\n",
       "      <td>[A, B]</td>\n",
       "    </tr>\n",
       "    <tr>\n",
       "      <th>2712142231</th>\n",
       "      <td>2</td>\n",
       "      <td>[B, A]</td>\n",
       "    </tr>\n",
       "    <tr>\n",
       "      <th>2716752286</th>\n",
       "      <td>2</td>\n",
       "      <td>[B, A]</td>\n",
       "    </tr>\n",
       "    <tr>\n",
       "      <th>2780786433</th>\n",
       "      <td>2</td>\n",
       "      <td>[A, B]</td>\n",
       "    </tr>\n",
       "    <tr>\n",
       "      <th>2927087541</th>\n",
       "      <td>2</td>\n",
       "      <td>[A, B]</td>\n",
       "    </tr>\n",
       "    <tr>\n",
       "      <th>2949041841</th>\n",
       "      <td>2</td>\n",
       "      <td>[A, B]</td>\n",
       "    </tr>\n",
       "    <tr>\n",
       "      <th>2954449915</th>\n",
       "      <td>2</td>\n",
       "      <td>[A, B]</td>\n",
       "    </tr>\n",
       "    <tr>\n",
       "      <th>3062433592</th>\n",
       "      <td>2</td>\n",
       "      <td>[B, A]</td>\n",
       "    </tr>\n",
       "    <tr>\n",
       "      <th>3202540741</th>\n",
       "      <td>2</td>\n",
       "      <td>[A, B]</td>\n",
       "    </tr>\n",
       "    <tr>\n",
       "      <th>3234906277</th>\n",
       "      <td>2</td>\n",
       "      <td>[B, A]</td>\n",
       "    </tr>\n",
       "    <tr>\n",
       "      <th>3656415546</th>\n",
       "      <td>2</td>\n",
       "      <td>[A, B]</td>\n",
       "    </tr>\n",
       "    <tr>\n",
       "      <th>3717692402</th>\n",
       "      <td>2</td>\n",
       "      <td>[B, A]</td>\n",
       "    </tr>\n",
       "    <tr>\n",
       "      <th>3766097110</th>\n",
       "      <td>2</td>\n",
       "      <td>[A, B]</td>\n",
       "    </tr>\n",
       "    <tr>\n",
       "      <th>3803269165</th>\n",
       "      <td>2</td>\n",
       "      <td>[A, B]</td>\n",
       "    </tr>\n",
       "    <tr>\n",
       "      <th>3891541246</th>\n",
       "      <td>2</td>\n",
       "      <td>[A, B]</td>\n",
       "    </tr>\n",
       "    <tr>\n",
       "      <th>3941795274</th>\n",
       "      <td>2</td>\n",
       "      <td>[A, B]</td>\n",
       "    </tr>\n",
       "    <tr>\n",
       "      <th>3951559397</th>\n",
       "      <td>2</td>\n",
       "      <td>[B, A]</td>\n",
       "    </tr>\n",
       "    <tr>\n",
       "      <th>3957174400</th>\n",
       "      <td>2</td>\n",
       "      <td>[A, B]</td>\n",
       "    </tr>\n",
       "    <tr>\n",
       "      <th>3963646447</th>\n",
       "      <td>2</td>\n",
       "      <td>[A, B]</td>\n",
       "    </tr>\n",
       "    <tr>\n",
       "      <th>3972127743</th>\n",
       "      <td>2</td>\n",
       "      <td>[B, A]</td>\n",
       "    </tr>\n",
       "    <tr>\n",
       "      <th>3984495233</th>\n",
       "      <td>2</td>\n",
       "      <td>[B, A]</td>\n",
       "    </tr>\n",
       "    <tr>\n",
       "      <th>4069496402</th>\n",
       "      <td>2</td>\n",
       "      <td>[A, B]</td>\n",
       "    </tr>\n",
       "    <tr>\n",
       "      <th>4120364173</th>\n",
       "      <td>2</td>\n",
       "      <td>[A, B]</td>\n",
       "    </tr>\n",
       "    <tr>\n",
       "      <th>4186807279</th>\n",
       "      <td>2</td>\n",
       "      <td>[B, A]</td>\n",
       "    </tr>\n",
       "    <tr>\n",
       "      <th>4256040402</th>\n",
       "      <td>2</td>\n",
       "      <td>[B, A]</td>\n",
       "    </tr>\n",
       "    <tr>\n",
       "      <th>4266935830</th>\n",
       "      <td>2</td>\n",
       "      <td>[A, B]</td>\n",
       "    </tr>\n",
       "  </tbody>\n",
       "</table>\n",
       "</div>"
      ],
      "text/plain": [
       "            groups group_names\n",
       "visitorId                     \n",
       "8300375          2      [B, A]\n",
       "199603092        2      [A, B]\n",
       "232979603        2      [B, A]\n",
       "237748145        2      [B, A]\n",
       "276558944        2      [B, A]\n",
       "351125977        2      [B, A]\n",
       "393266494        2      [A, B]\n",
       "457167155        2      [B, A]\n",
       "471551937        2      [A, B]\n",
       "477780734        2      [A, B]\n",
       "818047933        2      [A, B]\n",
       "963407295        2      [B, A]\n",
       "1230306981       2      [A, B]\n",
       "1294878855       2      [B, A]\n",
       "1316129916       2      [A, B]\n",
       "1333886533       2      [A, B]\n",
       "1404934699       2      [B, A]\n",
       "1602967004       2      [B, A]\n",
       "1614305549       2      [B, A]\n",
       "1648269707       2      [B, A]\n",
       "1668030113       2      [B, A]\n",
       "1738359350       2      [A, B]\n",
       "1801183820       2      [B, A]\n",
       "1959144690       2      [A, B]\n",
       "2038680547       2      [B, A]\n",
       "2044997962       2      [A, B]\n",
       "2378935119       2      [A, B]\n",
       "2458001652       2      [A, B]\n",
       "2579882178       2      [A, B]\n",
       "2587333274       2      [B, A]\n",
       "2600415354       2      [B, A]\n",
       "2654030115       2      [B, A]\n",
       "2686716486       2      [A, B]\n",
       "2712142231       2      [B, A]\n",
       "2716752286       2      [B, A]\n",
       "2780786433       2      [A, B]\n",
       "2927087541       2      [A, B]\n",
       "2949041841       2      [A, B]\n",
       "2954449915       2      [A, B]\n",
       "3062433592       2      [B, A]\n",
       "3202540741       2      [A, B]\n",
       "3234906277       2      [B, A]\n",
       "3656415546       2      [A, B]\n",
       "3717692402       2      [B, A]\n",
       "3766097110       2      [A, B]\n",
       "3803269165       2      [A, B]\n",
       "3891541246       2      [A, B]\n",
       "3941795274       2      [A, B]\n",
       "3951559397       2      [B, A]\n",
       "3957174400       2      [A, B]\n",
       "3963646447       2      [A, B]\n",
       "3972127743       2      [B, A]\n",
       "3984495233       2      [B, A]\n",
       "4069496402       2      [A, B]\n",
       "4120364173       2      [A, B]\n",
       "4186807279       2      [B, A]\n",
       "4256040402       2      [B, A]\n",
       "4266935830       2      [A, B]"
      ]
     },
     "execution_count": 10,
     "metadata": {},
     "output_type": "execute_result"
    }
   ],
   "source": [
    "same_users"
   ]
  },
  {
   "cell_type": "markdown",
   "metadata": {},
   "source": [
    "## Часть 2. Приоритизация гипотез.\n"
   ]
  },
  {
   "cell_type": "code",
   "execution_count": 11,
   "metadata": {},
   "outputs": [
    {
     "data": {
      "text/html": [
       "<div>\n",
       "<style scoped>\n",
       "    .dataframe tbody tr th:only-of-type {\n",
       "        vertical-align: middle;\n",
       "    }\n",
       "\n",
       "    .dataframe tbody tr th {\n",
       "        vertical-align: top;\n",
       "    }\n",
       "\n",
       "    .dataframe thead th {\n",
       "        text-align: right;\n",
       "    }\n",
       "</style>\n",
       "<table border=\"1\" class=\"dataframe\">\n",
       "  <thead>\n",
       "    <tr style=\"text-align: right;\">\n",
       "      <th></th>\n",
       "      <th>Hypothesis</th>\n",
       "      <th>Reach</th>\n",
       "      <th>Impact</th>\n",
       "      <th>Confidence</th>\n",
       "      <th>Efforts</th>\n",
       "    </tr>\n",
       "  </thead>\n",
       "  <tbody>\n",
       "    <tr>\n",
       "      <th>0</th>\n",
       "      <td>Добавить два новых канала привлечения трафика, что позволит привлекать на 30% больше пользователей</td>\n",
       "      <td>3</td>\n",
       "      <td>10</td>\n",
       "      <td>8</td>\n",
       "      <td>6</td>\n",
       "    </tr>\n",
       "    <tr>\n",
       "      <th>1</th>\n",
       "      <td>Запустить собственную службу доставки, что сократит срок доставки заказов</td>\n",
       "      <td>2</td>\n",
       "      <td>5</td>\n",
       "      <td>4</td>\n",
       "      <td>10</td>\n",
       "    </tr>\n",
       "    <tr>\n",
       "      <th>2</th>\n",
       "      <td>Добавить блоки рекомендаций товаров на сайт интернет магазина, чтобы повысить конверсию и средний чек заказа</td>\n",
       "      <td>8</td>\n",
       "      <td>3</td>\n",
       "      <td>7</td>\n",
       "      <td>3</td>\n",
       "    </tr>\n",
       "    <tr>\n",
       "      <th>3</th>\n",
       "      <td>Изменить структура категорий, что увеличит конверсию, т.к. пользователи быстрее найдут нужный товар</td>\n",
       "      <td>8</td>\n",
       "      <td>3</td>\n",
       "      <td>3</td>\n",
       "      <td>8</td>\n",
       "    </tr>\n",
       "    <tr>\n",
       "      <th>4</th>\n",
       "      <td>Изменить цвет фона главной страницы, чтобы увеличить вовлеченность пользователей</td>\n",
       "      <td>3</td>\n",
       "      <td>1</td>\n",
       "      <td>1</td>\n",
       "      <td>1</td>\n",
       "    </tr>\n",
       "    <tr>\n",
       "      <th>5</th>\n",
       "      <td>Добавить страницу отзывов клиентов о магазине, что позволит увеличить количество заказов</td>\n",
       "      <td>3</td>\n",
       "      <td>2</td>\n",
       "      <td>2</td>\n",
       "      <td>3</td>\n",
       "    </tr>\n",
       "    <tr>\n",
       "      <th>6</th>\n",
       "      <td>Показать на главной странице баннеры с актуальными акциями и распродажами, чтобы увеличить конверсию</td>\n",
       "      <td>5</td>\n",
       "      <td>3</td>\n",
       "      <td>8</td>\n",
       "      <td>3</td>\n",
       "    </tr>\n",
       "    <tr>\n",
       "      <th>7</th>\n",
       "      <td>Добавить форму подписки на все основные страницы, чтобы собрать базу клиентов для email-рассылок</td>\n",
       "      <td>10</td>\n",
       "      <td>7</td>\n",
       "      <td>8</td>\n",
       "      <td>5</td>\n",
       "    </tr>\n",
       "    <tr>\n",
       "      <th>8</th>\n",
       "      <td>Запустить акцию, дающую скидку на товар в день рождения</td>\n",
       "      <td>1</td>\n",
       "      <td>9</td>\n",
       "      <td>9</td>\n",
       "      <td>5</td>\n",
       "    </tr>\n",
       "  </tbody>\n",
       "</table>\n",
       "</div>"
      ],
      "text/plain": [
       "                                                                                                     Hypothesis  \\\n",
       "0            Добавить два новых канала привлечения трафика, что позволит привлекать на 30% больше пользователей   \n",
       "1                                     Запустить собственную службу доставки, что сократит срок доставки заказов   \n",
       "2  Добавить блоки рекомендаций товаров на сайт интернет магазина, чтобы повысить конверсию и средний чек заказа   \n",
       "3           Изменить структура категорий, что увеличит конверсию, т.к. пользователи быстрее найдут нужный товар   \n",
       "4                              Изменить цвет фона главной страницы, чтобы увеличить вовлеченность пользователей   \n",
       "5                      Добавить страницу отзывов клиентов о магазине, что позволит увеличить количество заказов   \n",
       "6          Показать на главной странице баннеры с актуальными акциями и распродажами, чтобы увеличить конверсию   \n",
       "7              Добавить форму подписки на все основные страницы, чтобы собрать базу клиентов для email-рассылок   \n",
       "8                                                       Запустить акцию, дающую скидку на товар в день рождения   \n",
       "\n",
       "   Reach  Impact  Confidence  Efforts  \n",
       "0      3      10           8        6  \n",
       "1      2       5           4       10  \n",
       "2      8       3           7        3  \n",
       "3      8       3           3        8  \n",
       "4      3       1           1        1  \n",
       "5      3       2           2        3  \n",
       "6      5       3           8        3  \n",
       "7     10       7           8        5  \n",
       "8      1       9           9        5  "
      ]
     },
     "execution_count": 11,
     "metadata": {},
     "output_type": "execute_result"
    }
   ],
   "source": [
    "hypothesis"
   ]
  },
  {
   "cell_type": "markdown",
   "metadata": {},
   "source": [
    "### Применим фреймворк ICE для приоритизации гипотез. "
   ]
  },
  {
   "cell_type": "markdown",
   "metadata": {},
   "source": [
    "Рассчет фреймворка ICE будет проводиться по формуле: $$ICE =  \\frac {Impact * Confidence} { Efforts} $$"
   ]
  },
  {
   "cell_type": "code",
   "execution_count": 12,
   "metadata": {},
   "outputs": [],
   "source": [
    "hypothesis['ICE'] = round((hypothesis['Impact'] * hypothesis['Confidence']) / hypothesis['Efforts'],1)\n",
    "hypothesis['ICE_Rank'] = hypothesis['ICE'].rank()"
   ]
  },
  {
   "cell_type": "code",
   "execution_count": 13,
   "metadata": {},
   "outputs": [
    {
     "data": {
      "text/html": [
       "<div>\n",
       "<style scoped>\n",
       "    .dataframe tbody tr th:only-of-type {\n",
       "        vertical-align: middle;\n",
       "    }\n",
       "\n",
       "    .dataframe tbody tr th {\n",
       "        vertical-align: top;\n",
       "    }\n",
       "\n",
       "    .dataframe thead th {\n",
       "        text-align: right;\n",
       "    }\n",
       "</style>\n",
       "<table border=\"1\" class=\"dataframe\">\n",
       "  <thead>\n",
       "    <tr style=\"text-align: right;\">\n",
       "      <th></th>\n",
       "      <th>Hypothesis</th>\n",
       "      <th>Reach</th>\n",
       "      <th>Impact</th>\n",
       "      <th>Confidence</th>\n",
       "      <th>Efforts</th>\n",
       "      <th>ICE</th>\n",
       "      <th>ICE_Rank</th>\n",
       "    </tr>\n",
       "  </thead>\n",
       "  <tbody>\n",
       "    <tr>\n",
       "      <th>8</th>\n",
       "      <td>Запустить акцию, дающую скидку на товар в день рождения</td>\n",
       "      <td>1</td>\n",
       "      <td>9</td>\n",
       "      <td>9</td>\n",
       "      <td>5</td>\n",
       "      <td>16.2</td>\n",
       "      <td>9.0</td>\n",
       "    </tr>\n",
       "    <tr>\n",
       "      <th>0</th>\n",
       "      <td>Добавить два новых канала привлечения трафика, что позволит привлекать на 30% больше пользователей</td>\n",
       "      <td>3</td>\n",
       "      <td>10</td>\n",
       "      <td>8</td>\n",
       "      <td>6</td>\n",
       "      <td>13.3</td>\n",
       "      <td>8.0</td>\n",
       "    </tr>\n",
       "    <tr>\n",
       "      <th>7</th>\n",
       "      <td>Добавить форму подписки на все основные страницы, чтобы собрать базу клиентов для email-рассылок</td>\n",
       "      <td>10</td>\n",
       "      <td>7</td>\n",
       "      <td>8</td>\n",
       "      <td>5</td>\n",
       "      <td>11.2</td>\n",
       "      <td>7.0</td>\n",
       "    </tr>\n",
       "    <tr>\n",
       "      <th>6</th>\n",
       "      <td>Показать на главной странице баннеры с актуальными акциями и распродажами, чтобы увеличить конверсию</td>\n",
       "      <td>5</td>\n",
       "      <td>3</td>\n",
       "      <td>8</td>\n",
       "      <td>3</td>\n",
       "      <td>8.0</td>\n",
       "      <td>6.0</td>\n",
       "    </tr>\n",
       "    <tr>\n",
       "      <th>2</th>\n",
       "      <td>Добавить блоки рекомендаций товаров на сайт интернет магазина, чтобы повысить конверсию и средний чек заказа</td>\n",
       "      <td>8</td>\n",
       "      <td>3</td>\n",
       "      <td>7</td>\n",
       "      <td>3</td>\n",
       "      <td>7.0</td>\n",
       "      <td>5.0</td>\n",
       "    </tr>\n",
       "    <tr>\n",
       "      <th>1</th>\n",
       "      <td>Запустить собственную службу доставки, что сократит срок доставки заказов</td>\n",
       "      <td>2</td>\n",
       "      <td>5</td>\n",
       "      <td>4</td>\n",
       "      <td>10</td>\n",
       "      <td>2.0</td>\n",
       "      <td>4.0</td>\n",
       "    </tr>\n",
       "    <tr>\n",
       "      <th>5</th>\n",
       "      <td>Добавить страницу отзывов клиентов о магазине, что позволит увеличить количество заказов</td>\n",
       "      <td>3</td>\n",
       "      <td>2</td>\n",
       "      <td>2</td>\n",
       "      <td>3</td>\n",
       "      <td>1.3</td>\n",
       "      <td>3.0</td>\n",
       "    </tr>\n",
       "    <tr>\n",
       "      <th>3</th>\n",
       "      <td>Изменить структура категорий, что увеличит конверсию, т.к. пользователи быстрее найдут нужный товар</td>\n",
       "      <td>8</td>\n",
       "      <td>3</td>\n",
       "      <td>3</td>\n",
       "      <td>8</td>\n",
       "      <td>1.1</td>\n",
       "      <td>2.0</td>\n",
       "    </tr>\n",
       "    <tr>\n",
       "      <th>4</th>\n",
       "      <td>Изменить цвет фона главной страницы, чтобы увеличить вовлеченность пользователей</td>\n",
       "      <td>3</td>\n",
       "      <td>1</td>\n",
       "      <td>1</td>\n",
       "      <td>1</td>\n",
       "      <td>1.0</td>\n",
       "      <td>1.0</td>\n",
       "    </tr>\n",
       "  </tbody>\n",
       "</table>\n",
       "</div>"
      ],
      "text/plain": [
       "                                                                                                     Hypothesis  \\\n",
       "8                                                       Запустить акцию, дающую скидку на товар в день рождения   \n",
       "0            Добавить два новых канала привлечения трафика, что позволит привлекать на 30% больше пользователей   \n",
       "7              Добавить форму подписки на все основные страницы, чтобы собрать базу клиентов для email-рассылок   \n",
       "6          Показать на главной странице баннеры с актуальными акциями и распродажами, чтобы увеличить конверсию   \n",
       "2  Добавить блоки рекомендаций товаров на сайт интернет магазина, чтобы повысить конверсию и средний чек заказа   \n",
       "1                                     Запустить собственную службу доставки, что сократит срок доставки заказов   \n",
       "5                      Добавить страницу отзывов клиентов о магазине, что позволит увеличить количество заказов   \n",
       "3           Изменить структура категорий, что увеличит конверсию, т.к. пользователи быстрее найдут нужный товар   \n",
       "4                              Изменить цвет фона главной страницы, чтобы увеличить вовлеченность пользователей   \n",
       "\n",
       "   Reach  Impact  Confidence  Efforts   ICE  ICE_Rank  \n",
       "8      1       9           9        5  16.2       9.0  \n",
       "0      3      10           8        6  13.3       8.0  \n",
       "7     10       7           8        5  11.2       7.0  \n",
       "6      5       3           8        3   8.0       6.0  \n",
       "2      8       3           7        3   7.0       5.0  \n",
       "1      2       5           4       10   2.0       4.0  \n",
       "5      3       2           2        3   1.3       3.0  \n",
       "3      8       3           3        8   1.1       2.0  \n",
       "4      3       1           1        1   1.0       1.0  "
      ]
     },
     "execution_count": 13,
     "metadata": {},
     "output_type": "execute_result"
    }
   ],
   "source": [
    "hypothesis.sort_values(by = 'ICE', ascending = False)"
   ]
  },
  {
   "cell_type": "markdown",
   "metadata": {},
   "source": [
    "Как мы можем наблюдать приоритетной гипотезой по фреймворку ICE оказалась гипотеза под номером 8"
   ]
  },
  {
   "cell_type": "markdown",
   "metadata": {},
   "source": [
    "### Применим фреймворк RICE для приоритизации гипотез."
   ]
  },
  {
   "cell_type": "markdown",
   "metadata": {},
   "source": [
    "Рассчет фреймворка RICE будет проводиться по формуле: $$RICE =  \\frac {Reach * Impact * Confidence} { Efforts} $$"
   ]
  },
  {
   "cell_type": "code",
   "execution_count": 14,
   "metadata": {},
   "outputs": [],
   "source": [
    "hypothesis['RICE'] = (hypothesis['Reach'] * hypothesis['Impact'] * hypothesis['Confidence']) / hypothesis['Efforts']\n",
    "hypothesis['RICE_Rank'] = hypothesis['RICE'].rank()"
   ]
  },
  {
   "cell_type": "code",
   "execution_count": 15,
   "metadata": {
    "scrolled": false
   },
   "outputs": [
    {
     "data": {
      "text/html": [
       "<div>\n",
       "<style scoped>\n",
       "    .dataframe tbody tr th:only-of-type {\n",
       "        vertical-align: middle;\n",
       "    }\n",
       "\n",
       "    .dataframe tbody tr th {\n",
       "        vertical-align: top;\n",
       "    }\n",
       "\n",
       "    .dataframe thead th {\n",
       "        text-align: right;\n",
       "    }\n",
       "</style>\n",
       "<table border=\"1\" class=\"dataframe\">\n",
       "  <thead>\n",
       "    <tr style=\"text-align: right;\">\n",
       "      <th></th>\n",
       "      <th>Hypothesis</th>\n",
       "      <th>Reach</th>\n",
       "      <th>Impact</th>\n",
       "      <th>Confidence</th>\n",
       "      <th>Efforts</th>\n",
       "      <th>ICE</th>\n",
       "      <th>ICE_Rank</th>\n",
       "      <th>RICE</th>\n",
       "      <th>RICE_Rank</th>\n",
       "    </tr>\n",
       "  </thead>\n",
       "  <tbody>\n",
       "    <tr>\n",
       "      <th>7</th>\n",
       "      <td>Добавить форму подписки на все основные страницы, чтобы собрать базу клиентов для email-рассылок</td>\n",
       "      <td>10</td>\n",
       "      <td>7</td>\n",
       "      <td>8</td>\n",
       "      <td>5</td>\n",
       "      <td>11.2</td>\n",
       "      <td>7.0</td>\n",
       "      <td>112.0</td>\n",
       "      <td>9.0</td>\n",
       "    </tr>\n",
       "    <tr>\n",
       "      <th>2</th>\n",
       "      <td>Добавить блоки рекомендаций товаров на сайт интернет магазина, чтобы повысить конверсию и средний чек заказа</td>\n",
       "      <td>8</td>\n",
       "      <td>3</td>\n",
       "      <td>7</td>\n",
       "      <td>3</td>\n",
       "      <td>7.0</td>\n",
       "      <td>5.0</td>\n",
       "      <td>56.0</td>\n",
       "      <td>8.0</td>\n",
       "    </tr>\n",
       "    <tr>\n",
       "      <th>0</th>\n",
       "      <td>Добавить два новых канала привлечения трафика, что позволит привлекать на 30% больше пользователей</td>\n",
       "      <td>3</td>\n",
       "      <td>10</td>\n",
       "      <td>8</td>\n",
       "      <td>6</td>\n",
       "      <td>13.3</td>\n",
       "      <td>8.0</td>\n",
       "      <td>40.0</td>\n",
       "      <td>6.5</td>\n",
       "    </tr>\n",
       "    <tr>\n",
       "      <th>6</th>\n",
       "      <td>Показать на главной странице баннеры с актуальными акциями и распродажами, чтобы увеличить конверсию</td>\n",
       "      <td>5</td>\n",
       "      <td>3</td>\n",
       "      <td>8</td>\n",
       "      <td>3</td>\n",
       "      <td>8.0</td>\n",
       "      <td>6.0</td>\n",
       "      <td>40.0</td>\n",
       "      <td>6.5</td>\n",
       "    </tr>\n",
       "    <tr>\n",
       "      <th>8</th>\n",
       "      <td>Запустить акцию, дающую скидку на товар в день рождения</td>\n",
       "      <td>1</td>\n",
       "      <td>9</td>\n",
       "      <td>9</td>\n",
       "      <td>5</td>\n",
       "      <td>16.2</td>\n",
       "      <td>9.0</td>\n",
       "      <td>16.2</td>\n",
       "      <td>5.0</td>\n",
       "    </tr>\n",
       "    <tr>\n",
       "      <th>3</th>\n",
       "      <td>Изменить структура категорий, что увеличит конверсию, т.к. пользователи быстрее найдут нужный товар</td>\n",
       "      <td>8</td>\n",
       "      <td>3</td>\n",
       "      <td>3</td>\n",
       "      <td>8</td>\n",
       "      <td>1.1</td>\n",
       "      <td>2.0</td>\n",
       "      <td>9.0</td>\n",
       "      <td>4.0</td>\n",
       "    </tr>\n",
       "    <tr>\n",
       "      <th>1</th>\n",
       "      <td>Запустить собственную службу доставки, что сократит срок доставки заказов</td>\n",
       "      <td>2</td>\n",
       "      <td>5</td>\n",
       "      <td>4</td>\n",
       "      <td>10</td>\n",
       "      <td>2.0</td>\n",
       "      <td>4.0</td>\n",
       "      <td>4.0</td>\n",
       "      <td>2.5</td>\n",
       "    </tr>\n",
       "    <tr>\n",
       "      <th>5</th>\n",
       "      <td>Добавить страницу отзывов клиентов о магазине, что позволит увеличить количество заказов</td>\n",
       "      <td>3</td>\n",
       "      <td>2</td>\n",
       "      <td>2</td>\n",
       "      <td>3</td>\n",
       "      <td>1.3</td>\n",
       "      <td>3.0</td>\n",
       "      <td>4.0</td>\n",
       "      <td>2.5</td>\n",
       "    </tr>\n",
       "    <tr>\n",
       "      <th>4</th>\n",
       "      <td>Изменить цвет фона главной страницы, чтобы увеличить вовлеченность пользователей</td>\n",
       "      <td>3</td>\n",
       "      <td>1</td>\n",
       "      <td>1</td>\n",
       "      <td>1</td>\n",
       "      <td>1.0</td>\n",
       "      <td>1.0</td>\n",
       "      <td>3.0</td>\n",
       "      <td>1.0</td>\n",
       "    </tr>\n",
       "  </tbody>\n",
       "</table>\n",
       "</div>"
      ],
      "text/plain": [
       "                                                                                                     Hypothesis  \\\n",
       "7              Добавить форму подписки на все основные страницы, чтобы собрать базу клиентов для email-рассылок   \n",
       "2  Добавить блоки рекомендаций товаров на сайт интернет магазина, чтобы повысить конверсию и средний чек заказа   \n",
       "0            Добавить два новых канала привлечения трафика, что позволит привлекать на 30% больше пользователей   \n",
       "6          Показать на главной странице баннеры с актуальными акциями и распродажами, чтобы увеличить конверсию   \n",
       "8                                                       Запустить акцию, дающую скидку на товар в день рождения   \n",
       "3           Изменить структура категорий, что увеличит конверсию, т.к. пользователи быстрее найдут нужный товар   \n",
       "1                                     Запустить собственную службу доставки, что сократит срок доставки заказов   \n",
       "5                      Добавить страницу отзывов клиентов о магазине, что позволит увеличить количество заказов   \n",
       "4                              Изменить цвет фона главной страницы, чтобы увеличить вовлеченность пользователей   \n",
       "\n",
       "   Reach  Impact  Confidence  Efforts   ICE  ICE_Rank   RICE  RICE_Rank  \n",
       "7     10       7           8        5  11.2       7.0  112.0        9.0  \n",
       "2      8       3           7        3   7.0       5.0   56.0        8.0  \n",
       "0      3      10           8        6  13.3       8.0   40.0        6.5  \n",
       "6      5       3           8        3   8.0       6.0   40.0        6.5  \n",
       "8      1       9           9        5  16.2       9.0   16.2        5.0  \n",
       "3      8       3           3        8   1.1       2.0    9.0        4.0  \n",
       "1      2       5           4       10   2.0       4.0    4.0        2.5  \n",
       "5      3       2           2        3   1.3       3.0    4.0        2.5  \n",
       "4      3       1           1        1   1.0       1.0    3.0        1.0  "
      ]
     },
     "execution_count": 15,
     "metadata": {},
     "output_type": "execute_result"
    }
   ],
   "source": [
    "hypothesis.sort_values(by = 'RICE', ascending = False)\n"
   ]
  },
  {
   "cell_type": "markdown",
   "metadata": {},
   "source": [
    "Приоритетной гипотезой по фреймворку ICE оказалась гипотеза под номером 7"
   ]
  },
  {
   "cell_type": "code",
   "execution_count": 16,
   "metadata": {},
   "outputs": [
    {
     "data": {
      "text/html": [
       "<style  type=\"text/css\" >\n",
       "#T_06e00_row0_col1,#T_06e00_row4_col2{\n",
       "            background-color:  yellowgreen;\n",
       "        }#T_06e00_row8_col1,#T_06e00_row8_col2{\n",
       "            background-color:  coral;\n",
       "        }</style><table id=\"T_06e00_\" ><thead>    <tr>        <th class=\"blank level0\" ></th>        <th class=\"col_heading level0 col0\" >Hypothesis</th>        <th class=\"col_heading level0 col1\" >RICE</th>        <th class=\"col_heading level0 col2\" >ICE</th>    </tr></thead><tbody>\n",
       "                <tr>\n",
       "                        <th id=\"T_06e00_level0_row0\" class=\"row_heading level0 row0\" >7</th>\n",
       "                        <td id=\"T_06e00_row0_col0\" class=\"data row0 col0\" >Добавить форму подписки на все основные страницы, чтобы собрать базу клиентов для email-рассылок</td>\n",
       "                        <td id=\"T_06e00_row0_col1\" class=\"data row0 col1\" >112.000000</td>\n",
       "                        <td id=\"T_06e00_row0_col2\" class=\"data row0 col2\" >11.200000</td>\n",
       "            </tr>\n",
       "            <tr>\n",
       "                        <th id=\"T_06e00_level0_row1\" class=\"row_heading level0 row1\" >2</th>\n",
       "                        <td id=\"T_06e00_row1_col0\" class=\"data row1 col0\" >Добавить блоки рекомендаций товаров на сайт интернет магазина, чтобы повысить конверсию и средний чек заказа</td>\n",
       "                        <td id=\"T_06e00_row1_col1\" class=\"data row1 col1\" >56.000000</td>\n",
       "                        <td id=\"T_06e00_row1_col2\" class=\"data row1 col2\" >7.000000</td>\n",
       "            </tr>\n",
       "            <tr>\n",
       "                        <th id=\"T_06e00_level0_row2\" class=\"row_heading level0 row2\" >0</th>\n",
       "                        <td id=\"T_06e00_row2_col0\" class=\"data row2 col0\" >Добавить два новых канала привлечения трафика, что позволит привлекать на 30% больше пользователей</td>\n",
       "                        <td id=\"T_06e00_row2_col1\" class=\"data row2 col1\" >40.000000</td>\n",
       "                        <td id=\"T_06e00_row2_col2\" class=\"data row2 col2\" >13.300000</td>\n",
       "            </tr>\n",
       "            <tr>\n",
       "                        <th id=\"T_06e00_level0_row3\" class=\"row_heading level0 row3\" >6</th>\n",
       "                        <td id=\"T_06e00_row3_col0\" class=\"data row3 col0\" >Показать на главной странице баннеры с актуальными акциями и распродажами, чтобы увеличить конверсию</td>\n",
       "                        <td id=\"T_06e00_row3_col1\" class=\"data row3 col1\" >40.000000</td>\n",
       "                        <td id=\"T_06e00_row3_col2\" class=\"data row3 col2\" >8.000000</td>\n",
       "            </tr>\n",
       "            <tr>\n",
       "                        <th id=\"T_06e00_level0_row4\" class=\"row_heading level0 row4\" >8</th>\n",
       "                        <td id=\"T_06e00_row4_col0\" class=\"data row4 col0\" >Запустить акцию, дающую скидку на товар в день рождения</td>\n",
       "                        <td id=\"T_06e00_row4_col1\" class=\"data row4 col1\" >16.200000</td>\n",
       "                        <td id=\"T_06e00_row4_col2\" class=\"data row4 col2\" >16.200000</td>\n",
       "            </tr>\n",
       "            <tr>\n",
       "                        <th id=\"T_06e00_level0_row5\" class=\"row_heading level0 row5\" >3</th>\n",
       "                        <td id=\"T_06e00_row5_col0\" class=\"data row5 col0\" >Изменить структура категорий, что увеличит конверсию, т.к. пользователи быстрее найдут нужный товар</td>\n",
       "                        <td id=\"T_06e00_row5_col1\" class=\"data row5 col1\" >9.000000</td>\n",
       "                        <td id=\"T_06e00_row5_col2\" class=\"data row5 col2\" >1.100000</td>\n",
       "            </tr>\n",
       "            <tr>\n",
       "                        <th id=\"T_06e00_level0_row6\" class=\"row_heading level0 row6\" >1</th>\n",
       "                        <td id=\"T_06e00_row6_col0\" class=\"data row6 col0\" >Запустить собственную службу доставки, что сократит срок доставки заказов</td>\n",
       "                        <td id=\"T_06e00_row6_col1\" class=\"data row6 col1\" >4.000000</td>\n",
       "                        <td id=\"T_06e00_row6_col2\" class=\"data row6 col2\" >2.000000</td>\n",
       "            </tr>\n",
       "            <tr>\n",
       "                        <th id=\"T_06e00_level0_row7\" class=\"row_heading level0 row7\" >5</th>\n",
       "                        <td id=\"T_06e00_row7_col0\" class=\"data row7 col0\" >Добавить страницу отзывов клиентов о магазине, что позволит увеличить количество заказов</td>\n",
       "                        <td id=\"T_06e00_row7_col1\" class=\"data row7 col1\" >4.000000</td>\n",
       "                        <td id=\"T_06e00_row7_col2\" class=\"data row7 col2\" >1.300000</td>\n",
       "            </tr>\n",
       "            <tr>\n",
       "                        <th id=\"T_06e00_level0_row8\" class=\"row_heading level0 row8\" >4</th>\n",
       "                        <td id=\"T_06e00_row8_col0\" class=\"data row8 col0\" >Изменить цвет фона главной страницы, чтобы увеличить вовлеченность пользователей</td>\n",
       "                        <td id=\"T_06e00_row8_col1\" class=\"data row8 col1\" >3.000000</td>\n",
       "                        <td id=\"T_06e00_row8_col2\" class=\"data row8 col2\" >1.000000</td>\n",
       "            </tr>\n",
       "    </tbody></table>"
      ],
      "text/plain": [
       "<pandas.io.formats.style.Styler at 0x1f5fff4d880>"
      ]
     },
     "execution_count": 16,
     "metadata": {},
     "output_type": "execute_result"
    }
   ],
   "source": [
    "numeric_columns = ['RICE', 'ICE'] \n",
    "(hypothesis[['Hypothesis', 'RICE', 'ICE']]\n",
    " .sort_values(['RICE', 'ICE'], ascending=[False, False])\n",
    " .style\n",
    " .highlight_max(color='yellowgreen', subset=numeric_columns)\n",
    " .highlight_min(color='coral', subset=numeric_columns)\n",
    ")"
   ]
  },
  {
   "cell_type": "markdown",
   "metadata": {},
   "source": [
    "### Указать, как изменилась приоритизация гипотез при применении RICE вместо ICE. Объяснить, почему так произошло."
   ]
  },
  {
   "cell_type": "code",
   "execution_count": 17,
   "metadata": {},
   "outputs": [
    {
     "data": {
      "text/html": [
       "<div>\n",
       "<style scoped>\n",
       "    .dataframe tbody tr th:only-of-type {\n",
       "        vertical-align: middle;\n",
       "    }\n",
       "\n",
       "    .dataframe tbody tr th {\n",
       "        vertical-align: top;\n",
       "    }\n",
       "\n",
       "    .dataframe thead th {\n",
       "        text-align: right;\n",
       "    }\n",
       "</style>\n",
       "<table border=\"1\" class=\"dataframe\">\n",
       "  <thead>\n",
       "    <tr style=\"text-align: right;\">\n",
       "      <th></th>\n",
       "      <th>Hypothesis</th>\n",
       "      <th>ICE_Rank</th>\n",
       "      <th>RICE_Rank</th>\n",
       "    </tr>\n",
       "  </thead>\n",
       "  <tbody>\n",
       "    <tr>\n",
       "      <th>0</th>\n",
       "      <td>Добавить два новых канала привлечения трафика, что позволит привлекать на 30% больше пользователей</td>\n",
       "      <td>8.0</td>\n",
       "      <td>6.5</td>\n",
       "    </tr>\n",
       "    <tr>\n",
       "      <th>1</th>\n",
       "      <td>Запустить собственную службу доставки, что сократит срок доставки заказов</td>\n",
       "      <td>4.0</td>\n",
       "      <td>2.5</td>\n",
       "    </tr>\n",
       "    <tr>\n",
       "      <th>2</th>\n",
       "      <td>Добавить блоки рекомендаций товаров на сайт интернет магазина, чтобы повысить конверсию и средний чек заказа</td>\n",
       "      <td>5.0</td>\n",
       "      <td>8.0</td>\n",
       "    </tr>\n",
       "    <tr>\n",
       "      <th>3</th>\n",
       "      <td>Изменить структура категорий, что увеличит конверсию, т.к. пользователи быстрее найдут нужный товар</td>\n",
       "      <td>2.0</td>\n",
       "      <td>4.0</td>\n",
       "    </tr>\n",
       "    <tr>\n",
       "      <th>4</th>\n",
       "      <td>Изменить цвет фона главной страницы, чтобы увеличить вовлеченность пользователей</td>\n",
       "      <td>1.0</td>\n",
       "      <td>1.0</td>\n",
       "    </tr>\n",
       "    <tr>\n",
       "      <th>5</th>\n",
       "      <td>Добавить страницу отзывов клиентов о магазине, что позволит увеличить количество заказов</td>\n",
       "      <td>3.0</td>\n",
       "      <td>2.5</td>\n",
       "    </tr>\n",
       "    <tr>\n",
       "      <th>6</th>\n",
       "      <td>Показать на главной странице баннеры с актуальными акциями и распродажами, чтобы увеличить конверсию</td>\n",
       "      <td>6.0</td>\n",
       "      <td>6.5</td>\n",
       "    </tr>\n",
       "    <tr>\n",
       "      <th>7</th>\n",
       "      <td>Добавить форму подписки на все основные страницы, чтобы собрать базу клиентов для email-рассылок</td>\n",
       "      <td>7.0</td>\n",
       "      <td>9.0</td>\n",
       "    </tr>\n",
       "    <tr>\n",
       "      <th>8</th>\n",
       "      <td>Запустить акцию, дающую скидку на товар в день рождения</td>\n",
       "      <td>9.0</td>\n",
       "      <td>5.0</td>\n",
       "    </tr>\n",
       "  </tbody>\n",
       "</table>\n",
       "</div>"
      ],
      "text/plain": [
       "                                                                                                     Hypothesis  \\\n",
       "0            Добавить два новых канала привлечения трафика, что позволит привлекать на 30% больше пользователей   \n",
       "1                                     Запустить собственную службу доставки, что сократит срок доставки заказов   \n",
       "2  Добавить блоки рекомендаций товаров на сайт интернет магазина, чтобы повысить конверсию и средний чек заказа   \n",
       "3           Изменить структура категорий, что увеличит конверсию, т.к. пользователи быстрее найдут нужный товар   \n",
       "4                              Изменить цвет фона главной страницы, чтобы увеличить вовлеченность пользователей   \n",
       "5                      Добавить страницу отзывов клиентов о магазине, что позволит увеличить количество заказов   \n",
       "6          Показать на главной странице баннеры с актуальными акциями и распродажами, чтобы увеличить конверсию   \n",
       "7              Добавить форму подписки на все основные страницы, чтобы собрать базу клиентов для email-рассылок   \n",
       "8                                                       Запустить акцию, дающую скидку на товар в день рождения   \n",
       "\n",
       "   ICE_Rank  RICE_Rank  \n",
       "0       8.0        6.5  \n",
       "1       4.0        2.5  \n",
       "2       5.0        8.0  \n",
       "3       2.0        4.0  \n",
       "4       1.0        1.0  \n",
       "5       3.0        2.5  \n",
       "6       6.0        6.5  \n",
       "7       7.0        9.0  \n",
       "8       9.0        5.0  "
      ]
     },
     "execution_count": 17,
     "metadata": {},
     "output_type": "execute_result"
    }
   ],
   "source": [
    "hypothesis[['Hypothesis','ICE_Rank','RICE_Rank']]"
   ]
  },
  {
   "cell_type": "markdown",
   "metadata": {},
   "source": [
    "При применении разных фреймворков позиции в приоритете гипотез изменились. Некоторые гипотезы потеряли несколько позиций часть наоборот набрали. Это произошло из за того что фреймворк ICE не учитывает такой параметр как Reach(Охват пользователей). Соответсвенно можно сделать вывод что 7 гипотеза повлияет на всех пользователей продукта в отличии от 8."
   ]
  },
  {
   "cell_type": "markdown",
   "metadata": {},
   "source": [
    "## Часть 3. Анализ A/B-теста"
   ]
  },
  {
   "cell_type": "markdown",
   "metadata": {},
   "source": [
    "### Построим график кумулятивной выручки по группам. Сделаем выводы и предположения."
   ]
  },
  {
   "cell_type": "code",
   "execution_count": 18,
   "metadata": {
    "scrolled": false
   },
   "outputs": [],
   "source": [
    "#Соберём агрегированные кумулятивные по дням данные о заказах\n",
    "datesGroups = orders[['date','group']].drop_duplicates() \n",
    "\n",
    "ordersAggregated = datesGroups.apply(lambda x: orders[np.logical_and(orders['date'] <= x['date'], orders['group'] == x['group'])]\\\n",
    "                                     .agg({'date':'max','group':'max', 'transactionId':'nunique','visitorId':'nunique','revenue':'sum'}), axis = 1).sort_values(by = ['date','group'])\n",
    "\n",
    "#Так же для последующих расчетов посчитаем кумулятивные данные о посетятелях магазина (для расчета среднего чека и т.д.)\n",
    "visitorsAggregated = visitorsAggregated = datesGroups.apply(lambda x: visitors[np.logical_and(visitors['date'] <= x['date'], visitors['group'] == x['group'])].agg({'date' : 'max', 'group' : 'max', 'visitors' : 'sum'}), axis=1).sort_values(by=['date','group'])\n",
    "\n",
    "#Объеденим данные таблицы\n",
    "cumulativeData = ordersAggregated.merge(visitorsAggregated, how = 'left', on = ['date','group'])"
   ]
  },
  {
   "cell_type": "code",
   "execution_count": 19,
   "metadata": {
    "scrolled": false
   },
   "outputs": [
    {
     "data": {
      "text/html": [
       "<div>\n",
       "<style scoped>\n",
       "    .dataframe tbody tr th:only-of-type {\n",
       "        vertical-align: middle;\n",
       "    }\n",
       "\n",
       "    .dataframe tbody tr th {\n",
       "        vertical-align: top;\n",
       "    }\n",
       "\n",
       "    .dataframe thead th {\n",
       "        text-align: right;\n",
       "    }\n",
       "</style>\n",
       "<table border=\"1\" class=\"dataframe\">\n",
       "  <thead>\n",
       "    <tr style=\"text-align: right;\">\n",
       "      <th></th>\n",
       "      <th>date</th>\n",
       "      <th>group</th>\n",
       "      <th>transactionId</th>\n",
       "      <th>visitorId</th>\n",
       "      <th>revenue</th>\n",
       "      <th>visitors</th>\n",
       "    </tr>\n",
       "  </thead>\n",
       "  <tbody>\n",
       "    <tr>\n",
       "      <th>22</th>\n",
       "      <td>2019-08-12</td>\n",
       "      <td>A</td>\n",
       "      <td>230</td>\n",
       "      <td>210</td>\n",
       "      <td>1562873</td>\n",
       "      <td>7575</td>\n",
       "    </tr>\n",
       "    <tr>\n",
       "      <th>28</th>\n",
       "      <td>2019-08-15</td>\n",
       "      <td>A</td>\n",
       "      <td>283</td>\n",
       "      <td>259</td>\n",
       "      <td>1979057</td>\n",
       "      <td>9686</td>\n",
       "    </tr>\n",
       "    <tr>\n",
       "      <th>52</th>\n",
       "      <td>2019-08-27</td>\n",
       "      <td>A</td>\n",
       "      <td>495</td>\n",
       "      <td>449</td>\n",
       "      <td>3514698</td>\n",
       "      <td>16376</td>\n",
       "    </tr>\n",
       "    <tr>\n",
       "      <th>1</th>\n",
       "      <td>2019-08-01</td>\n",
       "      <td>B</td>\n",
       "      <td>21</td>\n",
       "      <td>20</td>\n",
       "      <td>101217</td>\n",
       "      <td>713</td>\n",
       "    </tr>\n",
       "    <tr>\n",
       "      <th>31</th>\n",
       "      <td>2019-08-16</td>\n",
       "      <td>B</td>\n",
       "      <td>359</td>\n",
       "      <td>336</td>\n",
       "      <td>2539635</td>\n",
       "      <td>10013</td>\n",
       "    </tr>\n",
       "  </tbody>\n",
       "</table>\n",
       "</div>"
      ],
      "text/plain": [
       "         date group  transactionId  visitorId  revenue  visitors\n",
       "22 2019-08-12     A            230        210  1562873      7575\n",
       "28 2019-08-15     A            283        259  1979057      9686\n",
       "52 2019-08-27     A            495        449  3514698     16376\n",
       "1  2019-08-01     B             21         20   101217       713\n",
       "31 2019-08-16     B            359        336  2539635     10013"
      ]
     },
     "execution_count": 19,
     "metadata": {},
     "output_type": "execute_result"
    }
   ],
   "source": [
    "cumulativeData.sample(5)"
   ]
  },
  {
   "cell_type": "code",
   "execution_count": 20,
   "metadata": {},
   "outputs": [
    {
     "data": {
      "image/png": "[encoded data removed]",
      "text/plain": [
       "<Figure size 864x432 with 1 Axes>"
      ]
     },
     "metadata": {
      "needs_background": "light"
     },
     "output_type": "display_data"
    }
   ],
   "source": [
    "#Разобьем по группам и построим графики\n",
    "cumulativeDataA = cumulativeData[cumulativeData['group']=='A']\n",
    "cumulativeDataB = cumulativeData[cumulativeData['group']=='B']\n",
    "\n",
    "plt.figure(figsize=(12,6))\n",
    "plt.plot(cumulativeDataA['date'],cumulativeDataA['revenue'], label='A')\n",
    "plt.plot(cumulativeDataB['date'],cumulativeDataB['revenue'], label='B')\n",
    "plt.title('Кумулятивный график прибыли по датам', fontsize = 15)\n",
    "plt.xlabel('Дата')\n",
    "plt.ylabel('revenue')\n",
    "plt.legend()\n",
    "plt.show()"
   ]
  },
  {
   "cell_type": "markdown",
   "metadata": {},
   "source": [
    "Суда по графику выручка увеличивается в течение всего теста. Однако график выручки группы Б в точке ~18 19 августа резко растет. Это может сигнализировать о всплесках числа заказов, либо о появлении очень дорогих заказов в выборке."
   ]
  },
  {
   "cell_type": "markdown",
   "metadata": {},
   "source": [
    "### Построим график кумулятивного среднего чека по группам. Сделаем выводы и предположения."
   ]
  },
  {
   "cell_type": "code",
   "execution_count": 21,
   "metadata": {
    "scrolled": false
   },
   "outputs": [
    {
     "data": {
      "image/png": "[encoded data removed]",
      "text/plain": [
       "<Figure size 864x432 with 1 Axes>"
      ]
     },
     "metadata": {
      "needs_background": "light"
     },
     "output_type": "display_data"
    }
   ],
   "source": [
    "#Воспользуемся данными полученными в предыдущем шаге для расчета среднего чека\n",
    "\n",
    "plt.figure(figsize=(12,6))\n",
    "plt.plot(cumulativeDataA['date'],cumulativeDataA['revenue'] / cumulativeDataA['transactionId'], label='A')\n",
    "plt.plot(cumulativeDataB['date'],cumulativeDataB['revenue'] / cumulativeDataB['transactionId'], label='B')\n",
    "plt.title('Кумулятивный график среднего чека', fontsize = 15)\n",
    "plt.xlabel('Дата')\n",
    "plt.ylabel('Средний чек')\n",
    "plt.legend()\n",
    "plt.show()"
   ]
  },
  {
   "cell_type": "markdown",
   "metadata": {},
   "source": [
    "Судя по данному графику в данных группы Б есть вброс один или несколько очень дорогих заказов."
   ]
  },
  {
   "cell_type": "markdown",
   "metadata": {},
   "source": [
    "### Построим график относительного изменения кумулятивного среднего чека группы B к группе A. Сделаем выводы и предположения."
   ]
  },
  {
   "cell_type": "code",
   "execution_count": 22,
   "metadata": {},
   "outputs": [
    {
     "data": {
      "image/png": "[encoded data removed]",
      "text/plain": [
       "<Figure size 864x432 with 1 Axes>"
      ]
     },
     "metadata": {
      "needs_background": "light"
     },
     "output_type": "display_data"
    }
   ],
   "source": [
    "#объеденим данные из cumulativeDataA и cumulativeDataB для сравнения кумулятивных средних чеков и построим графики\n",
    "\n",
    "mergedcumulativeData = cumulativeDataA.merge(cumulativeDataB, how = 'left', on = 'date', suffixes = ['A','B'])\n",
    "\n",
    "\n",
    "plt.figure(figsize=(12,6))\n",
    "\n",
    "plt.plot(mergedcumulativeData['date'], (mergedcumulativeData['revenueB']/mergedcumulativeData['transactionIdB'])/(mergedcumulativeData['revenueA']/mergedcumulativeData['transactionIdA'])-1)\n",
    "plt.title('График относительного изменения кумулятивного среднего чека группы B к группе A.', fontsize = 15)\n",
    "#plt.xlabel('Дата') Не понимаю по какой причине не могу подписать ось, подскажите плиз\n",
    "plt.axhline(y=0, color='black', linestyle='--') # добавим на график линию где средние чеки равны, для наглядности.\n",
    "plt.show()"
   ]
  },
  {
   "cell_type": "markdown",
   "metadata": {},
   "source": [
    "Отношение чека колеблится относительно груп до момента круного(крупных) заказов."
   ]
  },
  {
   "cell_type": "markdown",
   "metadata": {},
   "source": [
    "### Построим график кумулятивной конверсии по группам. Сделаем выводы и предположения."
   ]
  },
  {
   "cell_type": "code",
   "execution_count": 23,
   "metadata": {
    "scrolled": false
   },
   "outputs": [
    {
     "data": {
      "image/png": "[encoded data removed]",
      "text/plain": [
       "<Figure size 864x432 with 1 Axes>"
      ]
     },
     "metadata": {
      "needs_background": "light"
     },
     "output_type": "display_data"
    }
   ],
   "source": [
    "plt.figure(figsize=(12,6))\n",
    "plt.plot(mergedcumulativeData['date'],mergedcumulativeData['transactionIdA'] / mergedcumulativeData['visitorsA'], label = 'A')\n",
    "plt.plot(mergedcumulativeData['date'],mergedcumulativeData['transactionIdB'] / mergedcumulativeData['visitorsB'], label = 'B')\n",
    "plt.title('График кумулятивной конверсии по группам', fontsize = 15)\n",
    "plt.legend()\n",
    "plt.show()"
   ]
  },
  {
   "cell_type": "markdown",
   "metadata": {},
   "source": [
    "Видим что конверсия группы Б со временем стала выше и зафиксировалась, возможно это и была основаня цель нововвидений."
   ]
  },
  {
   "cell_type": "markdown",
   "metadata": {},
   "source": [
    "### Построим график относительного изменения кумулятивной конверсии группы B к группе A."
   ]
  },
  {
   "cell_type": "code",
   "execution_count": 24,
   "metadata": {
    "scrolled": false
   },
   "outputs": [
    {
     "data": {
      "image/png": "[encoded data removed]",
      "text/plain": [
       "<Figure size 864x432 with 1 Axes>"
      ]
     },
     "metadata": {
      "needs_background": "light"
     },
     "output_type": "display_data"
    }
   ],
   "source": [
    "plt.figure(figsize=(12,6))\n",
    "plt.plot(mergedcumulativeData['date'], (mergedcumulativeData['transactionIdB'] / mergedcumulativeData['visitorsB']) / \n",
    "         ((mergedcumulativeData['transactionIdA'] / mergedcumulativeData['visitorsA']) )-1, label = 'Относительный прирост конверсии группы B относительно группы A')\n",
    "plt.title('График рафик относительного изменения кумулятивной конверсии группы B к группе A', fontsize = 15)\n",
    "plt.axhline(y=0, color='black', linestyle='--')\n",
    "plt.axhline(y=0.2, color='gray', linestyle='--')\n",
    "plt.legend()\n",
    "plt.show()\n"
   ]
  },
  {
   "cell_type": "markdown",
   "metadata": {},
   "source": [
    "###  Построим точечный график количества заказов по пользователям. Сделаем выводы и предположения."
   ]
  },
  {
   "cell_type": "code",
   "execution_count": 25,
   "metadata": {},
   "outputs": [],
   "source": [
    "#Посчитаем количество заказов для каждого пользователя\n",
    "\n",
    "users_orders = (orders.groupby('visitorId', as_index = False)\n",
    "                .agg({'transactionId':'nunique'}))"
   ]
  },
  {
   "cell_type": "code",
   "execution_count": 26,
   "metadata": {},
   "outputs": [
    {
     "data": {
      "text/html": [
       "<div>\n",
       "<style scoped>\n",
       "    .dataframe tbody tr th:only-of-type {\n",
       "        vertical-align: middle;\n",
       "    }\n",
       "\n",
       "    .dataframe tbody tr th {\n",
       "        vertical-align: top;\n",
       "    }\n",
       "\n",
       "    .dataframe thead th {\n",
       "        text-align: right;\n",
       "    }\n",
       "</style>\n",
       "<table border=\"1\" class=\"dataframe\">\n",
       "  <thead>\n",
       "    <tr style=\"text-align: right;\">\n",
       "      <th></th>\n",
       "      <th>visitorId</th>\n",
       "      <th>transactionId</th>\n",
       "    </tr>\n",
       "  </thead>\n",
       "  <tbody>\n",
       "    <tr>\n",
       "      <th>1023</th>\n",
       "      <td>4256040402</td>\n",
       "      <td>11</td>\n",
       "    </tr>\n",
       "    <tr>\n",
       "      <th>591</th>\n",
       "      <td>2458001652</td>\n",
       "      <td>11</td>\n",
       "    </tr>\n",
       "    <tr>\n",
       "      <th>569</th>\n",
       "      <td>2378935119</td>\n",
       "      <td>9</td>\n",
       "    </tr>\n",
       "    <tr>\n",
       "      <th>487</th>\n",
       "      <td>2038680547</td>\n",
       "      <td>8</td>\n",
       "    </tr>\n",
       "    <tr>\n",
       "      <th>44</th>\n",
       "      <td>199603092</td>\n",
       "      <td>5</td>\n",
       "    </tr>\n",
       "  </tbody>\n",
       "</table>\n",
       "</div>"
      ],
      "text/plain": [
       "       visitorId  transactionId\n",
       "1023  4256040402             11\n",
       "591   2458001652             11\n",
       "569   2378935119              9\n",
       "487   2038680547              8\n",
       "44     199603092              5"
      ]
     },
     "execution_count": 26,
     "metadata": {},
     "output_type": "execute_result"
    }
   ],
   "source": [
    "users_orders.sort_values(by = 'transactionId', ascending = False).head(5)"
   ]
  },
  {
   "cell_type": "code",
   "execution_count": 27,
   "metadata": {},
   "outputs": [
    {
     "data": {
      "image/png": "[encoded data removed]",
      "text/plain": [
       "<Figure size 432x288 with 1 Axes>"
      ]
     },
     "metadata": {
      "needs_background": "light"
     },
     "output_type": "display_data"
    }
   ],
   "source": [
    "x_values = pd.Series(range(0,len(users_orders)))\n",
    "plt.scatter(x_values,users_orders['transactionId'])\n",
    "plt.title('Tочечный график количества заказов по пользователям', fontsize =15 )\n",
    "plt.ylabel('Количество заказов')\n",
    "plt.show()"
   ]
  },
  {
   "cell_type": "markdown",
   "metadata": {},
   "source": [
    "Видим, что основное количетсво заказов это 1. Затем количество заказов равное 2. Но на сколько много заказов превышающих 4 на графике не совсем понятно."
   ]
  },
  {
   "cell_type": "markdown",
   "metadata": {},
   "source": [
    "### Посчитать 95-й и 99-й перцентили количества заказов на пользователя. Выберем границу для определения аномальных пользователей."
   ]
  },
  {
   "cell_type": "code",
   "execution_count": 28,
   "metadata": {},
   "outputs": [
    {
     "name": "stdout",
     "output_type": "stream",
     "text": [
      "[2. 4.]\n"
     ]
    }
   ],
   "source": [
    "print(np.percentile(users_orders['transactionId'], [95, 99])) "
   ]
  },
  {
   "cell_type": "markdown",
   "metadata": {},
   "source": [
    "Видим что 5% пользователей совершали более 2 и всего  1%  пользователей совершили более 4-х заказов. Разумно отобрать за нижнюю границу количество заказов равное 3м и отсеять аномальных пользователей по ней. количество потерянных данных будет менее 5%"
   ]
  },
  {
   "cell_type": "markdown",
   "metadata": {},
   "source": [
    "### Построим точечный график стоимостей заказов. Сделаем выводы и предположения."
   ]
  },
  {
   "cell_type": "code",
   "execution_count": 29,
   "metadata": {
    "scrolled": true
   },
   "outputs": [
    {
     "data": {
      "image/png": "[encoded data removed]",
      "text/plain": [
       "<Figure size 432x288 with 1 Axes>"
      ]
     },
     "metadata": {
      "needs_background": "light"
     },
     "output_type": "display_data"
    }
   ],
   "source": [
    "x_values_r = pd.Series(range(0,len(orders['revenue'])))\n",
    "plt.scatter(x_values_r, orders['revenue'])\n",
    "plt.title('Tочечный график стоимостей заказов', fontsize =15 )\n",
    "plt.ylabel('Стоимость заказов')\n",
    "plt.show()\n"
   ]
  },
  {
   "cell_type": "markdown",
   "metadata": {},
   "source": [
    "По графику видно что есть заказы со стоимостью сильно превышающие все остальные. Вероятно что самая высокая точка и является той анамалией которая сильно повлияла на предыдущие графики. Из данного графика сделать вывод о сумме которою можно считать как вброссы не возможно."
   ]
  },
  {
   "cell_type": "markdown",
   "metadata": {},
   "source": [
    "### Построим 95-й и 99-й перцентили стоимости заказов. Выберать границу для определения аномальных заказов."
   ]
  },
  {
   "cell_type": "code",
   "execution_count": 30,
   "metadata": {},
   "outputs": [
    {
     "name": "stdout",
     "output_type": "stream",
     "text": [
      "[28000.  58233.2]\n",
      "54\n"
     ]
    }
   ],
   "source": [
    "print(np.percentile(orders['revenue'],[95,99]))\n",
    "print(orders[orders['revenue']>30000]['revenue'].count())"
   ]
  },
  {
   "cell_type": "markdown",
   "metadata": {},
   "source": [
    "Количетсво заказов превышающих 28 000 не более 5% и 58233 не более 1%. Количество заказов более 30 000 54. Будем считать эти заказы аномальными."
   ]
  },
  {
   "cell_type": "markdown",
   "metadata": {},
   "source": [
    "### Посчитем статистическую значимость различий в конверсии между группами по «сырым» данным. Сделать выводы и предположения."
   ]
  },
  {
   "cell_type": "markdown",
   "metadata": {},
   "source": [
    "Перед тем как считать статистическую значимость необходимо определить метод которым будем пользоваться. Проверим данные на нормальность."
   ]
  },
  {
   "cell_type": "code",
   "execution_count": 31,
   "metadata": {
    "scrolled": false
   },
   "outputs": [
    {
     "data": {
      "image/png": "[encoded data removed]",
      "text/plain": [
       "<Figure size 432x288 with 1 Axes>"
      ]
     },
     "metadata": {
      "needs_background": "light"
     },
     "output_type": "display_data"
    }
   ],
   "source": [
    "plt.hist(orders['revenue'], bins = 100)\n",
    "plt.title('Гистрограмма среднего чека', fontsize = 16)\n",
    "plt.ylabel('Количество заказов')\n",
    "plt.xlabel('Стоимость заказов')\n",
    "plt.xlim([0, 50000])\n",
    "plt.show()"
   ]
  },
  {
   "cell_type": "code",
   "execution_count": 32,
   "metadata": {
    "scrolled": true
   },
   "outputs": [
    {
     "data": {
      "image/png": "[encoded data removed]",
      "text/plain": [
       "<Figure size 1080x360 with 2 Axes>"
      ]
     },
     "metadata": {
      "needs_background": "light"
     },
     "output_type": "display_data"
    }
   ],
   "source": [
    "\n",
    "plt.figure(figsize=(15, 5))\n",
    "ax1 = plt.subplot(1, 2, 1)\n",
    "plt.hist((mergedcumulativeData['transactionIdA'] / mergedcumulativeData['visitorsA']), bins = 14)\n",
    "plt.title('Гистрограмма конверсии группы А', fontsize = 16)\n",
    "\n",
    "\n",
    "ax1 = plt.subplot(1, 2, 2)\n",
    "plt.hist((mergedcumulativeData['transactionIdB'] / mergedcumulativeData['visitorsB']), bins = 14)\n",
    "plt.title('Гистрограмма конверсии группы B', fontsize = 16)\n",
    "\n",
    "\n",
    "plt.show()"
   ]
  },
  {
   "cell_type": "markdown",
   "metadata": {},
   "source": [
    "Проверим методом st.shapiro(x), можно ли считать эти величины  нормально распределенными. H0 - Распределение конверсии носит нормальный характер. H1 распределение конверсии не нормально"
   ]
  },
  {
   "cell_type": "code",
   "execution_count": 33,
   "metadata": {},
   "outputs": [
    {
     "name": "stdout",
     "output_type": "stream",
     "text": [
      "p-значение:  6.356380254146643e-06\n",
      "Отвергаем нулевую гипотезу: распределение не нормально\n"
     ]
    }
   ],
   "source": [
    "alpha = 0.05  # критический уровень статистической значимости\n",
    "s_conersion_rate = pd.Series(mergedcumulativeData['transactionIdA'] / mergedcumulativeData['visitorsA'])\n",
    "\n",
    "results = st.shapiro(s_conersion_rate)\n",
    "p_value = results[\n",
    "    1\n",
    "]  # второе значение в массиве результатов (с индексом 1) - p-value\n",
    "\n",
    "print('p-значение: ', p_value)\n",
    "if p_value < alpha:\n",
    "    print('Отвергаем нулевую гипотезу: распределение не нормально')\n",
    "else:\n",
    "    print('Не получилось отвергнуть нулевую гипотезу, всё нормально') "
   ]
  },
  {
   "cell_type": "markdown",
   "metadata": {},
   "source": [
    "Проверим методом st.shapiro(x), можно ли считать эти величины  нормально распределенными. H0 - Распределение выручки носит нормальный характер. H1 распределение выручки не нормально"
   ]
  },
  {
   "cell_type": "code",
   "execution_count": 34,
   "metadata": {
    "scrolled": true
   },
   "outputs": [
    {
     "name": "stdout",
     "output_type": "stream",
     "text": [
      "p-значение:  0.0\n",
      "Отвергаем нулевую гипотезу: распределение не нормально\n"
     ]
    }
   ],
   "source": [
    "alpha = 0.05  # критический уровень статистической значимости\n",
    "orders_revenue = pd.Series(orders['revenue'])\n",
    "\n",
    "results = st.shapiro(orders_revenue)\n",
    "p_value = results[\n",
    "    1\n",
    "]  # второе значение в массиве результатов (с индексом 1) - p-value\n",
    "\n",
    "print('p-значение: ', p_value)\n",
    "if p_value < alpha:\n",
    "    print('Отвергаем нулевую гипотезу: распределение не нормально')\n",
    "else:\n",
    "    print('Не получилось отвергнуть нулевую гипотезу, всё нормально') "
   ]
  },
  {
   "cell_type": "markdown",
   "metadata": {},
   "source": [
    "Можем наблюдать не нормальное распределение для выручки что характерно для таких велечин. Поэтому для анализа ститастичиской значимости конверсии и среднего чека будем использовать непараметрический тест Уилкоксона-Манна-Уитни."
   ]
  },
  {
   "cell_type": "markdown",
   "metadata": {},
   "source": [
    "Сформулируем нулевую гипотезу H0 - Статистически значимых различий в конверсии между группами А И Б нет. И альтернативную H1 - Статистически значимые различия в конверсии между групами А и В есть."
   ]
  },
  {
   "cell_type": "code",
   "execution_count": 35,
   "metadata": {},
   "outputs": [],
   "source": [
    "# Сздадим общий файл с данными - data\n",
    "\n",
    "\n",
    "visitorsADaily = visitors[visitors['group'] == 'A'][['date', 'visitors']]\n",
    "visitorsADaily.columns = ['date', 'visitorsPerDateA']\n",
    "\n",
    "visitorsACummulative = visitorsADaily.apply(\n",
    "    lambda x: visitorsADaily[visitorsADaily['date'] <= x['date']].agg(\n",
    "        {'date': 'max', 'visitorsPerDateA': 'sum'}\n",
    "    ),\n",
    "    axis=1,\n",
    ")\n",
    "visitorsACummulative.columns = ['date', 'visitorsCummulativeA']\n",
    "\n",
    "visitorsBDaily = visitors[visitors['group'] == 'B'][['date', 'visitors']]\n",
    "visitorsBDaily.columns = ['date', 'visitorsPerDateB']\n",
    "\n",
    "visitorsBCummulative = visitorsBDaily.apply(\n",
    "    lambda x: visitorsBDaily[visitorsBDaily['date'] <= x['date']].agg(\n",
    "        {'date': 'max', 'visitorsPerDateB': 'sum'}\n",
    "    ),\n",
    "    axis=1,\n",
    ")\n",
    "visitorsBCummulative.columns = ['date', 'visitorsCummulativeB']\n",
    "\n",
    "ordersADaily = (\n",
    "    orders[orders['group'] == 'A'][['date', 'transactionId', 'visitorId', 'revenue']]\n",
    "    .groupby('date', as_index=False)\n",
    "    .agg({'transactionId': pd.Series.nunique, 'revenue': 'sum'})\n",
    ")\n",
    "ordersADaily.columns = ['date', 'ordersPerDateA', 'revenuePerDateA']\n",
    "\n",
    "ordersACummulative = ordersADaily.apply(\n",
    "    lambda x: ordersADaily[ordersADaily['date'] <= x['date']].agg(\n",
    "        {'date': 'max', 'ordersPerDateA': 'sum', 'revenuePerDateA': 'sum'}\n",
    "    ),\n",
    "    axis=1,\n",
    ").sort_values(by=['date'])\n",
    "ordersACummulative.columns = [\n",
    "    'date',\n",
    "    'ordersCummulativeA',\n",
    "    'revenueCummulativeA',\n",
    "]\n",
    "\n",
    "ordersBDaily = (\n",
    "    orders[orders['group'] == 'B'][['date', 'transactionId', 'visitorId', 'revenue']]\n",
    "    .groupby('date', as_index=False)\n",
    "    .agg({'transactionId': pd.Series.nunique, 'revenue': 'sum'})\n",
    ")\n",
    "ordersBDaily.columns = ['date', 'ordersPerDateB', 'revenuePerDateB']\n",
    "\n",
    "ordersBCummulative = ordersBDaily.apply(\n",
    "    lambda x: ordersBDaily[ordersBDaily['date'] <= x['date']].agg(\n",
    "        {'date': 'max', 'ordersPerDateB': 'sum', 'revenuePerDateB': 'sum'}\n",
    "    ),\n",
    "    axis=1,\n",
    ").sort_values(by=['date'])\n",
    "ordersBCummulative.columns = [\n",
    "    'date',\n",
    "    'ordersCummulativeB',\n",
    "    'revenueCummulativeB',\n",
    "]\n",
    "\n",
    "data = (\n",
    "    ordersADaily.merge(\n",
    "        ordersBDaily, left_on='date', right_on='date', how='left'\n",
    "    )\n",
    "    .merge(ordersACummulative, left_on='date', right_on='date', how='left')\n",
    "    .merge(ordersBCummulative, left_on='date', right_on='date', how='left')\n",
    "    .merge(visitorsADaily, left_on='date', right_on='date', how='left')\n",
    "    .merge(visitorsBDaily, left_on='date', right_on='date', how='left')\n",
    "    .merge(visitorsACummulative, left_on='date', right_on='date', how='left')\n",
    "    .merge(visitorsBCummulative, left_on='date', right_on='date', how='left')\n",
    ")\n",
    "\n"
   ]
  },
  {
   "cell_type": "code",
   "execution_count": 36,
   "metadata": {
    "scrolled": true
   },
   "outputs": [
    {
     "data": {
      "text/html": [
       "<div>\n",
       "<style scoped>\n",
       "    .dataframe tbody tr th:only-of-type {\n",
       "        vertical-align: middle;\n",
       "    }\n",
       "\n",
       "    .dataframe tbody tr th {\n",
       "        vertical-align: top;\n",
       "    }\n",
       "\n",
       "    .dataframe thead th {\n",
       "        text-align: right;\n",
       "    }\n",
       "</style>\n",
       "<table border=\"1\" class=\"dataframe\">\n",
       "  <thead>\n",
       "    <tr style=\"text-align: right;\">\n",
       "      <th></th>\n",
       "      <th>date</th>\n",
       "      <th>ordersPerDateA</th>\n",
       "      <th>revenuePerDateA</th>\n",
       "      <th>ordersPerDateB</th>\n",
       "      <th>revenuePerDateB</th>\n",
       "      <th>ordersCummulativeA</th>\n",
       "      <th>revenueCummulativeA</th>\n",
       "      <th>ordersCummulativeB</th>\n",
       "      <th>revenueCummulativeB</th>\n",
       "      <th>visitorsPerDateA</th>\n",
       "      <th>visitorsPerDateB</th>\n",
       "      <th>visitorsCummulativeA</th>\n",
       "      <th>visitorsCummulativeB</th>\n",
       "    </tr>\n",
       "  </thead>\n",
       "  <tbody>\n",
       "    <tr>\n",
       "      <th>12</th>\n",
       "      <td>2019-08-13</td>\n",
       "      <td>14</td>\n",
       "      <td>263638</td>\n",
       "      <td>21</td>\n",
       "      <td>119671</td>\n",
       "      <td>244</td>\n",
       "      <td>1826511</td>\n",
       "      <td>285</td>\n",
       "      <td>1853738</td>\n",
       "      <td>748</td>\n",
       "      <td>769</td>\n",
       "      <td>8323</td>\n",
       "      <td>8310</td>\n",
       "    </tr>\n",
       "    <tr>\n",
       "      <th>2</th>\n",
       "      <td>2019-08-03</td>\n",
       "      <td>24</td>\n",
       "      <td>112473</td>\n",
       "      <td>16</td>\n",
       "      <td>114248</td>\n",
       "      <td>68</td>\n",
       "      <td>354874</td>\n",
       "      <td>61</td>\n",
       "      <td>380996</td>\n",
       "      <td>507</td>\n",
       "      <td>509</td>\n",
       "      <td>1845</td>\n",
       "      <td>1803</td>\n",
       "    </tr>\n",
       "    <tr>\n",
       "      <th>21</th>\n",
       "      <td>2019-08-22</td>\n",
       "      <td>16</td>\n",
       "      <td>112741</td>\n",
       "      <td>25</td>\n",
       "      <td>162355</td>\n",
       "      <td>401</td>\n",
       "      <td>2756579</td>\n",
       "      <td>462</td>\n",
       "      <td>4589247</td>\n",
       "      <td>609</td>\n",
       "      <td>650</td>\n",
       "      <td>13459</td>\n",
       "      <td>13524</td>\n",
       "    </tr>\n",
       "    <tr>\n",
       "      <th>29</th>\n",
       "      <td>2019-08-30</td>\n",
       "      <td>11</td>\n",
       "      <td>86460</td>\n",
       "      <td>24</td>\n",
       "      <td>215233</td>\n",
       "      <td>545</td>\n",
       "      <td>4022970</td>\n",
       "      <td>620</td>\n",
       "      <td>5774631</td>\n",
       "      <td>490</td>\n",
       "      <td>490</td>\n",
       "      <td>18037</td>\n",
       "      <td>18198</td>\n",
       "    </tr>\n",
       "    <tr>\n",
       "      <th>30</th>\n",
       "      <td>2019-08-31</td>\n",
       "      <td>12</td>\n",
       "      <td>61833</td>\n",
       "      <td>20</td>\n",
       "      <td>133129</td>\n",
       "      <td>557</td>\n",
       "      <td>4084803</td>\n",
       "      <td>640</td>\n",
       "      <td>5907760</td>\n",
       "      <td>699</td>\n",
       "      <td>718</td>\n",
       "      <td>18736</td>\n",
       "      <td>18916</td>\n",
       "    </tr>\n",
       "  </tbody>\n",
       "</table>\n",
       "</div>"
      ],
      "text/plain": [
       "         date  ordersPerDateA  revenuePerDateA  ordersPerDateB  \\\n",
       "12 2019-08-13              14           263638              21   \n",
       "2  2019-08-03              24           112473              16   \n",
       "21 2019-08-22              16           112741              25   \n",
       "29 2019-08-30              11            86460              24   \n",
       "30 2019-08-31              12            61833              20   \n",
       "\n",
       "    revenuePerDateB  ordersCummulativeA  revenueCummulativeA  \\\n",
       "12           119671                 244              1826511   \n",
       "2            114248                  68               354874   \n",
       "21           162355                 401              2756579   \n",
       "29           215233                 545              4022970   \n",
       "30           133129                 557              4084803   \n",
       "\n",
       "    ordersCummulativeB  revenueCummulativeB  visitorsPerDateA  \\\n",
       "12                 285              1853738               748   \n",
       "2                   61               380996               507   \n",
       "21                 462              4589247               609   \n",
       "29                 620              5774631               490   \n",
       "30                 640              5907760               699   \n",
       "\n",
       "    visitorsPerDateB  visitorsCummulativeA  visitorsCummulativeB  \n",
       "12               769                  8323                  8310  \n",
       "2                509                  1845                  1803  \n",
       "21               650                 13459                 13524  \n",
       "29               490                 18037                 18198  \n",
       "30               718                 18736                 18916  "
      ]
     },
     "execution_count": 36,
     "metadata": {},
     "output_type": "execute_result"
    }
   ],
   "source": [
    "data.sample(5)"
   ]
  },
  {
   "cell_type": "markdown",
   "metadata": {},
   "source": [
    "Создадим переменные ordersByUsersA и ordersByUsersB со столбцами ['userId', 'orders']. В них для пользователей, которые заказывали хотя бы 1 раз, укажем число совершённых заказов."
   ]
  },
  {
   "cell_type": "code",
   "execution_count": 37,
   "metadata": {},
   "outputs": [],
   "source": [
    "ordersByUsersA = (\n",
    "    orders[orders['group'] == 'A']\n",
    "    .groupby('visitorId', as_index=False)\n",
    "    .agg({'transactionId': pd.Series.nunique})\n",
    ")\n",
    "ordersByUsersA.columns = ['userId', 'orders']\n",
    "\n",
    "ordersByUsersB = (\n",
    "    orders[orders['group'] == 'B']\n",
    "    .groupby('visitorId', as_index=False)\n",
    "    .agg({'transactionId': pd.Series.nunique})\n",
    ")\n",
    "ordersByUsersB.columns = ['userId', 'orders'] "
   ]
  },
  {
   "cell_type": "markdown",
   "metadata": {},
   "source": [
    "Объявим переменные sampleA и sampleB, в которых пользователям из разных групп будет соответствовать количество заказов. Тем, кто ничего не заказал, будут соответствовать нули. Это нужно, чтобы подготовить выборки к проверке критерием Манна-Уитни."
   ]
  },
  {
   "cell_type": "code",
   "execution_count": 38,
   "metadata": {},
   "outputs": [],
   "source": [
    "sampleA = (pd.concat([ordersByUsersA['orders'],pd.Series(0, index=np.arange(data['visitorsPerDateA'].sum() - \n",
    "            len(ordersByUsersA['orders'])), name='orders')],axis=0))\n",
    "\n",
    "sampleB = (pd.concat([ordersByUsersB['orders'],pd.Series(0, index=np.arange(data['visitorsPerDateB'].sum() - \n",
    "        len(ordersByUsersB['orders'])), name='orders')],axis=0))"
   ]
  },
  {
   "cell_type": "code",
   "execution_count": 39,
   "metadata": {
    "scrolled": true
   },
   "outputs": [
    {
     "name": "stdout",
     "output_type": "stream",
     "text": [
      "Значение p_value 0.017\n"
     ]
    }
   ],
   "source": [
    "print('Значение p_value',\"{0:.3f}\".format(stats.mannwhitneyu(sampleA, sampleB)[1],alternative=\"two-sided\"))\n",
    "\n"
   ]
  },
  {
   "cell_type": "code",
   "execution_count": 40,
   "metadata": {},
   "outputs": [
    {
     "name": "stdout",
     "output_type": "stream",
     "text": [
      "Значение p_value 0.017\n"
     ]
    }
   ],
   "source": [
    "print('Значение p_value',\"{0:.3f}\".format(stats.mannwhitneyu(sampleA, sampleB)[1]))"
   ]
  },
  {
   "cell_type": "markdown",
   "metadata": {},
   "source": [
    "Вывод: Статистическое различие мужду группами А и В есть. p_value = 0.008 меньше 0.05 Значит гипотезу о том, что статистически значимых различий между групами нет, отвергаем."
   ]
  },
  {
   "cell_type": "code",
   "execution_count": 41,
   "metadata": {},
   "outputs": [
    {
     "name": "stdout",
     "output_type": "stream",
     "text": [
      "Относительное изменение конверсии группы B к группе А: 0.138\n"
     ]
    }
   ],
   "source": [
    "# Расчитаем разницу между конверсий груп А и В\n",
    "print('Относительное изменение конверсии группы B к группе А:',\"{0:.3f}\".format(sampleB.mean() / sampleA.mean() - 1))"
   ]
  },
  {
   "cell_type": "markdown",
   "metadata": {},
   "source": [
    "Видим что коневерсия группы В на 13.8% выше и она является статистически значимой."
   ]
  },
  {
   "cell_type": "markdown",
   "metadata": {},
   "source": [
    "###  Посчитаем статистическую значимость различий в среднем чеке заказа между группами по «сырым» данным. Сделать выводы и предположения."
   ]
  },
  {
   "cell_type": "markdown",
   "metadata": {},
   "source": [
    "Сформулируем нулевую гипотезу H0 - В среднем чеке различий для груп А и В нет. И альтернативную H1 -  Средний чек для груп А и В не равен."
   ]
  },
  {
   "cell_type": "markdown",
   "metadata": {},
   "source": [
    "Передадим критерию mannwhitneyu() данные о  выручке с заказов "
   ]
  },
  {
   "cell_type": "code",
   "execution_count": 42,
   "metadata": {},
   "outputs": [
    {
     "name": "stdout",
     "output_type": "stream",
     "text": [
      "Значение p_value: 0.729\n"
     ]
    }
   ],
   "source": [
    "print('Значение p_value:','{0:.3f}'.format(stats.mannwhitneyu(orders[orders['group']=='A']['revenue'], orders[orders['group']=='B']['revenue'])[1]))"
   ]
  },
  {
   "cell_type": "markdown",
   "metadata": {},
   "source": [
    "Вывод: P-value  больше 0.05. Значит, отвергать нулевую гипотезу - В среднем чеке различий для груп А и В нет, нет достаточных оснований."
   ]
  },
  {
   "cell_type": "markdown",
   "metadata": {},
   "source": [
    "### Посчитаем статистическую значимость различий в конверсии между группами по «очищенным» данным. Сделать выводы и предположения."
   ]
  },
  {
   "cell_type": "markdown",
   "metadata": {},
   "source": [
    "Очистим данные от данных которые отценили как выбросы. Количество заказов равное 3 и сумма заказов более 35 000. Создадим список - abnormalUsers из данных пользователей,  а затем исключи их общего списка."
   ]
  },
  {
   "cell_type": "code",
   "execution_count": 43,
   "metadata": {},
   "outputs": [
    {
     "name": "stdout",
     "output_type": "stream",
     "text": [
      "1099    148427295\n",
      "18      199603092\n",
      "23      237748145\n",
      "684     358944393\n",
      "648     382846391\n",
      "dtype: int64\n",
      "(42,)\n"
     ]
    }
   ],
   "source": [
    "# Список пользователей из обоих груп имеющих более 3 заказов\n",
    "usersWithManyOrders = pd.concat(\n",
    "    [\n",
    "        ordersByUsersA[ordersByUsersA['orders'] > 3]['userId'],\n",
    "        ordersByUsersB[ordersByUsersB['orders'] > 3]['userId'],\n",
    "    ],\n",
    "    axis=0,\n",
    ")\n",
    "\n",
    "#Список пользователей из обоих груп имеющих заказы на сумму более 30 000\n",
    "usersWithExpensiveOrders = orders[orders['revenue'] > 35000]['visitorId']\n",
    "\n",
    "#объеденим списки\n",
    "\n",
    "abnormalUsers = (\n",
    "    pd.concat([usersWithManyOrders, usersWithExpensiveOrders], axis=0)\n",
    "    .drop_duplicates()\n",
    "    .sort_values()\n",
    ")    \n",
    "\n",
    "print(abnormalUsers.head(5))\n",
    "print(abnormalUsers.shape) "
   ]
  },
  {
   "cell_type": "markdown",
   "metadata": {},
   "source": [
    "Всего 57 пользователей, 4% от общего количества. Удалим их из выборки всех пользователей"
   ]
  },
  {
   "cell_type": "code",
   "execution_count": 44,
   "metadata": {},
   "outputs": [],
   "source": [
    "sampleAFiltered = pd.concat(\n",
    "    [\n",
    "        ordersByUsersA[\n",
    "            np.logical_not(ordersByUsersA['userId'].isin(abnormalUsers))\n",
    "        ]['orders'],\n",
    "        pd.Series(\n",
    "            0,\n",
    "            index=np.arange(\n",
    "                data['visitorsPerDateA'].sum() - len(ordersByUsersA['orders'])\n",
    "            ),\n",
    "            name='orders',\n",
    "        ),\n",
    "    ],\n",
    "    axis=0,\n",
    ")\n",
    "\n",
    "sampleBFiltered = pd.concat(\n",
    "    [\n",
    "        ordersByUsersB[\n",
    "            np.logical_not(ordersByUsersB['userId'].isin(abnormalUsers))\n",
    "        ]['orders'],\n",
    "        pd.Series(\n",
    "            0,\n",
    "            index=np.arange(\n",
    "                data['visitorsPerDateB'].sum() - len(ordersByUsersB['orders'])\n",
    "            ),\n",
    "            name='orders',\n",
    "        ),\n",
    "    ],\n",
    "    axis=0,\n",
    ") "
   ]
  },
  {
   "cell_type": "code",
   "execution_count": 45,
   "metadata": {},
   "outputs": [
    {
     "name": "stdout",
     "output_type": "stream",
     "text": [
      "Значение p-value: 0.014\n"
     ]
    }
   ],
   "source": [
    "#Вычислим p_value для отфильтрованных данных\n",
    "\n",
    "print('Значение p-value:','{0:.3f}'.format(stats.mannwhitneyu(sampleAFiltered, sampleBFiltered)[1]))"
   ]
  },
  {
   "cell_type": "markdown",
   "metadata": {},
   "source": [
    "p_value изменился на 0.001 что не меняет нашего решения относительно нулевой гепотезы. Статистическое различие мужду группами А и В есть. p_value = 0.007 меньше 0.05 Значит гипотезу о том, что статистически значимых различий между групами нет, отвергаем и пппринимаем альтернативную гипотезу - Значимость конверсии в группах А и В статистически значима."
   ]
  },
  {
   "cell_type": "code",
   "execution_count": 46,
   "metadata": {},
   "outputs": [
    {
     "name": "stdout",
     "output_type": "stream",
     "text": [
      "Относительное изменение конверсии группы B к группе А: 0.155\n"
     ]
    }
   ],
   "source": [
    "print('Относительное изменение конверсии группы B к группе А:','{0:.3f}'.format(sampleBFiltered.mean()/sampleAFiltered.mean()-1)) "
   ]
  },
  {
   "cell_type": "markdown",
   "metadata": {},
   "source": [
    "Средняя коневерсия между группами так же увеличислась после удаления выбросов."
   ]
  },
  {
   "cell_type": "markdown",
   "metadata": {},
   "source": [
    "### Посчитать статистическую значимость различий в среднем чеке заказа между группами по «очищенным» данным. Сделать выводы и предположения."
   ]
  },
  {
   "cell_type": "code",
   "execution_count": 47,
   "metadata": {},
   "outputs": [
    {
     "name": "stdout",
     "output_type": "stream",
     "text": [
      "Значение p-value:0.874\n"
     ]
    }
   ],
   "source": [
    "print(\"Значение p-value:\"\n",
    "    '{0:.3f}'.format(\n",
    "        stats.mannwhitneyu(\n",
    "            orders[\n",
    "                np.logical_and(\n",
    "                    orders['group'] == 'A',\n",
    "                    np.logical_not(orders['visitorId'].isin(abnormalUsers)),\n",
    "                )\n",
    "            ]['revenue'],\n",
    "            orders[\n",
    "                np.logical_and(\n",
    "                    orders['group'] == 'B',\n",
    "                    np.logical_not(orders['visitorId'].isin(abnormalUsers)),\n",
    "                )\n",
    "            ]['revenue'],\n",
    "        )[1]\n",
    "    )\n",
    ")\n"
   ]
  },
  {
   "cell_type": "markdown",
   "metadata": {},
   "source": [
    "P_value так же изменился но на наше рещение относительно нулевой гепотезы не изменил.  P-value больше 0.05. Значит, отвергать нулевую гипотезу - В среднем чеке различий для груп А и В нет, нет достаточных оснований."
   ]
  },
  {
   "cell_type": "code",
   "execution_count": 48,
   "metadata": {},
   "outputs": [
    {
     "name": "stdout",
     "output_type": "stream",
     "text": [
      "Значение p_value: 0.729\n",
      "Значение p_value: 0.729\n",
      "Значение p-value: 0.014\n",
      "Значение p-value: 0.014\n",
      "Значение p-value:0.874\n",
      "Значение p-value:0.874\n"
     ]
    }
   ],
   "source": [
    "print('Значение p_value:','{0:.3f}'.format(stats.mannwhitneyu(orders[orders['group']=='A']['revenue'], orders[orders['group']=='B']['revenue'])[1]))\n",
    "print('Значение p_value:','{0:.3f}'.format(stats.mannwhitneyu(orders[orders['group']=='A']['revenue'], orders[orders['group']=='B']['revenue'])[1],alternative=\"two-sided\"))\n",
    "print('Значение p-value:','{0:.3f}'.format(stats.mannwhitneyu(sampleAFiltered, sampleBFiltered)[1]))\n",
    "print('Значение p-value:','{0:.3f}'.format(stats.mannwhitneyu(sampleAFiltered, sampleBFiltered)[1],alternative=\"two-sided\"))\n",
    "print(\"Значение p-value:\"\n",
    "    '{0:.3f}'.format(\n",
    "        stats.mannwhitneyu(\n",
    "            orders[\n",
    "                np.logical_and(\n",
    "                    orders['group'] == 'A',\n",
    "                    np.logical_not(orders['visitorId'].isin(abnormalUsers)),\n",
    "                )\n",
    "            ]['revenue'],\n",
    "            orders[\n",
    "                np.logical_and(\n",
    "                    orders['group'] == 'B',\n",
    "                    np.logical_not(orders['visitorId'].isin(abnormalUsers)),\n",
    "                )\n",
    "            ]['revenue'],\n",
    "        )[1]\n",
    "    )\n",
    ")\n",
    "print(\"Значение p-value:\"\n",
    "    '{0:.3f}'.format(\n",
    "        stats.mannwhitneyu(\n",
    "            orders[\n",
    "                np.logical_and(\n",
    "                    orders['group'] == 'A',\n",
    "                    np.logical_not(orders['visitorId'].isin(abnormalUsers)),\n",
    "                )\n",
    "            ]['revenue'],\n",
    "            orders[\n",
    "                np.logical_and(\n",
    "                    orders['group'] == 'B',\n",
    "                    np.logical_not(orders['visitorId'].isin(abnormalUsers)),\n",
    "                )\n",
    "            ]['revenue'],\n",
    "        )[1],alternative=\"two-sided\"\n",
    "    )\n",
    ")\n"
   ]
  },
  {
   "cell_type": "markdown",
   "metadata": {},
   "source": [
    "### Принять решение по результатам теста и объяснить его. Варианты решений: 1. Остановить тест, зафиксировать победу одной из групп. 2. Остановить тест, зафиксировать отсутствие различий между группами. 3. Продолжить тест."
   ]
  },
  {
   "cell_type": "markdown",
   "metadata": {},
   "source": [
    "1. Есть статистически значимое различие по конверсии между группами как по сырым данным, так и после фильтрации аномалий.\n",
    "2. По сырым данным нет статистически значимого различия по среднему чеку. Их не обнаружено и после фильтрации аномалий.\n",
    "3. По графикам мы видим что колебания прекратились тест можно считать оконченым.\n",
    "Если основная цель испытания была увелечение коневерсии то она досстигрута и тест можно считать успешным. Если основная цель увеличение среднего чека то статистически знаимого результата мужду группами получить не удалось. "
   ]
  },
  {
   "cell_type": "code",
   "execution_count": null,
   "metadata": {},
   "outputs": [],
   "source": []
  }
 ],
 "metadata": {
  "ExecuteTimeLog": [
   {
    "duration": 706,
    "start_time": "2022-03-02T13:42:00.260Z"
   },
   {
    "duration": 16,
    "start_time": "2022-03-02T13:42:24.115Z"
   },
   {
    "duration": 20,
    "start_time": "2022-03-02T13:42:31.866Z"
   },
   {
    "duration": 297,
    "start_time": "2022-03-02T13:42:45.315Z"
   },
   {
    "duration": 14,
    "start_time": "2022-03-02T13:42:46.974Z"
   },
   {
    "duration": 12,
    "start_time": "2022-03-02T13:42:47.835Z"
   },
   {
    "duration": 45,
    "start_time": "2022-03-02T13:43:47.725Z"
   },
   {
    "duration": 256,
    "start_time": "2022-03-02T13:44:07.285Z"
   },
   {
    "duration": 244,
    "start_time": "2022-03-02T13:44:10.496Z"
   },
   {
    "duration": 18,
    "start_time": "2022-03-02T13:44:16.135Z"
   },
   {
    "duration": 12,
    "start_time": "2022-03-02T13:44:29.474Z"
   },
   {
    "duration": 241,
    "start_time": "2022-03-02T13:44:51.714Z"
   },
   {
    "duration": 228,
    "start_time": "2022-03-02T13:45:09.135Z"
   },
   {
    "duration": 11,
    "start_time": "2022-03-02T13:45:17.284Z"
   },
   {
    "duration": 10,
    "start_time": "2022-03-02T13:45:30.973Z"
   },
   {
    "duration": 9,
    "start_time": "2022-03-02T13:45:50.645Z"
   },
   {
    "duration": 15,
    "start_time": "2022-03-02T13:46:08.783Z"
   },
   {
    "duration": 24,
    "start_time": "2022-03-02T13:46:32.943Z"
   },
   {
    "duration": 227,
    "start_time": "2022-03-02T13:47:25.913Z"
   },
   {
    "duration": 223,
    "start_time": "2022-03-02T13:47:37.282Z"
   },
   {
    "duration": 7,
    "start_time": "2022-03-02T13:47:57.302Z"
   },
   {
    "duration": 8,
    "start_time": "2022-03-02T13:48:18.452Z"
   },
   {
    "duration": 13,
    "start_time": "2022-03-02T13:48:32.221Z"
   },
   {
    "duration": 14,
    "start_time": "2022-03-02T13:48:33.501Z"
   },
   {
    "duration": 11,
    "start_time": "2022-03-02T13:56:28.476Z"
   },
   {
    "duration": 5818,
    "start_time": "2022-03-02T14:00:27.453Z"
   },
   {
    "duration": 5871,
    "start_time": "2022-03-02T14:01:03.863Z"
   },
   {
    "duration": 5426,
    "start_time": "2022-03-02T14:01:17.502Z"
   },
   {
    "duration": 9,
    "start_time": "2022-03-02T14:01:32.062Z"
   },
   {
    "duration": 250,
    "start_time": "2022-03-02T14:01:51.662Z"
   },
   {
    "duration": 14,
    "start_time": "2022-03-02T14:02:05.012Z"
   },
   {
    "duration": 13,
    "start_time": "2022-03-02T14:02:19.636Z"
   },
   {
    "duration": 6,
    "start_time": "2022-03-02T14:07:27.958Z"
   },
   {
    "duration": 15,
    "start_time": "2022-03-02T14:07:56.858Z"
   },
   {
    "duration": 572,
    "start_time": "2022-03-03T10:03:30.196Z"
   },
   {
    "duration": 45,
    "start_time": "2022-03-03T10:03:30.770Z"
   },
   {
    "duration": 14,
    "start_time": "2022-03-03T10:03:30.817Z"
   },
   {
    "duration": 11,
    "start_time": "2022-03-03T10:03:30.833Z"
   },
   {
    "duration": 17,
    "start_time": "2022-03-03T10:03:30.846Z"
   },
   {
    "duration": 22,
    "start_time": "2022-03-03T10:03:30.865Z"
   },
   {
    "duration": 6,
    "start_time": "2022-03-03T10:03:30.889Z"
   },
   {
    "duration": 11,
    "start_time": "2022-03-03T10:03:30.897Z"
   },
   {
    "duration": 9,
    "start_time": "2022-03-03T10:03:30.909Z"
   },
   {
    "duration": 13,
    "start_time": "2022-03-03T10:03:30.919Z"
   },
   {
    "duration": 8,
    "start_time": "2022-03-03T10:03:30.960Z"
   },
   {
    "duration": 29,
    "start_time": "2022-03-03T10:03:30.970Z"
   },
   {
    "duration": 12,
    "start_time": "2022-03-03T10:09:56.015Z"
   },
   {
    "duration": 6,
    "start_time": "2022-03-03T10:12:25.883Z"
   },
   {
    "duration": 12,
    "start_time": "2022-03-03T10:12:35.843Z"
   },
   {
    "duration": 254,
    "start_time": "2022-03-03T10:19:48.332Z"
   },
   {
    "duration": 327,
    "start_time": "2022-03-03T10:20:07.298Z"
   },
   {
    "duration": 175,
    "start_time": "2022-03-03T10:20:25.928Z"
   },
   {
    "duration": 202,
    "start_time": "2022-03-03T10:20:31.618Z"
   },
   {
    "duration": 193,
    "start_time": "2022-03-03T10:20:45.647Z"
   },
   {
    "duration": 185,
    "start_time": "2022-03-03T10:21:09.709Z"
   },
   {
    "duration": 3,
    "start_time": "2022-03-03T10:21:48.837Z"
   },
   {
    "duration": 530,
    "start_time": "2022-03-03T10:21:58.021Z"
   },
   {
    "duration": 40,
    "start_time": "2022-03-03T10:21:58.552Z"
   },
   {
    "duration": 14,
    "start_time": "2022-03-03T10:21:58.597Z"
   },
   {
    "duration": 24,
    "start_time": "2022-03-03T10:21:58.613Z"
   },
   {
    "duration": 15,
    "start_time": "2022-03-03T10:21:58.639Z"
   },
   {
    "duration": 34,
    "start_time": "2022-03-03T10:21:58.656Z"
   },
   {
    "duration": 9,
    "start_time": "2022-03-03T10:21:58.692Z"
   },
   {
    "duration": 31,
    "start_time": "2022-03-03T10:21:58.704Z"
   },
   {
    "duration": 20,
    "start_time": "2022-03-03T10:21:58.737Z"
   },
   {
    "duration": 27,
    "start_time": "2022-03-03T10:21:58.759Z"
   },
   {
    "duration": 20,
    "start_time": "2022-03-03T10:21:58.788Z"
   },
   {
    "duration": 29,
    "start_time": "2022-03-03T10:21:58.810Z"
   },
   {
    "duration": 5257,
    "start_time": "2022-03-03T10:21:58.841Z"
   },
   {
    "duration": -327,
    "start_time": "2022-03-03T10:22:04.427Z"
   },
   {
    "duration": -326,
    "start_time": "2022-03-03T10:22:04.427Z"
   },
   {
    "duration": 194,
    "start_time": "2022-03-03T10:22:33.073Z"
   },
   {
    "duration": 13,
    "start_time": "2022-03-03T10:22:43.404Z"
   },
   {
    "duration": 74,
    "start_time": "2022-03-03T10:27:38.620Z"
   },
   {
    "duration": 6436,
    "start_time": "2022-03-03T10:28:14.271Z"
   },
   {
    "duration": 190,
    "start_time": "2022-03-03T10:32:03.571Z"
   },
   {
    "duration": 11,
    "start_time": "2022-03-03T10:32:21.928Z"
   },
   {
    "duration": 73,
    "start_time": "2022-03-03T10:35:46.345Z"
   },
   {
    "duration": 383,
    "start_time": "2022-03-03T10:35:56.505Z"
   },
   {
    "duration": 10,
    "start_time": "2022-03-03T10:36:22.985Z"
   },
   {
    "duration": 379,
    "start_time": "2022-03-03T10:36:44.194Z"
   },
   {
    "duration": 10,
    "start_time": "2022-03-03T10:36:46.239Z"
   },
   {
    "duration": 10,
    "start_time": "2022-03-03T10:36:47.164Z"
   },
   {
    "duration": 389,
    "start_time": "2022-03-03T10:37:46.394Z"
   },
   {
    "duration": 11,
    "start_time": "2022-03-03T10:37:49.473Z"
   },
   {
    "duration": 15,
    "start_time": "2022-03-03T10:37:50.403Z"
   },
   {
    "duration": 346,
    "start_time": "2022-03-03T10:38:36.062Z"
   },
   {
    "duration": 10,
    "start_time": "2022-03-03T10:38:38.252Z"
   },
   {
    "duration": 14,
    "start_time": "2022-03-03T10:38:39.112Z"
   },
   {
    "duration": 535,
    "start_time": "2022-03-03T10:39:52.983Z"
   },
   {
    "duration": 601,
    "start_time": "2022-03-03T10:40:01.993Z"
   },
   {
    "duration": 340,
    "start_time": "2022-03-03T10:40:10.544Z"
   },
   {
    "duration": 13,
    "start_time": "2022-03-03T10:40:17.542Z"
   },
   {
    "duration": 10,
    "start_time": "2022-03-03T10:40:51.632Z"
   },
   {
    "duration": 360,
    "start_time": "2022-03-03T10:43:27.380Z"
   },
   {
    "duration": 389,
    "start_time": "2022-03-03T10:43:52.690Z"
   },
   {
    "duration": 448,
    "start_time": "2022-03-03T10:47:34.457Z"
   },
   {
    "duration": 417,
    "start_time": "2022-03-03T10:48:20.587Z"
   },
   {
    "duration": 217,
    "start_time": "2022-03-03T10:49:12.186Z"
   },
   {
    "duration": 227,
    "start_time": "2022-03-03T10:50:11.526Z"
   },
   {
    "duration": 243,
    "start_time": "2022-03-03T10:50:32.974Z"
   },
   {
    "duration": 212,
    "start_time": "2022-03-03T10:50:48.084Z"
   },
   {
    "duration": 395,
    "start_time": "2022-03-03T10:53:15.373Z"
   },
   {
    "duration": 247,
    "start_time": "2022-03-03T10:53:39.924Z"
   },
   {
    "duration": 290,
    "start_time": "2022-03-03T10:54:39.583Z"
   },
   {
    "duration": 261,
    "start_time": "2022-03-03T10:54:52.571Z"
   },
   {
    "duration": 351,
    "start_time": "2022-03-03T10:55:16.652Z"
   },
   {
    "duration": 12,
    "start_time": "2022-03-03T11:12:35.668Z"
   },
   {
    "duration": 273,
    "start_time": "2022-03-03T11:14:15.179Z"
   },
   {
    "duration": 219,
    "start_time": "2022-03-03T11:20:11.783Z"
   },
   {
    "duration": 210,
    "start_time": "2022-03-03T11:20:33.443Z"
   },
   {
    "duration": 420,
    "start_time": "2022-03-03T11:20:48.693Z"
   },
   {
    "duration": 405,
    "start_time": "2022-03-03T11:21:23.873Z"
   },
   {
    "duration": 419,
    "start_time": "2022-03-03T11:21:51.441Z"
   },
   {
    "duration": 424,
    "start_time": "2022-03-03T11:24:09.371Z"
   },
   {
    "duration": 9,
    "start_time": "2022-03-03T11:24:34.280Z"
   },
   {
    "duration": 215,
    "start_time": "2022-03-03T11:24:50.929Z"
   },
   {
    "duration": 12,
    "start_time": "2022-03-03T11:24:58.389Z"
   },
   {
    "duration": 14,
    "start_time": "2022-03-03T11:25:03.519Z"
   },
   {
    "duration": 247,
    "start_time": "2022-03-03T11:25:43.450Z"
   },
   {
    "duration": 479,
    "start_time": "2022-03-03T11:26:00.069Z"
   },
   {
    "duration": 496,
    "start_time": "2022-03-03T11:26:15.199Z"
   },
   {
    "duration": 441,
    "start_time": "2022-03-03T11:26:25.289Z"
   },
   {
    "duration": 372,
    "start_time": "2022-03-03T11:26:30.148Z"
   },
   {
    "duration": 343,
    "start_time": "2022-03-03T11:26:47.278Z"
   },
   {
    "duration": 257,
    "start_time": "2022-03-03T11:28:17.947Z"
   },
   {
    "duration": 241,
    "start_time": "2022-03-03T11:28:36.697Z"
   },
   {
    "duration": 246,
    "start_time": "2022-03-03T11:28:47.949Z"
   },
   {
    "duration": 243,
    "start_time": "2022-03-03T11:29:00.277Z"
   },
   {
    "duration": 441,
    "start_time": "2022-03-03T11:29:18.363Z"
   },
   {
    "duration": 226,
    "start_time": "2022-03-03T11:30:41.565Z"
   },
   {
    "duration": 490,
    "start_time": "2022-03-03T11:31:08.210Z"
   },
   {
    "duration": 494,
    "start_time": "2022-03-03T11:32:49.683Z"
   },
   {
    "duration": 259,
    "start_time": "2022-03-03T11:33:01.164Z"
   },
   {
    "duration": 453,
    "start_time": "2022-03-03T11:33:37.424Z"
   },
   {
    "duration": 455,
    "start_time": "2022-03-03T11:34:28.921Z"
   },
   {
    "duration": 252,
    "start_time": "2022-03-03T11:34:36.713Z"
   },
   {
    "duration": 259,
    "start_time": "2022-03-03T11:35:39.112Z"
   },
   {
    "duration": 452,
    "start_time": "2022-03-03T11:35:46.021Z"
   },
   {
    "duration": 425,
    "start_time": "2022-03-03T11:35:54.382Z"
   },
   {
    "duration": 420,
    "start_time": "2022-03-03T11:36:32.140Z"
   },
   {
    "duration": 5888,
    "start_time": "2022-03-03T11:45:14.344Z"
   },
   {
    "duration": 228,
    "start_time": "2022-03-03T11:46:00.915Z"
   },
   {
    "duration": 309,
    "start_time": "2022-03-03T11:46:34.965Z"
   },
   {
    "duration": 276,
    "start_time": "2022-03-03T11:47:42.133Z"
   },
   {
    "duration": 441,
    "start_time": "2022-03-03T11:47:59.542Z"
   },
   {
    "duration": 439,
    "start_time": "2022-03-03T11:48:55.132Z"
   },
   {
    "duration": 289,
    "start_time": "2022-03-03T11:49:13.582Z"
   },
   {
    "duration": 447,
    "start_time": "2022-03-03T11:49:56.282Z"
   },
   {
    "duration": 294,
    "start_time": "2022-03-03T11:54:22.348Z"
   },
   {
    "duration": 63,
    "start_time": "2022-03-03T11:55:52.606Z"
   },
   {
    "duration": 250,
    "start_time": "2022-03-03T11:56:02.316Z"
   },
   {
    "duration": 253,
    "start_time": "2022-03-03T11:56:24.576Z"
   },
   {
    "duration": 248,
    "start_time": "2022-03-03T11:56:35.247Z"
   },
   {
    "duration": 256,
    "start_time": "2022-03-03T12:00:07.944Z"
   },
   {
    "duration": 312,
    "start_time": "2022-03-03T12:00:18.694Z"
   },
   {
    "duration": 13,
    "start_time": "2022-03-03T12:09:17.236Z"
   },
   {
    "duration": 7,
    "start_time": "2022-03-03T12:11:54.335Z"
   },
   {
    "duration": 9,
    "start_time": "2022-03-03T12:11:57.184Z"
   },
   {
    "duration": 205,
    "start_time": "2022-03-03T12:12:14.185Z"
   },
   {
    "duration": 7,
    "start_time": "2022-03-03T12:12:20.413Z"
   },
   {
    "duration": 9,
    "start_time": "2022-03-03T12:12:22.908Z"
   },
   {
    "duration": 6,
    "start_time": "2022-03-03T12:13:13.195Z"
   },
   {
    "duration": 17,
    "start_time": "2022-03-03T12:13:15.084Z"
   },
   {
    "duration": 9,
    "start_time": "2022-03-03T12:13:15.684Z"
   },
   {
    "duration": 7,
    "start_time": "2022-03-03T12:13:36.194Z"
   },
   {
    "duration": 9,
    "start_time": "2022-03-03T12:13:38.674Z"
   },
   {
    "duration": 7,
    "start_time": "2022-03-03T12:13:49.534Z"
   },
   {
    "duration": 288,
    "start_time": "2022-03-03T12:15:45.132Z"
   },
   {
    "duration": 7,
    "start_time": "2022-03-03T12:16:11.101Z"
   },
   {
    "duration": 10,
    "start_time": "2022-03-03T12:16:12.151Z"
   },
   {
    "duration": 259,
    "start_time": "2022-03-03T12:16:13.301Z"
   },
   {
    "duration": 256,
    "start_time": "2022-03-03T12:18:59.420Z"
   },
   {
    "duration": 62,
    "start_time": "2022-03-03T12:19:40.109Z"
   },
   {
    "duration": 321,
    "start_time": "2022-03-03T12:19:44.849Z"
   },
   {
    "duration": 383,
    "start_time": "2022-03-03T12:20:20.649Z"
   },
   {
    "duration": 271,
    "start_time": "2022-03-03T12:20:36.898Z"
   },
   {
    "duration": 4,
    "start_time": "2022-03-03T12:25:24.961Z"
   },
   {
    "duration": 5,
    "start_time": "2022-03-03T12:25:48.505Z"
   },
   {
    "duration": 6,
    "start_time": "2022-03-03T12:25:52.814Z"
   },
   {
    "duration": 13,
    "start_time": "2022-03-03T12:31:04.060Z"
   },
   {
    "duration": 197,
    "start_time": "2022-03-03T12:33:29.199Z"
   },
   {
    "duration": 188,
    "start_time": "2022-03-03T12:33:53.159Z"
   },
   {
    "duration": 189,
    "start_time": "2022-03-03T12:34:38.538Z"
   },
   {
    "duration": 280,
    "start_time": "2022-03-03T12:34:53.718Z"
   },
   {
    "duration": 296,
    "start_time": "2022-03-03T12:37:04.227Z"
   },
   {
    "duration": 5,
    "start_time": "2022-03-03T12:38:19.025Z"
   },
   {
    "duration": 189,
    "start_time": "2022-03-03T12:39:24.420Z"
   },
   {
    "duration": 5,
    "start_time": "2022-03-03T12:39:39.214Z"
   },
   {
    "duration": 8,
    "start_time": "2022-03-03T12:41:07.454Z"
   },
   {
    "duration": 8,
    "start_time": "2022-03-03T12:41:23.383Z"
   },
   {
    "duration": 2669,
    "start_time": "2022-03-03T12:41:44.453Z"
   },
   {
    "duration": 72,
    "start_time": "2022-03-03T12:41:58.844Z"
   },
   {
    "duration": 69,
    "start_time": "2022-03-03T12:42:07.683Z"
   },
   {
    "duration": 8,
    "start_time": "2022-03-03T12:42:10.992Z"
   },
   {
    "duration": 12,
    "start_time": "2022-03-03T14:59:26.605Z"
   },
   {
    "duration": 5539,
    "start_time": "2022-03-03T15:00:33.781Z"
   },
   {
    "duration": 274,
    "start_time": "2022-03-03T15:00:59.285Z"
   },
   {
    "duration": 17,
    "start_time": "2022-03-03T15:01:06.514Z"
   },
   {
    "duration": 12,
    "start_time": "2022-03-03T15:02:27.625Z"
   },
   {
    "duration": 195,
    "start_time": "2022-03-03T15:03:57.803Z"
   },
   {
    "duration": 298,
    "start_time": "2022-03-03T15:05:29.502Z"
   },
   {
    "duration": 8,
    "start_time": "2022-03-03T15:05:56.091Z"
   },
   {
    "duration": 1216,
    "start_time": "2022-03-03T15:06:05.481Z"
   },
   {
    "duration": 115,
    "start_time": "2022-03-03T15:06:23.460Z"
   },
   {
    "duration": 6,
    "start_time": "2022-03-03T15:06:28.771Z"
   },
   {
    "duration": 6,
    "start_time": "2022-03-03T15:07:51.500Z"
   },
   {
    "duration": 198,
    "start_time": "2022-03-03T15:07:59.529Z"
   },
   {
    "duration": 420,
    "start_time": "2022-03-03T15:08:23.350Z"
   },
   {
    "duration": 7,
    "start_time": "2022-03-03T15:08:27.299Z"
   },
   {
    "duration": 5,
    "start_time": "2022-03-03T15:14:13.535Z"
   },
   {
    "duration": 6,
    "start_time": "2022-03-03T15:14:38.324Z"
   },
   {
    "duration": 6,
    "start_time": "2022-03-03T15:14:50.355Z"
   },
   {
    "duration": 7,
    "start_time": "2022-03-03T15:15:02.154Z"
   },
   {
    "duration": 4,
    "start_time": "2022-03-03T15:20:04.831Z"
   },
   {
    "duration": 7,
    "start_time": "2022-03-03T15:24:14.539Z"
   },
   {
    "duration": 77,
    "start_time": "2022-03-03T18:47:19.974Z"
   },
   {
    "duration": 77,
    "start_time": "2022-03-03T18:47:38.783Z"
   },
   {
    "duration": 86,
    "start_time": "2022-03-03T18:47:57.002Z"
   },
   {
    "duration": 66,
    "start_time": "2022-03-03T18:48:04.993Z"
   },
   {
    "duration": 136,
    "start_time": "2022-03-03T18:48:10.363Z"
   },
   {
    "duration": -332,
    "start_time": "2022-03-03T18:48:34.018Z"
   },
   {
    "duration": 1032,
    "start_time": "2022-03-03T18:48:41.512Z"
   },
   {
    "duration": 42,
    "start_time": "2022-03-03T18:48:42.545Z"
   },
   {
    "duration": 11,
    "start_time": "2022-03-03T18:48:42.591Z"
   },
   {
    "duration": 11,
    "start_time": "2022-03-03T18:48:42.603Z"
   },
   {
    "duration": 13,
    "start_time": "2022-03-03T18:48:42.615Z"
   },
   {
    "duration": 16,
    "start_time": "2022-03-03T18:48:42.630Z"
   },
   {
    "duration": 12,
    "start_time": "2022-03-03T18:48:42.647Z"
   },
   {
    "duration": 8,
    "start_time": "2022-03-03T18:48:42.662Z"
   },
   {
    "duration": 6,
    "start_time": "2022-03-03T18:48:42.673Z"
   },
   {
    "duration": 11,
    "start_time": "2022-03-03T18:48:42.681Z"
   },
   {
    "duration": 5,
    "start_time": "2022-03-03T18:48:42.694Z"
   },
   {
    "duration": 14,
    "start_time": "2022-03-03T18:48:42.700Z"
   },
   {
    "duration": 359,
    "start_time": "2022-03-03T18:48:42.716Z"
   },
   {
    "duration": 8,
    "start_time": "2022-03-03T18:48:43.077Z"
   },
   {
    "duration": 275,
    "start_time": "2022-03-03T18:48:43.087Z"
   },
   {
    "duration": 281,
    "start_time": "2022-03-03T18:48:43.364Z"
   },
   {
    "duration": 404,
    "start_time": "2022-03-03T18:48:43.647Z"
   },
   {
    "duration": 277,
    "start_time": "2022-03-03T18:48:44.053Z"
   },
   {
    "duration": 265,
    "start_time": "2022-03-03T18:48:44.332Z"
   },
   {
    "duration": 7,
    "start_time": "2022-03-03T18:48:44.598Z"
   },
   {
    "duration": 9,
    "start_time": "2022-03-03T18:48:44.606Z"
   },
   {
    "duration": 288,
    "start_time": "2022-03-03T18:48:44.616Z"
   },
   {
    "duration": 4,
    "start_time": "2022-03-03T18:48:44.905Z"
   },
   {
    "duration": 278,
    "start_time": "2022-03-03T18:48:44.911Z"
   },
   {
    "duration": 6,
    "start_time": "2022-03-03T18:48:45.191Z"
   },
   {
    "duration": 285,
    "start_time": "2022-03-03T18:48:45.201Z"
   },
   {
    "duration": 12,
    "start_time": "2022-03-03T18:48:45.488Z"
   },
   {
    "duration": 130,
    "start_time": "2022-03-03T18:48:45.502Z"
   },
   {
    "duration": 7,
    "start_time": "2022-03-03T18:48:45.634Z"
   },
   {
    "duration": 17,
    "start_time": "2022-03-03T18:48:45.643Z"
   },
   {
    "duration": 4,
    "start_time": "2022-03-03T18:48:45.662Z"
   },
   {
    "duration": 8,
    "start_time": "2022-03-03T18:48:45.668Z"
   },
   {
    "duration": 4835,
    "start_time": "2022-03-03T18:48:45.678Z"
   },
   {
    "duration": 12,
    "start_time": "2022-03-03T18:49:17.655Z"
   },
   {
    "duration": 8,
    "start_time": "2022-03-03T18:49:40.455Z"
   },
   {
    "duration": 10,
    "start_time": "2022-03-03T18:49:48.765Z"
   },
   {
    "duration": 5,
    "start_time": "2022-03-03T18:50:34.204Z"
   },
   {
    "duration": 190,
    "start_time": "2022-03-03T18:50:44.494Z"
   },
   {
    "duration": 5,
    "start_time": "2022-03-03T18:51:00.083Z"
   },
   {
    "duration": 5,
    "start_time": "2022-03-03T18:51:13.454Z"
   },
   {
    "duration": 4,
    "start_time": "2022-03-03T18:51:57.164Z"
   },
   {
    "duration": 6,
    "start_time": "2022-03-03T18:52:06.852Z"
   },
   {
    "duration": 9,
    "start_time": "2022-03-03T18:52:19.073Z"
   },
   {
    "duration": 9,
    "start_time": "2022-03-03T18:53:44.132Z"
   },
   {
    "duration": 7,
    "start_time": "2022-03-03T18:54:55.151Z"
   },
   {
    "duration": 4,
    "start_time": "2022-03-03T18:59:51.398Z"
   },
   {
    "duration": 4716,
    "start_time": "2022-03-03T19:01:38.936Z"
   },
   {
    "duration": 10,
    "start_time": "2022-03-03T19:02:09.355Z"
   },
   {
    "duration": 1020,
    "start_time": "2022-03-03T19:11:37.420Z"
   },
   {
    "duration": 37,
    "start_time": "2022-03-03T19:11:38.442Z"
   },
   {
    "duration": 11,
    "start_time": "2022-03-03T19:11:38.481Z"
   },
   {
    "duration": 14,
    "start_time": "2022-03-03T19:11:38.494Z"
   },
   {
    "duration": 13,
    "start_time": "2022-03-03T19:11:38.509Z"
   },
   {
    "duration": 16,
    "start_time": "2022-03-03T19:11:38.523Z"
   },
   {
    "duration": 6,
    "start_time": "2022-03-03T19:11:38.541Z"
   },
   {
    "duration": 15,
    "start_time": "2022-03-03T19:11:38.549Z"
   },
   {
    "duration": 4,
    "start_time": "2022-03-03T19:11:38.567Z"
   },
   {
    "duration": 10,
    "start_time": "2022-03-03T19:11:38.574Z"
   },
   {
    "duration": 6,
    "start_time": "2022-03-03T19:11:38.585Z"
   },
   {
    "duration": 13,
    "start_time": "2022-03-03T19:11:38.592Z"
   },
   {
    "duration": 373,
    "start_time": "2022-03-03T19:11:38.606Z"
   },
   {
    "duration": 9,
    "start_time": "2022-03-03T19:11:38.981Z"
   },
   {
    "duration": 301,
    "start_time": "2022-03-03T19:11:38.992Z"
   },
   {
    "duration": 279,
    "start_time": "2022-03-03T19:11:39.295Z"
   },
   {
    "duration": 387,
    "start_time": "2022-03-03T19:11:39.576Z"
   },
   {
    "duration": 285,
    "start_time": "2022-03-03T19:11:39.964Z"
   },
   {
    "duration": 257,
    "start_time": "2022-03-03T19:11:40.259Z"
   },
   {
    "duration": 6,
    "start_time": "2022-03-03T19:11:40.518Z"
   },
   {
    "duration": 10,
    "start_time": "2022-03-03T19:11:40.525Z"
   },
   {
    "duration": 332,
    "start_time": "2022-03-03T19:11:40.536Z"
   },
   {
    "duration": 4,
    "start_time": "2022-03-03T19:11:40.870Z"
   },
   {
    "duration": 322,
    "start_time": "2022-03-03T19:11:40.876Z"
   },
   {
    "duration": 6,
    "start_time": "2022-03-03T19:11:41.200Z"
   },
   {
    "duration": 299,
    "start_time": "2022-03-03T19:11:41.208Z"
   },
   {
    "duration": 11,
    "start_time": "2022-03-03T19:11:41.510Z"
   },
   {
    "duration": 141,
    "start_time": "2022-03-03T19:11:41.524Z"
   },
   {
    "duration": 7,
    "start_time": "2022-03-03T19:11:41.667Z"
   },
   {
    "duration": 9,
    "start_time": "2022-03-03T19:11:41.675Z"
   },
   {
    "duration": 4,
    "start_time": "2022-03-03T19:11:41.686Z"
   },
   {
    "duration": 8,
    "start_time": "2022-03-03T19:11:41.691Z"
   },
   {
    "duration": 10,
    "start_time": "2022-03-03T19:11:41.701Z"
   },
   {
    "duration": 46,
    "start_time": "2022-03-03T19:11:41.713Z"
   },
   {
    "duration": 8,
    "start_time": "2022-03-03T19:11:41.761Z"
   },
   {
    "duration": 4,
    "start_time": "2022-03-03T19:11:41.771Z"
   },
   {
    "duration": 10,
    "start_time": "2022-03-03T19:11:41.777Z"
   },
   {
    "duration": 1099,
    "start_time": "2022-03-04T11:57:50.716Z"
   },
   {
    "duration": 80,
    "start_time": "2022-03-04T11:57:51.818Z"
   },
   {
    "duration": 17,
    "start_time": "2022-03-04T11:57:51.900Z"
   },
   {
    "duration": 7,
    "start_time": "2022-03-04T11:57:51.919Z"
   },
   {
    "duration": 9,
    "start_time": "2022-03-04T11:57:51.927Z"
   },
   {
    "duration": 18,
    "start_time": "2022-03-04T11:57:51.937Z"
   },
   {
    "duration": 7,
    "start_time": "2022-03-04T11:57:51.957Z"
   },
   {
    "duration": 10,
    "start_time": "2022-03-04T11:57:51.966Z"
   },
   {
    "duration": 7,
    "start_time": "2022-03-04T11:57:52.002Z"
   },
   {
    "duration": 10,
    "start_time": "2022-03-04T11:57:52.012Z"
   },
   {
    "duration": 3,
    "start_time": "2022-03-04T11:57:52.024Z"
   },
   {
    "duration": 14,
    "start_time": "2022-03-04T11:57:52.028Z"
   },
   {
    "duration": 379,
    "start_time": "2022-03-04T11:57:52.044Z"
   },
   {
    "duration": 8,
    "start_time": "2022-03-04T11:57:52.425Z"
   },
   {
    "duration": 300,
    "start_time": "2022-03-04T11:57:52.435Z"
   },
   {
    "duration": 340,
    "start_time": "2022-03-04T11:57:52.737Z"
   },
   {
    "duration": 450,
    "start_time": "2022-03-04T11:57:53.079Z"
   },
   {
    "duration": 358,
    "start_time": "2022-03-04T11:57:53.532Z"
   },
   {
    "duration": 336,
    "start_time": "2022-03-04T11:57:53.892Z"
   },
   {
    "duration": 7,
    "start_time": "2022-03-04T11:57:54.230Z"
   },
   {
    "duration": 10,
    "start_time": "2022-03-04T11:57:54.239Z"
   },
   {
    "duration": 319,
    "start_time": "2022-03-04T11:57:54.251Z"
   },
   {
    "duration": 4,
    "start_time": "2022-03-04T11:57:54.574Z"
   },
   {
    "duration": 371,
    "start_time": "2022-03-04T11:57:54.581Z"
   },
   {
    "duration": 7,
    "start_time": "2022-03-04T11:57:54.954Z"
   },
   {
    "duration": 300,
    "start_time": "2022-03-04T11:57:54.962Z"
   },
   {
    "duration": 11,
    "start_time": "2022-03-04T11:57:55.264Z"
   },
   {
    "duration": 118,
    "start_time": "2022-03-04T11:57:55.277Z"
   },
   {
    "duration": 8,
    "start_time": "2022-03-04T11:57:55.396Z"
   },
   {
    "duration": 13,
    "start_time": "2022-03-04T11:57:55.407Z"
   },
   {
    "duration": 3,
    "start_time": "2022-03-04T11:57:55.422Z"
   },
   {
    "duration": 6,
    "start_time": "2022-03-04T11:57:55.426Z"
   },
   {
    "duration": 8,
    "start_time": "2022-03-04T11:57:55.434Z"
   },
   {
    "duration": 7,
    "start_time": "2022-03-04T11:57:55.444Z"
   },
   {
    "duration": 10,
    "start_time": "2022-03-04T11:57:55.452Z"
   },
   {
    "duration": 5,
    "start_time": "2022-03-04T11:57:55.464Z"
   },
   {
    "duration": 39,
    "start_time": "2022-03-04T11:57:55.471Z"
   },
   {
    "duration": 153,
    "start_time": "2022-03-04T21:59:36.620Z"
   },
   {
    "duration": 61,
    "start_time": "2022-03-05T10:16:03.134Z"
   },
   {
    "duration": 58,
    "start_time": "2022-03-05T10:16:14.625Z"
   },
   {
    "duration": 60,
    "start_time": "2022-03-05T10:16:41.505Z"
   },
   {
    "duration": 59,
    "start_time": "2022-03-05T10:17:32.365Z"
   },
   {
    "duration": 421,
    "start_time": "2022-03-05T10:18:10.984Z"
   },
   {
    "duration": 1027,
    "start_time": "2022-03-05T10:18:24.083Z"
   },
   {
    "duration": 174,
    "start_time": "2022-03-05T10:18:25.112Z"
   },
   {
    "duration": 2,
    "start_time": "2022-03-05T10:18:49.424Z"
   },
   {
    "duration": 194,
    "start_time": "2022-03-05T10:18:49.824Z"
   },
   {
    "duration": 10,
    "start_time": "2022-03-05T10:18:51.378Z"
   },
   {
    "duration": 4508,
    "start_time": "2022-03-05T10:20:56.812Z"
   },
   {
    "duration": 93,
    "start_time": "2022-03-05T10:22:19.627Z"
   },
   {
    "duration": 58,
    "start_time": "2022-03-05T10:22:28.581Z"
   },
   {
    "duration": 8,
    "start_time": "2022-03-05T10:22:46.921Z"
   },
   {
    "duration": 8,
    "start_time": "2022-03-05T10:22:58.080Z"
   },
   {
    "duration": 190,
    "start_time": "2022-03-05T10:24:47.649Z"
   },
   {
    "duration": 185,
    "start_time": "2022-03-05T10:25:30.053Z"
   },
   {
    "duration": 172,
    "start_time": "2022-03-05T10:25:49.367Z"
   },
   {
    "duration": 188,
    "start_time": "2022-03-05T10:26:05.708Z"
   },
   {
    "duration": 7,
    "start_time": "2022-03-05T10:29:28.845Z"
   },
   {
    "duration": 13,
    "start_time": "2022-03-05T10:31:58.163Z"
   },
   {
    "duration": 184,
    "start_time": "2022-03-05T10:33:02.853Z"
   },
   {
    "duration": 193,
    "start_time": "2022-03-05T10:34:35.333Z"
   },
   {
    "duration": 198,
    "start_time": "2022-03-05T10:41:50.007Z"
   },
   {
    "duration": 61,
    "start_time": "2022-03-05T10:42:22.486Z"
   },
   {
    "duration": 172,
    "start_time": "2022-03-05T10:42:26.286Z"
   },
   {
    "duration": 159,
    "start_time": "2022-03-05T10:44:06.185Z"
   },
   {
    "duration": 60,
    "start_time": "2022-03-05T10:44:20.974Z"
   },
   {
    "duration": 6,
    "start_time": "2022-03-05T10:44:35.045Z"
   },
   {
    "duration": 4143,
    "start_time": "2022-03-05T10:45:40.354Z"
   },
   {
    "duration": 4,
    "start_time": "2022-03-05T10:46:00.173Z"
   },
   {
    "duration": 6,
    "start_time": "2022-03-05T10:46:04.933Z"
   },
   {
    "duration": 163,
    "start_time": "2022-03-05T10:46:36.718Z"
   },
   {
    "duration": 4,
    "start_time": "2022-03-05T10:46:49.443Z"
   },
   {
    "duration": 5,
    "start_time": "2022-03-05T10:48:12.592Z"
   },
   {
    "duration": 6,
    "start_time": "2022-03-05T10:53:04.039Z"
   },
   {
    "duration": 58,
    "start_time": "2022-03-05T10:55:40.686Z"
   },
   {
    "duration": 8,
    "start_time": "2022-03-05T10:55:43.278Z"
   },
   {
    "duration": 197,
    "start_time": "2022-03-05T10:56:06.188Z"
   },
   {
    "duration": 233,
    "start_time": "2022-03-05T10:58:10.945Z"
   },
   {
    "duration": 169,
    "start_time": "2022-03-05T10:58:23.754Z"
   },
   {
    "duration": 11,
    "start_time": "2022-03-05T11:15:38.581Z"
   },
   {
    "duration": 11,
    "start_time": "2022-03-05T11:15:43.032Z"
   },
   {
    "duration": 8,
    "start_time": "2022-03-05T11:15:47.272Z"
   },
   {
    "duration": 8,
    "start_time": "2022-03-05T11:15:50.932Z"
   },
   {
    "duration": 8,
    "start_time": "2022-03-05T11:15:55.801Z"
   },
   {
    "duration": 9,
    "start_time": "2022-03-05T11:16:00.381Z"
   },
   {
    "duration": 8,
    "start_time": "2022-03-05T11:16:06.142Z"
   },
   {
    "duration": 8,
    "start_time": "2022-03-05T11:16:39.651Z"
   },
   {
    "duration": 9,
    "start_time": "2022-03-05T11:16:44.600Z"
   },
   {
    "duration": 8,
    "start_time": "2022-03-05T11:16:48.641Z"
   },
   {
    "duration": 11,
    "start_time": "2022-03-05T11:17:09.831Z"
   },
   {
    "duration": 8,
    "start_time": "2022-03-05T11:17:15.722Z"
   },
   {
    "duration": 9,
    "start_time": "2022-03-05T11:17:19.800Z"
   },
   {
    "duration": 8,
    "start_time": "2022-03-05T11:17:22.591Z"
   },
   {
    "duration": 8,
    "start_time": "2022-03-05T11:17:25.650Z"
   },
   {
    "duration": 7,
    "start_time": "2022-03-05T11:17:28.622Z"
   },
   {
    "duration": 189,
    "start_time": "2022-03-05T11:18:47.019Z"
   },
   {
    "duration": 992,
    "start_time": "2022-03-05T11:18:55.014Z"
   },
   {
    "duration": 59,
    "start_time": "2022-03-05T11:18:56.008Z"
   },
   {
    "duration": 15,
    "start_time": "2022-03-05T11:18:56.070Z"
   },
   {
    "duration": 11,
    "start_time": "2022-03-05T11:18:56.088Z"
   },
   {
    "duration": 10,
    "start_time": "2022-03-05T11:18:56.101Z"
   },
   {
    "duration": 20,
    "start_time": "2022-03-05T11:18:56.113Z"
   },
   {
    "duration": 5,
    "start_time": "2022-03-05T11:18:56.135Z"
   },
   {
    "duration": 7,
    "start_time": "2022-03-05T11:18:56.143Z"
   },
   {
    "duration": 5,
    "start_time": "2022-03-05T11:18:56.151Z"
   },
   {
    "duration": 7,
    "start_time": "2022-03-05T11:18:56.157Z"
   },
   {
    "duration": 13,
    "start_time": "2022-03-05T11:18:56.165Z"
   },
   {
    "duration": 9,
    "start_time": "2022-03-05T11:18:56.180Z"
   },
   {
    "duration": 8,
    "start_time": "2022-03-05T11:18:56.191Z"
   },
   {
    "duration": 46,
    "start_time": "2022-03-05T11:18:56.200Z"
   },
   {
    "duration": 7,
    "start_time": "2022-03-05T11:18:56.249Z"
   },
   {
    "duration": 18,
    "start_time": "2022-03-05T11:18:56.258Z"
   },
   {
    "duration": 472,
    "start_time": "2022-03-05T11:18:56.278Z"
   },
   {
    "duration": 14,
    "start_time": "2022-03-05T11:18:56.752Z"
   },
   {
    "duration": 383,
    "start_time": "2022-03-05T11:18:56.767Z"
   },
   {
    "duration": 358,
    "start_time": "2022-03-05T11:18:57.152Z"
   },
   {
    "duration": 470,
    "start_time": "2022-03-05T11:18:57.512Z"
   },
   {
    "duration": 372,
    "start_time": "2022-03-05T11:18:57.984Z"
   },
   {
    "duration": 246,
    "start_time": "2022-03-05T11:18:58.360Z"
   },
   {
    "duration": 7,
    "start_time": "2022-03-05T11:18:58.609Z"
   },
   {
    "duration": 21,
    "start_time": "2022-03-05T11:18:58.617Z"
   },
   {
    "duration": 316,
    "start_time": "2022-03-05T11:18:58.641Z"
   },
   {
    "duration": 4,
    "start_time": "2022-03-05T11:18:58.958Z"
   },
   {
    "duration": 294,
    "start_time": "2022-03-05T11:18:58.964Z"
   },
   {
    "duration": 8,
    "start_time": "2022-03-05T11:18:59.260Z"
   },
   {
    "duration": 305,
    "start_time": "2022-03-05T11:18:59.269Z"
   },
   {
    "duration": 10,
    "start_time": "2022-03-05T11:18:59.575Z"
   },
   {
    "duration": 136,
    "start_time": "2022-03-05T11:18:59.587Z"
   },
   {
    "duration": 10,
    "start_time": "2022-03-05T11:18:59.725Z"
   },
   {
    "duration": 10,
    "start_time": "2022-03-05T11:18:59.737Z"
   },
   {
    "duration": 16,
    "start_time": "2022-03-05T11:18:59.749Z"
   },
   {
    "duration": 13,
    "start_time": "2022-03-05T11:18:59.767Z"
   },
   {
    "duration": 12,
    "start_time": "2022-03-05T11:18:59.781Z"
   },
   {
    "duration": 8,
    "start_time": "2022-03-05T11:18:59.795Z"
   },
   {
    "duration": 30,
    "start_time": "2022-03-05T11:18:59.804Z"
   },
   {
    "duration": 9,
    "start_time": "2022-03-05T11:18:59.835Z"
   },
   {
    "duration": 18,
    "start_time": "2022-03-05T11:18:59.847Z"
   },
   {
    "duration": 346,
    "start_time": "2022-03-05T11:20:57.144Z"
   },
   {
    "duration": 268,
    "start_time": "2022-03-05T11:22:27.123Z"
   },
   {
    "duration": 12,
    "start_time": "2022-03-05T11:23:04.581Z"
   },
   {
    "duration": 6,
    "start_time": "2022-03-05T11:35:10.404Z"
   },
   {
    "duration": 15,
    "start_time": "2022-03-05T11:35:12.473Z"
   },
   {
    "duration": 3,
    "start_time": "2022-03-05T11:35:44.063Z"
   },
   {
    "duration": 11,
    "start_time": "2022-03-05T11:35:44.574Z"
   },
   {
    "duration": 4,
    "start_time": "2022-03-05T11:36:05.282Z"
   },
   {
    "duration": 3,
    "start_time": "2022-03-05T11:36:16.853Z"
   },
   {
    "duration": 11,
    "start_time": "2022-03-05T11:36:17.882Z"
   },
   {
    "duration": 5,
    "start_time": "2022-03-05T11:37:13.281Z"
   },
   {
    "duration": 11,
    "start_time": "2022-03-05T11:37:14.061Z"
   },
   {
    "duration": 5,
    "start_time": "2022-03-05T11:37:49.441Z"
   },
   {
    "duration": 4,
    "start_time": "2022-03-05T11:37:59.401Z"
   },
   {
    "duration": 13,
    "start_time": "2022-03-05T11:38:00.061Z"
   },
   {
    "duration": 17,
    "start_time": "2022-03-05T12:00:12.855Z"
   },
   {
    "duration": 223,
    "start_time": "2022-03-05T12:03:41.533Z"
   },
   {
    "duration": 210,
    "start_time": "2022-03-05T12:04:56.712Z"
   },
   {
    "duration": 222,
    "start_time": "2022-03-05T12:05:14.082Z"
   },
   {
    "duration": 217,
    "start_time": "2022-03-05T12:05:24.171Z"
   },
   {
    "duration": 237,
    "start_time": "2022-03-05T12:07:42.249Z"
   },
   {
    "duration": 221,
    "start_time": "2022-03-05T12:07:50.050Z"
   },
   {
    "duration": 222,
    "start_time": "2022-03-05T12:08:01.799Z"
   },
   {
    "duration": 222,
    "start_time": "2022-03-05T12:08:24.219Z"
   },
   {
    "duration": 397,
    "start_time": "2022-03-05T12:09:20.748Z"
   },
   {
    "duration": 417,
    "start_time": "2022-03-05T12:09:39.008Z"
   },
   {
    "duration": 363,
    "start_time": "2022-03-05T12:09:44.648Z"
   },
   {
    "duration": 405,
    "start_time": "2022-03-05T12:10:00.788Z"
   },
   {
    "duration": 319,
    "start_time": "2022-03-05T12:10:45.268Z"
   },
   {
    "duration": 514,
    "start_time": "2022-03-05T12:10:59.017Z"
   },
   {
    "duration": 501,
    "start_time": "2022-03-05T12:11:36.636Z"
   },
   {
    "duration": 382,
    "start_time": "2022-03-05T12:11:44.026Z"
   },
   {
    "duration": 393,
    "start_time": "2022-03-05T12:12:41.117Z"
   },
   {
    "duration": 160,
    "start_time": "2022-03-05T12:40:51.047Z"
   },
   {
    "duration": 193,
    "start_time": "2022-03-05T12:41:06.665Z"
   },
   {
    "duration": 218,
    "start_time": "2022-03-05T12:41:17.296Z"
   },
   {
    "duration": 457,
    "start_time": "2022-03-05T12:41:45.135Z"
   },
   {
    "duration": 410,
    "start_time": "2022-03-05T12:42:16.236Z"
   },
   {
    "duration": 201,
    "start_time": "2022-03-05T12:43:15.258Z"
   },
   {
    "duration": 226,
    "start_time": "2022-03-05T12:43:26.845Z"
   },
   {
    "duration": 249,
    "start_time": "2022-03-05T12:43:30.415Z"
   },
   {
    "duration": 428,
    "start_time": "2022-03-05T12:43:35.765Z"
   },
   {
    "duration": 281,
    "start_time": "2022-03-05T12:43:44.225Z"
   },
   {
    "duration": 433,
    "start_time": "2022-03-05T12:45:36.344Z"
   },
   {
    "duration": 378,
    "start_time": "2022-03-05T12:45:49.936Z"
   },
   {
    "duration": 290,
    "start_time": "2022-03-05T12:46:06.152Z"
   },
   {
    "duration": 300,
    "start_time": "2022-03-05T12:47:22.433Z"
   },
   {
    "duration": 432,
    "start_time": "2022-03-05T12:49:23.740Z"
   },
   {
    "duration": 569,
    "start_time": "2022-03-05T12:49:32.420Z"
   },
   {
    "duration": 327,
    "start_time": "2022-03-05T12:49:54.580Z"
   },
   {
    "duration": 207,
    "start_time": "2022-03-05T12:50:01.530Z"
   },
   {
    "duration": 303,
    "start_time": "2022-03-05T12:50:43.101Z"
   },
   {
    "duration": 283,
    "start_time": "2022-03-05T12:50:51.600Z"
   },
   {
    "duration": 273,
    "start_time": "2022-03-05T12:51:01.219Z"
   },
   {
    "duration": 184,
    "start_time": "2022-03-05T12:51:05.419Z"
   },
   {
    "duration": 180,
    "start_time": "2022-03-05T13:18:20.611Z"
   },
   {
    "duration": 186,
    "start_time": "2022-03-05T13:18:58.290Z"
   },
   {
    "duration": 313,
    "start_time": "2022-03-05T13:20:09.751Z"
   },
   {
    "duration": 547,
    "start_time": "2022-03-05T13:20:52.608Z"
   },
   {
    "duration": 458,
    "start_time": "2022-03-05T13:20:58.598Z"
   },
   {
    "duration": 366,
    "start_time": "2022-03-05T13:21:08.847Z"
   },
   {
    "duration": 306,
    "start_time": "2022-03-05T13:21:17.868Z"
   },
   {
    "duration": 345,
    "start_time": "2022-03-05T13:21:25.207Z"
   },
   {
    "duration": 423,
    "start_time": "2022-03-05T13:21:38.418Z"
   },
   {
    "duration": 347,
    "start_time": "2022-03-05T13:21:51.798Z"
   },
   {
    "duration": 166,
    "start_time": "2022-03-05T13:25:05.467Z"
   },
   {
    "duration": 3,
    "start_time": "2022-03-05T13:25:29.455Z"
   },
   {
    "duration": 6,
    "start_time": "2022-03-05T13:25:41.785Z"
   },
   {
    "duration": 4,
    "start_time": "2022-03-05T13:25:45.658Z"
   },
   {
    "duration": 7,
    "start_time": "2022-03-05T13:25:59.264Z"
   },
   {
    "duration": 3,
    "start_time": "2022-03-05T13:28:52.663Z"
   },
   {
    "duration": 5,
    "start_time": "2022-03-05T13:29:02.493Z"
   },
   {
    "duration": 5,
    "start_time": "2022-03-05T13:29:03.762Z"
   },
   {
    "duration": 5,
    "start_time": "2022-03-05T13:34:24.089Z"
   },
   {
    "duration": 4,
    "start_time": "2022-03-05T13:34:45.428Z"
   },
   {
    "duration": 5,
    "start_time": "2022-03-05T13:51:07.556Z"
   },
   {
    "duration": 6,
    "start_time": "2022-03-05T13:51:18.885Z"
   },
   {
    "duration": 5,
    "start_time": "2022-03-05T13:52:40.974Z"
   },
   {
    "duration": 10,
    "start_time": "2022-03-05T13:54:17.193Z"
   },
   {
    "duration": 6,
    "start_time": "2022-03-05T13:54:34.504Z"
   },
   {
    "duration": 4,
    "start_time": "2022-03-05T13:54:58.474Z"
   },
   {
    "duration": 4,
    "start_time": "2022-03-05T13:55:28.654Z"
   },
   {
    "duration": 8,
    "start_time": "2022-03-05T13:56:20.522Z"
   },
   {
    "duration": 5,
    "start_time": "2022-03-05T13:57:24.182Z"
   },
   {
    "duration": 7,
    "start_time": "2022-03-05T13:57:43.491Z"
   },
   {
    "duration": 1110,
    "start_time": "2022-03-06T08:40:44.191Z"
   },
   {
    "duration": 44,
    "start_time": "2022-03-06T08:40:45.303Z"
   },
   {
    "duration": 13,
    "start_time": "2022-03-06T08:40:45.349Z"
   },
   {
    "duration": 14,
    "start_time": "2022-03-06T08:40:45.364Z"
   },
   {
    "duration": 9,
    "start_time": "2022-03-06T08:40:45.380Z"
   },
   {
    "duration": 18,
    "start_time": "2022-03-06T08:40:45.391Z"
   },
   {
    "duration": 6,
    "start_time": "2022-03-06T08:40:45.411Z"
   },
   {
    "duration": 11,
    "start_time": "2022-03-06T08:40:45.419Z"
   },
   {
    "duration": 6,
    "start_time": "2022-03-06T08:40:45.432Z"
   },
   {
    "duration": 6,
    "start_time": "2022-03-06T08:40:45.440Z"
   },
   {
    "duration": 17,
    "start_time": "2022-03-06T08:40:45.448Z"
   },
   {
    "duration": 38,
    "start_time": "2022-03-06T08:40:45.466Z"
   },
   {
    "duration": 10,
    "start_time": "2022-03-06T08:40:45.506Z"
   },
   {
    "duration": 14,
    "start_time": "2022-03-06T08:40:45.519Z"
   },
   {
    "duration": 7,
    "start_time": "2022-03-06T08:40:45.534Z"
   },
   {
    "duration": 17,
    "start_time": "2022-03-06T08:40:45.543Z"
   },
   {
    "duration": 376,
    "start_time": "2022-03-06T08:40:45.562Z"
   },
   {
    "duration": 10,
    "start_time": "2022-03-06T08:40:45.940Z"
   },
   {
    "duration": 302,
    "start_time": "2022-03-06T08:40:45.951Z"
   },
   {
    "duration": 283,
    "start_time": "2022-03-06T08:40:46.255Z"
   },
   {
    "duration": 349,
    "start_time": "2022-03-06T08:40:46.541Z"
   },
   {
    "duration": 283,
    "start_time": "2022-03-06T08:40:46.892Z"
   },
   {
    "duration": 414,
    "start_time": "2022-03-06T08:40:47.180Z"
   },
   {
    "duration": 10,
    "start_time": "2022-03-06T08:40:47.597Z"
   },
   {
    "duration": 12,
    "start_time": "2022-03-06T08:40:47.609Z"
   },
   {
    "duration": 313,
    "start_time": "2022-03-06T08:40:47.623Z"
   },
   {
    "duration": 5,
    "start_time": "2022-03-06T08:40:47.939Z"
   },
   {
    "duration": 332,
    "start_time": "2022-03-06T08:40:47.946Z"
   },
   {
    "duration": 6,
    "start_time": "2022-03-06T08:40:48.280Z"
   },
   {
    "duration": 339,
    "start_time": "2022-03-06T08:40:48.288Z"
   },
   {
    "duration": 479,
    "start_time": "2022-03-06T08:40:48.629Z"
   },
   {
    "duration": 6,
    "start_time": "2022-03-06T08:40:49.109Z"
   },
   {
    "duration": 9,
    "start_time": "2022-03-06T08:40:49.116Z"
   },
   {
    "duration": 304,
    "start_time": "2022-03-06T08:40:49.127Z"
   },
   {
    "duration": 12,
    "start_time": "2022-03-06T08:40:49.433Z"
   },
   {
    "duration": 124,
    "start_time": "2022-03-06T08:40:49.447Z"
   },
   {
    "duration": 5,
    "start_time": "2022-03-06T08:40:49.573Z"
   },
   {
    "duration": 21,
    "start_time": "2022-03-06T08:40:49.580Z"
   },
   {
    "duration": 4,
    "start_time": "2022-03-06T08:40:49.603Z"
   },
   {
    "duration": 10,
    "start_time": "2022-03-06T08:40:49.609Z"
   },
   {
    "duration": 10,
    "start_time": "2022-03-06T08:40:49.620Z"
   },
   {
    "duration": 11,
    "start_time": "2022-03-06T08:40:49.632Z"
   },
   {
    "duration": 11,
    "start_time": "2022-03-06T08:40:49.645Z"
   },
   {
    "duration": 3,
    "start_time": "2022-03-06T08:40:49.658Z"
   },
   {
    "duration": 41,
    "start_time": "2022-03-06T08:40:49.663Z"
   },
   {
    "duration": 181,
    "start_time": "2022-03-06T08:43:56.255Z"
   },
   {
    "duration": 15,
    "start_time": "2022-03-06T08:44:01.261Z"
   },
   {
    "duration": 473,
    "start_time": "2022-03-06T08:46:09.341Z"
   },
   {
    "duration": 186,
    "start_time": "2022-03-06T08:46:16.361Z"
   },
   {
    "duration": 191,
    "start_time": "2022-03-06T08:48:10.504Z"
   },
   {
    "duration": 4,
    "start_time": "2022-03-06T08:58:24.416Z"
   },
   {
    "duration": 234,
    "start_time": "2022-03-06T08:58:43.491Z"
   },
   {
    "duration": 214,
    "start_time": "2022-03-06T08:58:47.260Z"
   },
   {
    "duration": 5826,
    "start_time": "2022-03-06T09:02:19.208Z"
   },
   {
    "duration": 7,
    "start_time": "2022-03-06T09:02:55.598Z"
   },
   {
    "duration": 5,
    "start_time": "2022-03-06T09:03:31.948Z"
   },
   {
    "duration": 230,
    "start_time": "2022-03-06T09:05:35.376Z"
   },
   {
    "duration": 81,
    "start_time": "2022-03-06T09:05:39.845Z"
   },
   {
    "duration": 241,
    "start_time": "2022-03-06T09:05:45.185Z"
   },
   {
    "duration": 3,
    "start_time": "2022-03-06T09:05:52.366Z"
   },
   {
    "duration": 5,
    "start_time": "2022-03-06T09:05:52.906Z"
   },
   {
    "duration": 450,
    "start_time": "2022-03-06T09:09:23.483Z"
   },
   {
    "duration": 539,
    "start_time": "2022-03-06T09:09:31.184Z"
   },
   {
    "duration": 303,
    "start_time": "2022-03-06T09:09:48.582Z"
   },
   {
    "duration": 84,
    "start_time": "2022-03-06T09:10:06.022Z"
   },
   {
    "duration": 249,
    "start_time": "2022-03-06T09:10:30.252Z"
   },
   {
    "duration": 257,
    "start_time": "2022-03-06T09:10:52.902Z"
   },
   {
    "duration": 253,
    "start_time": "2022-03-06T09:12:05.501Z"
   },
   {
    "duration": 499,
    "start_time": "2022-03-06T09:13:52.869Z"
   },
   {
    "duration": 10,
    "start_time": "2022-03-06T09:16:59.067Z"
   },
   {
    "duration": 226,
    "start_time": "2022-03-06T09:17:44.341Z"
   },
   {
    "duration": 219,
    "start_time": "2022-03-06T09:17:49.307Z"
   },
   {
    "duration": 156,
    "start_time": "2022-03-06T09:18:20.755Z"
   },
   {
    "duration": 230,
    "start_time": "2022-03-06T09:18:33.205Z"
   },
   {
    "duration": 10,
    "start_time": "2022-03-06T09:23:21.242Z"
   },
   {
    "duration": 8,
    "start_time": "2022-03-06T09:24:13.321Z"
   },
   {
    "duration": 218,
    "start_time": "2022-03-06T09:26:31.940Z"
   },
   {
    "duration": 73,
    "start_time": "2022-03-06T09:28:29.198Z"
   },
   {
    "duration": 8,
    "start_time": "2022-03-06T09:28:36.769Z"
   },
   {
    "duration": 270,
    "start_time": "2022-03-06T09:32:22.736Z"
   },
   {
    "duration": 6,
    "start_time": "2022-03-06T09:32:32.436Z"
   },
   {
    "duration": 5,
    "start_time": "2022-03-06T09:32:39.066Z"
   },
   {
    "duration": 5,
    "start_time": "2022-03-06T09:33:14.315Z"
   },
   {
    "duration": 4,
    "start_time": "2022-03-06T09:33:23.045Z"
   },
   {
    "duration": 5,
    "start_time": "2022-03-06T09:33:39.255Z"
   },
   {
    "duration": 5,
    "start_time": "2022-03-06T09:33:43.745Z"
   },
   {
    "duration": 5,
    "start_time": "2022-03-06T09:33:48.645Z"
   },
   {
    "duration": 5,
    "start_time": "2022-03-06T09:34:02.353Z"
   },
   {
    "duration": 5,
    "start_time": "2022-03-06T09:34:28.854Z"
   },
   {
    "duration": 206,
    "start_time": "2022-03-06T09:34:50.634Z"
   },
   {
    "duration": 71,
    "start_time": "2022-03-06T09:34:57.873Z"
   },
   {
    "duration": 4,
    "start_time": "2022-03-06T09:35:02.633Z"
   },
   {
    "duration": 13,
    "start_time": "2022-03-06T09:36:11.832Z"
   },
   {
    "duration": 4,
    "start_time": "2022-03-06T09:36:43.757Z"
   },
   {
    "duration": 13,
    "start_time": "2022-03-06T09:36:50.222Z"
   },
   {
    "duration": 1153,
    "start_time": "2022-03-06T09:43:17.924Z"
   },
   {
    "duration": 38,
    "start_time": "2022-03-06T09:43:19.079Z"
   },
   {
    "duration": 12,
    "start_time": "2022-03-06T09:43:19.119Z"
   },
   {
    "duration": 12,
    "start_time": "2022-03-06T09:43:19.134Z"
   },
   {
    "duration": 12,
    "start_time": "2022-03-06T09:43:19.148Z"
   },
   {
    "duration": 22,
    "start_time": "2022-03-06T09:43:19.162Z"
   },
   {
    "duration": 20,
    "start_time": "2022-03-06T09:43:19.186Z"
   },
   {
    "duration": 18,
    "start_time": "2022-03-06T09:43:19.208Z"
   },
   {
    "duration": 199,
    "start_time": "2022-03-06T09:43:19.228Z"
   },
   {
    "duration": 20,
    "start_time": "2022-03-06T09:43:19.429Z"
   },
   {
    "duration": 11,
    "start_time": "2022-03-06T09:43:19.450Z"
   },
   {
    "duration": 16,
    "start_time": "2022-03-06T09:43:19.463Z"
   },
   {
    "duration": 28,
    "start_time": "2022-03-06T09:43:19.481Z"
   },
   {
    "duration": 11,
    "start_time": "2022-03-06T09:43:19.511Z"
   },
   {
    "duration": 23,
    "start_time": "2022-03-06T09:43:19.524Z"
   },
   {
    "duration": 17,
    "start_time": "2022-03-06T09:43:19.549Z"
   },
   {
    "duration": 369,
    "start_time": "2022-03-06T09:43:19.568Z"
   },
   {
    "duration": 11,
    "start_time": "2022-03-06T09:43:19.939Z"
   },
   {
    "duration": 301,
    "start_time": "2022-03-06T09:43:19.952Z"
   },
   {
    "duration": 274,
    "start_time": "2022-03-06T09:43:20.255Z"
   },
   {
    "duration": 385,
    "start_time": "2022-03-06T09:43:20.532Z"
   },
   {
    "duration": 282,
    "start_time": "2022-03-06T09:43:20.919Z"
   },
   {
    "duration": 412,
    "start_time": "2022-03-06T09:43:21.205Z"
   },
   {
    "duration": 6,
    "start_time": "2022-03-06T09:43:21.620Z"
   },
   {
    "duration": 13,
    "start_time": "2022-03-06T09:43:21.628Z"
   },
   {
    "duration": 293,
    "start_time": "2022-03-06T09:43:21.643Z"
   },
   {
    "duration": 5,
    "start_time": "2022-03-06T09:43:21.938Z"
   },
   {
    "duration": 396,
    "start_time": "2022-03-06T09:43:21.945Z"
   },
   {
    "duration": 6,
    "start_time": "2022-03-06T09:43:22.343Z"
   },
   {
    "duration": 320,
    "start_time": "2022-03-06T09:43:22.351Z"
   },
   {
    "duration": 408,
    "start_time": "2022-03-06T09:43:22.674Z"
   },
   {
    "duration": 5,
    "start_time": "2022-03-06T09:43:23.084Z"
   },
   {
    "duration": 14,
    "start_time": "2022-03-06T09:43:23.090Z"
   },
   {
    "duration": 286,
    "start_time": "2022-03-06T09:43:23.106Z"
   },
   {
    "duration": 15,
    "start_time": "2022-03-06T09:43:23.394Z"
   },
   {
    "duration": 133,
    "start_time": "2022-03-06T09:43:23.410Z"
   },
   {
    "duration": 5,
    "start_time": "2022-03-06T09:43:23.545Z"
   },
   {
    "duration": 12,
    "start_time": "2022-03-06T09:43:23.552Z"
   },
   {
    "duration": 4,
    "start_time": "2022-03-06T09:43:23.567Z"
   },
   {
    "duration": 30,
    "start_time": "2022-03-06T09:43:23.574Z"
   },
   {
    "duration": 11,
    "start_time": "2022-03-06T09:43:23.607Z"
   },
   {
    "duration": 14,
    "start_time": "2022-03-06T09:43:23.620Z"
   },
   {
    "duration": 9,
    "start_time": "2022-03-06T09:43:23.636Z"
   },
   {
    "duration": 5,
    "start_time": "2022-03-06T09:43:23.647Z"
   },
   {
    "duration": 11,
    "start_time": "2022-03-06T09:43:23.654Z"
   },
   {
    "duration": 308,
    "start_time": "2022-03-06T09:47:31.749Z"
   },
   {
    "duration": 7,
    "start_time": "2022-03-06T09:47:45.899Z"
   },
   {
    "duration": 6,
    "start_time": "2022-03-06T09:48:02.030Z"
   },
   {
    "duration": 99,
    "start_time": "2022-03-06T09:48:54.679Z"
   },
   {
    "duration": 8,
    "start_time": "2022-03-06T09:49:02.439Z"
   },
   {
    "duration": 8,
    "start_time": "2022-03-06T09:49:08.979Z"
   },
   {
    "duration": 72,
    "start_time": "2022-03-06T09:50:37.368Z"
   },
   {
    "duration": 14,
    "start_time": "2022-03-06T09:51:28.166Z"
   },
   {
    "duration": 19,
    "start_time": "2022-03-06T09:51:58.177Z"
   },
   {
    "duration": 29,
    "start_time": "2022-03-06T09:52:28.226Z"
   },
   {
    "duration": 1121,
    "start_time": "2022-03-06T17:00:17.180Z"
   },
   {
    "duration": 40,
    "start_time": "2022-03-06T17:00:18.302Z"
   },
   {
    "duration": 10,
    "start_time": "2022-03-06T17:00:18.344Z"
   },
   {
    "duration": 9,
    "start_time": "2022-03-06T17:00:18.356Z"
   },
   {
    "duration": 14,
    "start_time": "2022-03-06T17:00:18.366Z"
   },
   {
    "duration": 22,
    "start_time": "2022-03-06T17:00:18.382Z"
   },
   {
    "duration": 6,
    "start_time": "2022-03-06T17:00:18.406Z"
   },
   {
    "duration": 7,
    "start_time": "2022-03-06T17:00:18.435Z"
   },
   {
    "duration": 192,
    "start_time": "2022-03-06T17:00:18.445Z"
   },
   {
    "duration": 19,
    "start_time": "2022-03-06T17:00:18.639Z"
   },
   {
    "duration": 9,
    "start_time": "2022-03-06T17:00:18.660Z"
   },
   {
    "duration": 8,
    "start_time": "2022-03-06T17:00:18.670Z"
   },
   {
    "duration": 12,
    "start_time": "2022-03-06T17:00:18.679Z"
   },
   {
    "duration": 41,
    "start_time": "2022-03-06T17:00:18.693Z"
   },
   {
    "duration": 16,
    "start_time": "2022-03-06T17:00:18.736Z"
   },
   {
    "duration": 14,
    "start_time": "2022-03-06T17:00:18.754Z"
   },
   {
    "duration": 326,
    "start_time": "2022-03-06T17:00:18.770Z"
   },
   {
    "duration": 11,
    "start_time": "2022-03-06T17:00:19.097Z"
   },
   {
    "duration": 324,
    "start_time": "2022-03-06T17:00:19.110Z"
   },
   {
    "duration": 247,
    "start_time": "2022-03-06T17:00:19.436Z"
   },
   {
    "duration": 323,
    "start_time": "2022-03-06T17:00:19.685Z"
   },
   {
    "duration": 260,
    "start_time": "2022-03-06T17:00:20.010Z"
   },
   {
    "duration": 337,
    "start_time": "2022-03-06T17:00:20.274Z"
   },
   {
    "duration": 7,
    "start_time": "2022-03-06T17:00:20.614Z"
   },
   {
    "duration": 8,
    "start_time": "2022-03-06T17:00:20.632Z"
   },
   {
    "duration": 276,
    "start_time": "2022-03-06T17:00:20.642Z"
   },
   {
    "duration": 14,
    "start_time": "2022-03-06T17:00:20.920Z"
   },
   {
    "duration": 332,
    "start_time": "2022-03-06T17:00:20.936Z"
   },
   {
    "duration": 5,
    "start_time": "2022-03-06T17:00:21.270Z"
   },
   {
    "duration": 304,
    "start_time": "2022-03-06T17:00:21.276Z"
   },
   {
    "duration": 353,
    "start_time": "2022-03-06T17:00:21.581Z"
   },
   {
    "duration": 4,
    "start_time": "2022-03-06T17:00:21.936Z"
   },
   {
    "duration": 5,
    "start_time": "2022-03-06T17:00:21.942Z"
   },
   {
    "duration": 279,
    "start_time": "2022-03-06T17:00:21.949Z"
   },
   {
    "duration": 11,
    "start_time": "2022-03-06T17:00:22.233Z"
   },
   {
    "duration": 119,
    "start_time": "2022-03-06T17:00:22.245Z"
   },
   {
    "duration": 7,
    "start_time": "2022-03-06T17:00:22.366Z"
   },
   {
    "duration": 7,
    "start_time": "2022-03-06T17:00:22.375Z"
   },
   {
    "duration": 7,
    "start_time": "2022-03-06T17:00:22.384Z"
   },
   {
    "duration": 4,
    "start_time": "2022-03-06T17:00:22.393Z"
   },
   {
    "duration": 40,
    "start_time": "2022-03-06T17:00:22.399Z"
   },
   {
    "duration": 11,
    "start_time": "2022-03-06T17:00:22.442Z"
   },
   {
    "duration": 11,
    "start_time": "2022-03-06T17:00:22.454Z"
   },
   {
    "duration": 7,
    "start_time": "2022-03-06T17:00:22.467Z"
   },
   {
    "duration": 4,
    "start_time": "2022-03-06T17:00:22.476Z"
   },
   {
    "duration": 10,
    "start_time": "2022-03-06T17:00:22.482Z"
   },
   {
    "duration": 65,
    "start_time": "2022-03-06T17:00:22.493Z"
   },
   {
    "duration": 6,
    "start_time": "2022-03-06T17:04:46.193Z"
   },
   {
    "duration": 7,
    "start_time": "2022-03-06T17:04:55.422Z"
   },
   {
    "duration": 8,
    "start_time": "2022-03-06T17:05:01.552Z"
   },
   {
    "duration": 8,
    "start_time": "2022-03-06T17:05:09.714Z"
   },
   {
    "duration": 57,
    "start_time": "2022-03-06T17:05:30.584Z"
   },
   {
    "duration": 61,
    "start_time": "2022-03-06T17:05:33.864Z"
   },
   {
    "duration": 9,
    "start_time": "2022-03-06T17:05:52.321Z"
   },
   {
    "duration": 10,
    "start_time": "2022-03-06T17:07:24.468Z"
   },
   {
    "duration": 10,
    "start_time": "2022-03-06T17:09:41.617Z"
   },
   {
    "duration": 5,
    "start_time": "2022-03-06T17:09:47.536Z"
   },
   {
    "duration": 56,
    "start_time": "2022-03-06T17:12:09.445Z"
   },
   {
    "duration": 287,
    "start_time": "2022-03-06T17:12:13.390Z"
   },
   {
    "duration": 59,
    "start_time": "2022-03-06T17:12:33.607Z"
   },
   {
    "duration": 10,
    "start_time": "2022-03-06T17:12:38.214Z"
   },
   {
    "duration": 1552,
    "start_time": "2022-03-09T09:36:02.828Z"
   },
   {
    "duration": 50,
    "start_time": "2022-03-09T09:36:04.383Z"
   },
   {
    "duration": 20,
    "start_time": "2022-03-09T09:36:04.441Z"
   },
   {
    "duration": 14,
    "start_time": "2022-03-09T09:36:04.472Z"
   },
   {
    "duration": 14,
    "start_time": "2022-03-09T09:36:04.489Z"
   },
   {
    "duration": 27,
    "start_time": "2022-03-09T09:36:04.506Z"
   },
   {
    "duration": 39,
    "start_time": "2022-03-09T09:36:04.537Z"
   },
   {
    "duration": 14,
    "start_time": "2022-03-09T09:36:04.579Z"
   },
   {
    "duration": 467,
    "start_time": "2022-03-09T09:36:04.596Z"
   },
   {
    "duration": 38,
    "start_time": "2022-03-09T09:36:05.065Z"
   },
   {
    "duration": 21,
    "start_time": "2022-03-09T09:36:05.105Z"
   },
   {
    "duration": 29,
    "start_time": "2022-03-09T09:36:05.128Z"
   },
   {
    "duration": 18,
    "start_time": "2022-03-09T09:36:05.173Z"
   },
   {
    "duration": 13,
    "start_time": "2022-03-09T09:36:05.193Z"
   },
   {
    "duration": 36,
    "start_time": "2022-03-09T09:36:05.208Z"
   },
   {
    "duration": 34,
    "start_time": "2022-03-09T09:36:05.246Z"
   },
   {
    "duration": 796,
    "start_time": "2022-03-09T09:36:05.282Z"
   },
   {
    "duration": 14,
    "start_time": "2022-03-09T09:36:06.080Z"
   },
   {
    "duration": 476,
    "start_time": "2022-03-09T09:36:06.097Z"
   },
   {
    "duration": 447,
    "start_time": "2022-03-09T09:36:06.575Z"
   },
   {
    "duration": 556,
    "start_time": "2022-03-09T09:36:07.025Z"
   },
   {
    "duration": 462,
    "start_time": "2022-03-09T09:36:07.586Z"
   },
   {
    "duration": 742,
    "start_time": "2022-03-09T09:36:08.052Z"
   },
   {
    "duration": 11,
    "start_time": "2022-03-09T09:36:08.798Z"
   },
   {
    "duration": 29,
    "start_time": "2022-03-09T09:36:08.812Z"
   },
   {
    "duration": 458,
    "start_time": "2022-03-09T09:36:08.844Z"
   },
   {
    "duration": 8,
    "start_time": "2022-03-09T09:36:09.306Z"
   },
   {
    "duration": 577,
    "start_time": "2022-03-09T09:36:09.318Z"
   },
   {
    "duration": 9,
    "start_time": "2022-03-09T09:36:09.898Z"
   },
   {
    "duration": 569,
    "start_time": "2022-03-09T09:36:09.909Z"
   },
   {
    "duration": 759,
    "start_time": "2022-03-09T09:36:10.481Z"
   },
   {
    "duration": 11,
    "start_time": "2022-03-09T09:36:11.243Z"
   },
   {
    "duration": 20,
    "start_time": "2022-03-09T09:36:11.257Z"
   },
   {
    "duration": 479,
    "start_time": "2022-03-09T09:36:11.279Z"
   },
   {
    "duration": 29,
    "start_time": "2022-03-09T09:36:11.760Z"
   },
   {
    "duration": 263,
    "start_time": "2022-03-09T09:36:11.791Z"
   },
   {
    "duration": 18,
    "start_time": "2022-03-09T09:36:12.057Z"
   },
   {
    "duration": 9,
    "start_time": "2022-03-09T09:36:12.077Z"
   },
   {
    "duration": 11,
    "start_time": "2022-03-09T09:36:12.089Z"
   },
   {
    "duration": 5,
    "start_time": "2022-03-09T09:36:12.103Z"
   },
   {
    "duration": 18,
    "start_time": "2022-03-09T09:36:12.111Z"
   },
   {
    "duration": 48,
    "start_time": "2022-03-09T09:36:12.131Z"
   },
   {
    "duration": 26,
    "start_time": "2022-03-09T09:36:12.182Z"
   },
   {
    "duration": 16,
    "start_time": "2022-03-09T09:36:12.211Z"
   },
   {
    "duration": 7,
    "start_time": "2022-03-09T09:36:12.230Z"
   },
   {
    "duration": 44,
    "start_time": "2022-03-09T09:36:12.240Z"
   },
   {
    "duration": 52,
    "start_time": "2022-03-09T09:36:12.286Z"
   },
   {
    "duration": 425,
    "start_time": "2022-03-09T09:37:12.646Z"
   },
   {
    "duration": 298,
    "start_time": "2022-03-09T09:37:38.465Z"
   },
   {
    "duration": 279,
    "start_time": "2022-03-09T09:38:12.156Z"
   },
   {
    "duration": 864,
    "start_time": "2022-03-09T09:38:15.945Z"
   },
   {
    "duration": 59,
    "start_time": "2022-03-09T09:39:53.643Z"
   },
   {
    "duration": 307,
    "start_time": "2022-03-09T09:48:22.037Z"
   },
   {
    "duration": 1119,
    "start_time": "2022-03-09T09:49:07.800Z"
   },
   {
    "duration": 1956,
    "start_time": "2022-03-09T09:49:46.996Z"
   },
   {
    "duration": 921,
    "start_time": "2022-03-09T09:50:37.695Z"
   },
   {
    "duration": 1244,
    "start_time": "2022-03-09T09:50:54.386Z"
   },
   {
    "duration": 817,
    "start_time": "2022-03-09T09:51:54.845Z"
   },
   {
    "duration": 1329,
    "start_time": "2022-07-16T11:37:16.313Z"
   },
   {
    "duration": 246,
    "start_time": "2022-07-16T11:37:17.644Z"
   },
   {
    "duration": 12,
    "start_time": "2022-07-16T11:37:17.893Z"
   },
   {
    "duration": 9,
    "start_time": "2022-07-16T11:37:17.907Z"
   },
   {
    "duration": 10,
    "start_time": "2022-07-16T11:37:17.917Z"
   },
   {
    "duration": 28,
    "start_time": "2022-07-16T11:37:17.929Z"
   },
   {
    "duration": 9,
    "start_time": "2022-07-16T11:37:17.959Z"
   },
   {
    "duration": 22,
    "start_time": "2022-07-16T11:37:17.974Z"
   },
   {
    "duration": 82,
    "start_time": "2022-07-16T11:37:17.998Z"
   },
   {
    "duration": 18,
    "start_time": "2022-07-16T11:37:18.082Z"
   },
   {
    "duration": 10,
    "start_time": "2022-07-16T11:37:18.102Z"
   },
   {
    "duration": 6,
    "start_time": "2022-07-16T11:37:18.113Z"
   },
   {
    "duration": 13,
    "start_time": "2022-07-16T11:37:18.120Z"
   },
   {
    "duration": 47,
    "start_time": "2022-07-16T11:37:18.135Z"
   },
   {
    "duration": 15,
    "start_time": "2022-07-16T11:37:18.184Z"
   },
   {
    "duration": 72,
    "start_time": "2022-07-16T11:37:18.201Z"
   },
   {
    "duration": 18,
    "start_time": "2022-07-16T11:37:18.275Z"
   },
   {
    "duration": 323,
    "start_time": "2022-07-16T11:37:18.296Z"
   },
   {
    "duration": 10,
    "start_time": "2022-07-16T11:37:18.628Z"
   },
   {
    "duration": 311,
    "start_time": "2022-07-16T11:37:18.640Z"
   },
   {
    "duration": 250,
    "start_time": "2022-07-16T11:37:18.952Z"
   },
   {
    "duration": 354,
    "start_time": "2022-07-16T11:37:19.204Z"
   },
   {
    "duration": 244,
    "start_time": "2022-07-16T11:37:19.560Z"
   },
   {
    "duration": 319,
    "start_time": "2022-07-16T11:37:19.806Z"
   },
   {
    "duration": 5,
    "start_time": "2022-07-16T11:37:20.127Z"
   },
   {
    "duration": 23,
    "start_time": "2022-07-16T11:37:20.134Z"
   },
   {
    "duration": 133,
    "start_time": "2022-07-16T11:37:20.158Z"
   },
   {
    "duration": 4,
    "start_time": "2022-07-16T11:37:20.295Z"
   },
   {
    "duration": 233,
    "start_time": "2022-07-16T11:37:20.301Z"
   },
   {
    "duration": 6,
    "start_time": "2022-07-16T11:37:20.536Z"
   },
   {
    "duration": 281,
    "start_time": "2022-07-16T11:37:20.543Z"
   },
   {
    "duration": 314,
    "start_time": "2022-07-16T11:37:20.826Z"
   },
   {
    "duration": 19,
    "start_time": "2022-07-16T11:37:21.143Z"
   },
   {
    "duration": 27,
    "start_time": "2022-07-16T11:37:21.164Z"
   },
   {
    "duration": 244,
    "start_time": "2022-07-16T11:37:21.192Z"
   },
   {
    "duration": 23,
    "start_time": "2022-07-16T11:37:21.438Z"
   },
   {
    "duration": 167,
    "start_time": "2022-07-16T11:37:21.464Z"
   },
   {
    "duration": 25,
    "start_time": "2022-07-16T11:37:21.632Z"
   },
   {
    "duration": 30,
    "start_time": "2022-07-16T11:37:21.663Z"
   },
   {
    "duration": 21,
    "start_time": "2022-07-16T11:37:21.695Z"
   },
   {
    "duration": 4,
    "start_time": "2022-07-16T11:37:21.718Z"
   },
   {
    "duration": 11,
    "start_time": "2022-07-16T11:37:21.724Z"
   },
   {
    "duration": 18,
    "start_time": "2022-07-16T11:37:21.755Z"
   },
   {
    "duration": 25,
    "start_time": "2022-07-16T11:37:21.775Z"
   },
   {
    "duration": 21,
    "start_time": "2022-07-16T11:37:21.802Z"
   },
   {
    "duration": 4,
    "start_time": "2022-07-16T11:37:21.825Z"
   },
   {
    "duration": 14,
    "start_time": "2022-07-16T11:37:21.830Z"
   },
   {
    "duration": 69,
    "start_time": "2022-07-16T11:37:21.845Z"
   }
  ],
  "kernelspec": {
   "display_name": "Python 3 (ipykernel)",
   "language": "python",
   "name": "python3"
  },
  "language_info": {
   "codemirror_mode": {
    "name": "ipython",
    "version": 3
   },
   "file_extension": ".py",
   "mimetype": "text/x-python",
   "name": "python",
   "nbconvert_exporter": "python",
   "pygments_lexer": "ipython3",
   "version": "3.9.12"
  },
  "toc": {
   "base_numbering": 1,
   "nav_menu": {},
   "number_sections": true,
   "sideBar": true,
   "skip_h1_title": true,
   "title_cell": "Table of Contents",
   "title_sidebar": "Contents",
   "toc_cell": false,
   "toc_position": {
    "height": "calc(100% - 180px)",
    "left": "10px",
    "top": "150px",
    "width": "344.391px"
   },
   "toc_section_display": true,
   "toc_window_display": true
  }
 },
 "nbformat": 4,
 "nbformat_minor": 2
}
